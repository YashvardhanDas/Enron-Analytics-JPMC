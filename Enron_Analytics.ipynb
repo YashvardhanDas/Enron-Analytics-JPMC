{
  "nbformat": 4,
  "nbformat_minor": 0,
  "metadata": {
    "colab": {
      "name": "Enron Analytics.ipynb",
      "provenance": [],
      "collapsed_sections": [
        "2zGENsxCL19U"
      ],
      "authorship_tag": "ABX9TyNWmsB5SXbvv/4zY9OB/qOx",
      "include_colab_link": true
    },
    "kernelspec": {
      "name": "python3",
      "display_name": "Python 3"
    },
    "language_info": {
      "name": "python"
    }
  },
  "cells": [
    {
      "cell_type": "markdown",
      "metadata": {
        "id": "view-in-github",
        "colab_type": "text"
      },
      "source": [
        "<a href=\"https://colab.research.google.com/github/YashvardhanDas/Enron-Analytics-JPMC/blob/main/Enron_Analytics.ipynb\" target=\"_parent\"><img src=\"https://colab.research.google.com/assets/colab-badge.svg\" alt=\"Open In Colab\"/></a>"
      ]
    },
    {
      "cell_type": "markdown",
      "metadata": {
        "id": "YQtcH8QiZt1H"
      },
      "source": [
        "### CHALLENGE 1: NLP\n",
        "\n",
        "Enron Analytics:\n",
        "\n",
        "This is a cleaned up version of a subset of the Enron emails. https://www.kaggle.com/loryn808/truncated-enron\n",
        "\n",
        "Can you create data from the Enron emails for analysis?  Feel free to do any data  viz you think may be necessary.\n",
        "Example:\n",
        "\n",
        "How many emails were sent and received over a span of time (maybe on a per week or a per month bucket) for a particular email address?\n",
        "\n",
        "What are the most commonly mentioned topic in the email body?  Topic could be a person, company/org, event,  significant noun phrases, etc.\n",
        "\n",
        "The above are just suggestions.  Feel free to be creative. You can also extract other items from the emails that you think will be useful.\n",
        "\n",
        "Can you think of use cases where this data might be useful?\n",
        "Example:\n",
        "\n",
        "Can you use this data set to predict who the possible email sender is?\n",
        "\n",
        "Can you use this data set to classify an email to a certain topic?\n",
        "\n",
        "The above are just suggestions.  Feel free to be creative."
      ]
    },
    {
      "cell_type": "markdown",
      "metadata": {
        "id": "53GXkRj5HpBB"
      },
      "source": [
        "#### **IMPORTING THE RELEVANT LIBRARIES**"
      ]
    },
    {
      "cell_type": "code",
      "metadata": {
        "id": "xJJCKPnEWsdD",
        "colab": {
          "base_uri": "https://localhost:8080/"
        },
        "outputId": "41728298-0c9d-4a22-dc98-fcc0b3a41360"
      },
      "source": [
        "#!pip install pandas --upgrade\n",
        "!pip install pyLDAvis\n",
        "!pip install pandasql\n",
        "import warnings\n",
        "warnings.filterwarnings(\"ignore\", category=DeprecationWarning)\n",
        "from pandasql import sqldf\n",
        "import datetime\n",
        "import numpy as np\n",
        "import pandas as pd\n",
        "import matplotlib.pyplot as plt\n",
        "import seaborn as sns\n",
        "%matplotlib inline"
      ],
      "execution_count": 53,
      "outputs": [
        {
          "output_type": "stream",
          "name": "stdout",
          "text": [
            "Requirement already satisfied: pyLDAvis in /usr/local/lib/python3.7/dist-packages (3.3.1)\n",
            "Requirement already satisfied: joblib in /usr/local/lib/python3.7/dist-packages (from pyLDAvis) (1.1.0)\n",
            "Requirement already satisfied: gensim in /usr/local/lib/python3.7/dist-packages (from pyLDAvis) (3.6.0)\n",
            "Requirement already satisfied: pandas>=1.2.0 in /usr/local/lib/python3.7/dist-packages (from pyLDAvis) (1.3.4)\n",
            "Requirement already satisfied: setuptools in /usr/local/lib/python3.7/dist-packages (from pyLDAvis) (57.4.0)\n",
            "Requirement already satisfied: sklearn in /usr/local/lib/python3.7/dist-packages (from pyLDAvis) (0.0)\n",
            "Requirement already satisfied: scikit-learn in /usr/local/lib/python3.7/dist-packages (from pyLDAvis) (0.22.2.post1)\n",
            "Requirement already satisfied: jinja2 in /usr/local/lib/python3.7/dist-packages (from pyLDAvis) (2.11.3)\n",
            "Requirement already satisfied: numexpr in /usr/local/lib/python3.7/dist-packages (from pyLDAvis) (2.7.3)\n",
            "Requirement already satisfied: numpy>=1.20.0 in /usr/local/lib/python3.7/dist-packages (from pyLDAvis) (1.21.4)\n",
            "Requirement already satisfied: future in /usr/local/lib/python3.7/dist-packages (from pyLDAvis) (0.16.0)\n",
            "Requirement already satisfied: scipy in /usr/local/lib/python3.7/dist-packages (from pyLDAvis) (1.4.1)\n",
            "Requirement already satisfied: funcy in /usr/local/lib/python3.7/dist-packages (from pyLDAvis) (1.16)\n",
            "Requirement already satisfied: python-dateutil>=2.7.3 in /usr/local/lib/python3.7/dist-packages (from pandas>=1.2.0->pyLDAvis) (2.8.2)\n",
            "Requirement already satisfied: pytz>=2017.3 in /usr/local/lib/python3.7/dist-packages (from pandas>=1.2.0->pyLDAvis) (2018.9)\n",
            "Requirement already satisfied: six>=1.5 in /usr/local/lib/python3.7/dist-packages (from python-dateutil>=2.7.3->pandas>=1.2.0->pyLDAvis) (1.15.0)\n",
            "Requirement already satisfied: smart-open>=1.2.1 in /usr/local/lib/python3.7/dist-packages (from gensim->pyLDAvis) (5.2.1)\n",
            "Requirement already satisfied: MarkupSafe>=0.23 in /usr/local/lib/python3.7/dist-packages (from jinja2->pyLDAvis) (2.0.1)\n",
            "Requirement already satisfied: pandasql in /usr/local/lib/python3.7/dist-packages (0.7.3)\n",
            "Requirement already satisfied: sqlalchemy in /usr/local/lib/python3.7/dist-packages (from pandasql) (1.4.26)\n",
            "Requirement already satisfied: numpy in /usr/local/lib/python3.7/dist-packages (from pandasql) (1.21.4)\n",
            "Requirement already satisfied: pandas in /usr/local/lib/python3.7/dist-packages (from pandasql) (1.3.4)\n",
            "Requirement already satisfied: python-dateutil>=2.7.3 in /usr/local/lib/python3.7/dist-packages (from pandas->pandasql) (2.8.2)\n",
            "Requirement already satisfied: pytz>=2017.3 in /usr/local/lib/python3.7/dist-packages (from pandas->pandasql) (2018.9)\n",
            "Requirement already satisfied: six>=1.5 in /usr/local/lib/python3.7/dist-packages (from python-dateutil>=2.7.3->pandas->pandasql) (1.15.0)\n",
            "Requirement already satisfied: greenlet!=0.4.17 in /usr/local/lib/python3.7/dist-packages (from sqlalchemy->pandasql) (1.1.2)\n",
            "Requirement already satisfied: importlib-metadata in /usr/local/lib/python3.7/dist-packages (from sqlalchemy->pandasql) (4.8.2)\n",
            "Requirement already satisfied: typing-extensions>=3.6.4 in /usr/local/lib/python3.7/dist-packages (from importlib-metadata->sqlalchemy->pandasql) (3.10.0.2)\n",
            "Requirement already satisfied: zipp>=0.5 in /usr/local/lib/python3.7/dist-packages (from importlib-metadata->sqlalchemy->pandasql) (3.6.0)\n"
          ]
        }
      ]
    },
    {
      "cell_type": "code",
      "metadata": {
        "id": "u6SkMoZ5mmdO"
      },
      "source": [
        "import warnings\n",
        "warnings.filterwarnings(\"ignore\", category=DeprecationWarning)"
      ],
      "execution_count": 54,
      "outputs": []
    },
    {
      "cell_type": "markdown",
      "metadata": {
        "id": "hFpcmtWhH17h"
      },
      "source": [
        "#### **CREATING DATAFRAME AND PANDASQL OBJECT**"
      ]
    },
    {
      "cell_type": "code",
      "metadata": {
        "colab": {
          "base_uri": "https://localhost:8080/",
          "height": 204
        },
        "id": "-XsXB6NkXFb6",
        "outputId": "2077f0a7-b89a-42e3-de27-e2509bb5e1a2"
      },
      "source": [
        "pysqldf = lambda q: sqldf(q, globals())\n",
        "df = pd.read_csv('enron_test.csv', parse_dates = ['Date'])\n",
        "df.head()"
      ],
      "execution_count": 55,
      "outputs": [
        {
          "output_type": "execute_result",
          "data": {
            "text/html": [
              "<div>\n",
              "<style scoped>\n",
              "    .dataframe tbody tr th:only-of-type {\n",
              "        vertical-align: middle;\n",
              "    }\n",
              "\n",
              "    .dataframe tbody tr th {\n",
              "        vertical-align: top;\n",
              "    }\n",
              "\n",
              "    .dataframe thead th {\n",
              "        text-align: right;\n",
              "    }\n",
              "</style>\n",
              "<table border=\"1\" class=\"dataframe\">\n",
              "  <thead>\n",
              "    <tr style=\"text-align: right;\">\n",
              "      <th></th>\n",
              "      <th>Date</th>\n",
              "      <th>From</th>\n",
              "      <th>To</th>\n",
              "      <th>Subject</th>\n",
              "      <th>content</th>\n",
              "      <th>new_date</th>\n",
              "    </tr>\n",
              "  </thead>\n",
              "  <tbody>\n",
              "    <tr>\n",
              "      <th>0</th>\n",
              "      <td>2001-05-14 16:39:00-07:00</td>\n",
              "      <td>frozenset({'phillip.allen@enron.com'})</td>\n",
              "      <td>frozenset({'tim.belden@enron.com'})</td>\n",
              "      <td>NaN</td>\n",
              "      <td>Here is our forecast\\n\\n</td>\n",
              "      <td>2001-05-14 23:39:00</td>\n",
              "    </tr>\n",
              "    <tr>\n",
              "      <th>1</th>\n",
              "      <td>2001-05-04 13:51:00-07:00</td>\n",
              "      <td>frozenset({'phillip.allen@enron.com'})</td>\n",
              "      <td>frozenset({'john.lavorato@enron.com'})</td>\n",
              "      <td>Re:</td>\n",
              "      <td>Traveling to have a business meeting takes the...</td>\n",
              "      <td>2001-05-04 20:51:00</td>\n",
              "    </tr>\n",
              "    <tr>\n",
              "      <th>2</th>\n",
              "      <td>2000-10-18 03:00:00-07:00</td>\n",
              "      <td>frozenset({'phillip.allen@enron.com'})</td>\n",
              "      <td>frozenset({'leah.arsdall@enron.com'})</td>\n",
              "      <td>Re: test</td>\n",
              "      <td>test successful.  way to go!!!</td>\n",
              "      <td>2000-10-18 10:00:00</td>\n",
              "    </tr>\n",
              "    <tr>\n",
              "      <th>3</th>\n",
              "      <td>2000-10-23 06:13:00-07:00</td>\n",
              "      <td>frozenset({'phillip.allen@enron.com'})</td>\n",
              "      <td>frozenset({'randall.gay@enron.com'})</td>\n",
              "      <td>NaN</td>\n",
              "      <td>Randy,\\n\\n Can you send me a schedule of the s...</td>\n",
              "      <td>2000-10-23 13:13:00</td>\n",
              "    </tr>\n",
              "    <tr>\n",
              "      <th>4</th>\n",
              "      <td>2000-08-31 05:07:00-07:00</td>\n",
              "      <td>frozenset({'phillip.allen@enron.com'})</td>\n",
              "      <td>frozenset({'greg.piper@enron.com'})</td>\n",
              "      <td>Re: Hello</td>\n",
              "      <td>Let's shoot for Tuesday at 11:45.</td>\n",
              "      <td>2000-08-31 12:07:00</td>\n",
              "    </tr>\n",
              "  </tbody>\n",
              "</table>\n",
              "</div>"
            ],
            "text/plain": [
              "                        Date  ...             new_date\n",
              "0  2001-05-14 16:39:00-07:00  ...  2001-05-14 23:39:00\n",
              "1  2001-05-04 13:51:00-07:00  ...  2001-05-04 20:51:00\n",
              "2  2000-10-18 03:00:00-07:00  ...  2000-10-18 10:00:00\n",
              "3  2000-10-23 06:13:00-07:00  ...  2000-10-23 13:13:00\n",
              "4  2000-08-31 05:07:00-07:00  ...  2000-08-31 12:07:00\n",
              "\n",
              "[5 rows x 6 columns]"
            ]
          },
          "metadata": {},
          "execution_count": 55
        }
      ]
    },
    {
      "cell_type": "code",
      "metadata": {
        "colab": {
          "base_uri": "https://localhost:8080/"
        },
        "id": "PiyCiHDhXVGU",
        "outputId": "45c1d03d-81b1-4d42-ea93-441281a24d9e"
      },
      "source": [
        "## Checking initial data types of the columns\n",
        "df.dtypes"
      ],
      "execution_count": 56,
      "outputs": [
        {
          "output_type": "execute_result",
          "data": {
            "text/plain": [
              "Date        object\n",
              "From        object\n",
              "To          object\n",
              "Subject     object\n",
              "content     object\n",
              "new_date    object\n",
              "dtype: object"
            ]
          },
          "metadata": {},
          "execution_count": 56
        }
      ]
    },
    {
      "cell_type": "code",
      "metadata": {
        "colab": {
          "base_uri": "https://localhost:8080/"
        },
        "id": "S1vrVp32riw0",
        "outputId": "e324c869-9821-48d2-8869-b10df302e5f5"
      },
      "source": [
        "## All values of 'Date' and 'new_date' are the same. So, we can drop the 'new_date' column\n",
        "\n",
        "col1 = np.where(df[\"Date\"] == df[\"new_date\"], True, False)\n",
        "(unique, counts) = np.unique(col1, return_counts=True)\n",
        "frequencies = np.asarray((unique, counts)).T\n",
        "frequencies"
      ],
      "execution_count": 57,
      "outputs": [
        {
          "output_type": "execute_result",
          "data": {
            "text/plain": [
              "array([[   0, 1000]])"
            ]
          },
          "metadata": {},
          "execution_count": 57
        }
      ]
    },
    {
      "cell_type": "code",
      "metadata": {
        "colab": {
          "base_uri": "https://localhost:8080/",
          "height": 419
        },
        "id": "wLXx9-7T_q2C",
        "outputId": "c8adf144-c409-4a1d-bbe2-f82a12b61f6c"
      },
      "source": [
        "df.drop('new_date', axis = 1, inplace = True)\n",
        "df"
      ],
      "execution_count": 58,
      "outputs": [
        {
          "output_type": "execute_result",
          "data": {
            "text/html": [
              "<div>\n",
              "<style scoped>\n",
              "    .dataframe tbody tr th:only-of-type {\n",
              "        vertical-align: middle;\n",
              "    }\n",
              "\n",
              "    .dataframe tbody tr th {\n",
              "        vertical-align: top;\n",
              "    }\n",
              "\n",
              "    .dataframe thead th {\n",
              "        text-align: right;\n",
              "    }\n",
              "</style>\n",
              "<table border=\"1\" class=\"dataframe\">\n",
              "  <thead>\n",
              "    <tr style=\"text-align: right;\">\n",
              "      <th></th>\n",
              "      <th>Date</th>\n",
              "      <th>From</th>\n",
              "      <th>To</th>\n",
              "      <th>Subject</th>\n",
              "      <th>content</th>\n",
              "    </tr>\n",
              "  </thead>\n",
              "  <tbody>\n",
              "    <tr>\n",
              "      <th>0</th>\n",
              "      <td>2001-05-14 16:39:00-07:00</td>\n",
              "      <td>frozenset({'phillip.allen@enron.com'})</td>\n",
              "      <td>frozenset({'tim.belden@enron.com'})</td>\n",
              "      <td>NaN</td>\n",
              "      <td>Here is our forecast\\n\\n</td>\n",
              "    </tr>\n",
              "    <tr>\n",
              "      <th>1</th>\n",
              "      <td>2001-05-04 13:51:00-07:00</td>\n",
              "      <td>frozenset({'phillip.allen@enron.com'})</td>\n",
              "      <td>frozenset({'john.lavorato@enron.com'})</td>\n",
              "      <td>Re:</td>\n",
              "      <td>Traveling to have a business meeting takes the...</td>\n",
              "    </tr>\n",
              "    <tr>\n",
              "      <th>2</th>\n",
              "      <td>2000-10-18 03:00:00-07:00</td>\n",
              "      <td>frozenset({'phillip.allen@enron.com'})</td>\n",
              "      <td>frozenset({'leah.arsdall@enron.com'})</td>\n",
              "      <td>Re: test</td>\n",
              "      <td>test successful.  way to go!!!</td>\n",
              "    </tr>\n",
              "    <tr>\n",
              "      <th>3</th>\n",
              "      <td>2000-10-23 06:13:00-07:00</td>\n",
              "      <td>frozenset({'phillip.allen@enron.com'})</td>\n",
              "      <td>frozenset({'randall.gay@enron.com'})</td>\n",
              "      <td>NaN</td>\n",
              "      <td>Randy,\\n\\n Can you send me a schedule of the s...</td>\n",
              "    </tr>\n",
              "    <tr>\n",
              "      <th>4</th>\n",
              "      <td>2000-08-31 05:07:00-07:00</td>\n",
              "      <td>frozenset({'phillip.allen@enron.com'})</td>\n",
              "      <td>frozenset({'greg.piper@enron.com'})</td>\n",
              "      <td>Re: Hello</td>\n",
              "      <td>Let's shoot for Tuesday at 11:45.</td>\n",
              "    </tr>\n",
              "    <tr>\n",
              "      <th>...</th>\n",
              "      <td>...</td>\n",
              "      <td>...</td>\n",
              "      <td>...</td>\n",
              "      <td>...</td>\n",
              "      <td>...</td>\n",
              "    </tr>\n",
              "    <tr>\n",
              "      <th>995</th>\n",
              "      <td>2001-03-19 01:36:00-08:00</td>\n",
              "      <td>frozenset({'phillip.allen@enron.com'})</td>\n",
              "      <td>frozenset({'jacquestc@aol.com'})</td>\n",
              "      <td>NaN</td>\n",
              "      <td>Jacques,\\n\\nStill trying to close the loop on ...</td>\n",
              "    </tr>\n",
              "    <tr>\n",
              "      <th>996</th>\n",
              "      <td>2001-03-19 00:45:00-08:00</td>\n",
              "      <td>frozenset({'phillip.allen@enron.com'})</td>\n",
              "      <td>frozenset({'llewter@austin.rr.com'})</td>\n",
              "      <td>Re: Buyout</td>\n",
              "      <td>Larrry,\\n\\nI realize you are disappointed abou...</td>\n",
              "    </tr>\n",
              "    <tr>\n",
              "      <th>997</th>\n",
              "      <td>2000-12-06 08:04:00-08:00</td>\n",
              "      <td>frozenset({'phillip.allen@enron.com'})</td>\n",
              "      <td>frozenset({'pallen70@hotmail.com'})</td>\n",
              "      <td>NaN</td>\n",
              "      <td>---------------------- Forwarded by Phillip K ...</td>\n",
              "    </tr>\n",
              "    <tr>\n",
              "      <th>998</th>\n",
              "      <td>2001-03-16 04:28:00-08:00</td>\n",
              "      <td>frozenset({'phillip.allen@enron.com'})</td>\n",
              "      <td>frozenset({'jacquestc@aol.com'})</td>\n",
              "      <td>NaN</td>\n",
              "      <td>Jacques,\\n\\nI think we reached an agreement wi...</td>\n",
              "    </tr>\n",
              "    <tr>\n",
              "      <th>999</th>\n",
              "      <td>2001-03-15 07:42:00-08:00</td>\n",
              "      <td>frozenset({'phillip.allen@enron.com'})</td>\n",
              "      <td>frozenset({'matt.smith@enron.com'})</td>\n",
              "      <td>Matt Smith</td>\n",
              "      <td>---------------------- Forwarded by Phillip K ...</td>\n",
              "    </tr>\n",
              "  </tbody>\n",
              "</table>\n",
              "<p>1000 rows × 5 columns</p>\n",
              "</div>"
            ],
            "text/plain": [
              "                          Date  ...                                            content\n",
              "0    2001-05-14 16:39:00-07:00  ...                          Here is our forecast\\n\\n \n",
              "1    2001-05-04 13:51:00-07:00  ...  Traveling to have a business meeting takes the...\n",
              "2    2000-10-18 03:00:00-07:00  ...                     test successful.  way to go!!!\n",
              "3    2000-10-23 06:13:00-07:00  ...  Randy,\\n\\n Can you send me a schedule of the s...\n",
              "4    2000-08-31 05:07:00-07:00  ...                Let's shoot for Tuesday at 11:45.  \n",
              "..                         ...  ...                                                ...\n",
              "995  2001-03-19 01:36:00-08:00  ...  Jacques,\\n\\nStill trying to close the loop on ...\n",
              "996  2001-03-19 00:45:00-08:00  ...  Larrry,\\n\\nI realize you are disappointed abou...\n",
              "997  2000-12-06 08:04:00-08:00  ...  ---------------------- Forwarded by Phillip K ...\n",
              "998  2001-03-16 04:28:00-08:00  ...  Jacques,\\n\\nI think we reached an agreement wi...\n",
              "999  2001-03-15 07:42:00-08:00  ...  ---------------------- Forwarded by Phillip K ...\n",
              "\n",
              "[1000 rows x 5 columns]"
            ]
          },
          "metadata": {},
          "execution_count": 58
        }
      ]
    },
    {
      "cell_type": "markdown",
      "metadata": {
        "id": "IGaSzGY3ILHh"
      },
      "source": [
        "#### **CONVERTING THE DATA TYPE OF 'DATE' COLUMN**"
      ]
    },
    {
      "cell_type": "code",
      "metadata": {
        "colab": {
          "base_uri": "https://localhost:8080/",
          "height": 204
        },
        "id": "GuqGpwtbXi8V",
        "outputId": "fe63b376-e9bb-4f36-cc32-3c7060bc8ca9"
      },
      "source": [
        "## Converting columns to 'Date' from object to date type\n",
        "\n",
        "df['Date'] = pd.to_datetime(df['Date'],utc=True)\n",
        "df.head()"
      ],
      "execution_count": 59,
      "outputs": [
        {
          "output_type": "execute_result",
          "data": {
            "text/html": [
              "<div>\n",
              "<style scoped>\n",
              "    .dataframe tbody tr th:only-of-type {\n",
              "        vertical-align: middle;\n",
              "    }\n",
              "\n",
              "    .dataframe tbody tr th {\n",
              "        vertical-align: top;\n",
              "    }\n",
              "\n",
              "    .dataframe thead th {\n",
              "        text-align: right;\n",
              "    }\n",
              "</style>\n",
              "<table border=\"1\" class=\"dataframe\">\n",
              "  <thead>\n",
              "    <tr style=\"text-align: right;\">\n",
              "      <th></th>\n",
              "      <th>Date</th>\n",
              "      <th>From</th>\n",
              "      <th>To</th>\n",
              "      <th>Subject</th>\n",
              "      <th>content</th>\n",
              "    </tr>\n",
              "  </thead>\n",
              "  <tbody>\n",
              "    <tr>\n",
              "      <th>0</th>\n",
              "      <td>2001-05-14 23:39:00+00:00</td>\n",
              "      <td>frozenset({'phillip.allen@enron.com'})</td>\n",
              "      <td>frozenset({'tim.belden@enron.com'})</td>\n",
              "      <td>NaN</td>\n",
              "      <td>Here is our forecast\\n\\n</td>\n",
              "    </tr>\n",
              "    <tr>\n",
              "      <th>1</th>\n",
              "      <td>2001-05-04 20:51:00+00:00</td>\n",
              "      <td>frozenset({'phillip.allen@enron.com'})</td>\n",
              "      <td>frozenset({'john.lavorato@enron.com'})</td>\n",
              "      <td>Re:</td>\n",
              "      <td>Traveling to have a business meeting takes the...</td>\n",
              "    </tr>\n",
              "    <tr>\n",
              "      <th>2</th>\n",
              "      <td>2000-10-18 10:00:00+00:00</td>\n",
              "      <td>frozenset({'phillip.allen@enron.com'})</td>\n",
              "      <td>frozenset({'leah.arsdall@enron.com'})</td>\n",
              "      <td>Re: test</td>\n",
              "      <td>test successful.  way to go!!!</td>\n",
              "    </tr>\n",
              "    <tr>\n",
              "      <th>3</th>\n",
              "      <td>2000-10-23 13:13:00+00:00</td>\n",
              "      <td>frozenset({'phillip.allen@enron.com'})</td>\n",
              "      <td>frozenset({'randall.gay@enron.com'})</td>\n",
              "      <td>NaN</td>\n",
              "      <td>Randy,\\n\\n Can you send me a schedule of the s...</td>\n",
              "    </tr>\n",
              "    <tr>\n",
              "      <th>4</th>\n",
              "      <td>2000-08-31 12:07:00+00:00</td>\n",
              "      <td>frozenset({'phillip.allen@enron.com'})</td>\n",
              "      <td>frozenset({'greg.piper@enron.com'})</td>\n",
              "      <td>Re: Hello</td>\n",
              "      <td>Let's shoot for Tuesday at 11:45.</td>\n",
              "    </tr>\n",
              "  </tbody>\n",
              "</table>\n",
              "</div>"
            ],
            "text/plain": [
              "                       Date  ...                                            content\n",
              "0 2001-05-14 23:39:00+00:00  ...                          Here is our forecast\\n\\n \n",
              "1 2001-05-04 20:51:00+00:00  ...  Traveling to have a business meeting takes the...\n",
              "2 2000-10-18 10:00:00+00:00  ...                     test successful.  way to go!!!\n",
              "3 2000-10-23 13:13:00+00:00  ...  Randy,\\n\\n Can you send me a schedule of the s...\n",
              "4 2000-08-31 12:07:00+00:00  ...                Let's shoot for Tuesday at 11:45.  \n",
              "\n",
              "[5 rows x 5 columns]"
            ]
          },
          "metadata": {},
          "execution_count": 59
        }
      ]
    },
    {
      "cell_type": "code",
      "metadata": {
        "colab": {
          "base_uri": "https://localhost:8080/",
          "height": 419
        },
        "id": "LP3C6lR7udi1",
        "outputId": "e10a5830-0115-45e8-86b3-ce20d6953f28"
      },
      "source": [
        "## Keeping only the date part from the datetime value in the 'Date' column\n",
        "\n",
        "df['Date'] = df['Date'].dt.date\n",
        "df"
      ],
      "execution_count": 60,
      "outputs": [
        {
          "output_type": "execute_result",
          "data": {
            "text/html": [
              "<div>\n",
              "<style scoped>\n",
              "    .dataframe tbody tr th:only-of-type {\n",
              "        vertical-align: middle;\n",
              "    }\n",
              "\n",
              "    .dataframe tbody tr th {\n",
              "        vertical-align: top;\n",
              "    }\n",
              "\n",
              "    .dataframe thead th {\n",
              "        text-align: right;\n",
              "    }\n",
              "</style>\n",
              "<table border=\"1\" class=\"dataframe\">\n",
              "  <thead>\n",
              "    <tr style=\"text-align: right;\">\n",
              "      <th></th>\n",
              "      <th>Date</th>\n",
              "      <th>From</th>\n",
              "      <th>To</th>\n",
              "      <th>Subject</th>\n",
              "      <th>content</th>\n",
              "    </tr>\n",
              "  </thead>\n",
              "  <tbody>\n",
              "    <tr>\n",
              "      <th>0</th>\n",
              "      <td>2001-05-14</td>\n",
              "      <td>frozenset({'phillip.allen@enron.com'})</td>\n",
              "      <td>frozenset({'tim.belden@enron.com'})</td>\n",
              "      <td>NaN</td>\n",
              "      <td>Here is our forecast\\n\\n</td>\n",
              "    </tr>\n",
              "    <tr>\n",
              "      <th>1</th>\n",
              "      <td>2001-05-04</td>\n",
              "      <td>frozenset({'phillip.allen@enron.com'})</td>\n",
              "      <td>frozenset({'john.lavorato@enron.com'})</td>\n",
              "      <td>Re:</td>\n",
              "      <td>Traveling to have a business meeting takes the...</td>\n",
              "    </tr>\n",
              "    <tr>\n",
              "      <th>2</th>\n",
              "      <td>2000-10-18</td>\n",
              "      <td>frozenset({'phillip.allen@enron.com'})</td>\n",
              "      <td>frozenset({'leah.arsdall@enron.com'})</td>\n",
              "      <td>Re: test</td>\n",
              "      <td>test successful.  way to go!!!</td>\n",
              "    </tr>\n",
              "    <tr>\n",
              "      <th>3</th>\n",
              "      <td>2000-10-23</td>\n",
              "      <td>frozenset({'phillip.allen@enron.com'})</td>\n",
              "      <td>frozenset({'randall.gay@enron.com'})</td>\n",
              "      <td>NaN</td>\n",
              "      <td>Randy,\\n\\n Can you send me a schedule of the s...</td>\n",
              "    </tr>\n",
              "    <tr>\n",
              "      <th>4</th>\n",
              "      <td>2000-08-31</td>\n",
              "      <td>frozenset({'phillip.allen@enron.com'})</td>\n",
              "      <td>frozenset({'greg.piper@enron.com'})</td>\n",
              "      <td>Re: Hello</td>\n",
              "      <td>Let's shoot for Tuesday at 11:45.</td>\n",
              "    </tr>\n",
              "    <tr>\n",
              "      <th>...</th>\n",
              "      <td>...</td>\n",
              "      <td>...</td>\n",
              "      <td>...</td>\n",
              "      <td>...</td>\n",
              "      <td>...</td>\n",
              "    </tr>\n",
              "    <tr>\n",
              "      <th>995</th>\n",
              "      <td>2001-03-19</td>\n",
              "      <td>frozenset({'phillip.allen@enron.com'})</td>\n",
              "      <td>frozenset({'jacquestc@aol.com'})</td>\n",
              "      <td>NaN</td>\n",
              "      <td>Jacques,\\n\\nStill trying to close the loop on ...</td>\n",
              "    </tr>\n",
              "    <tr>\n",
              "      <th>996</th>\n",
              "      <td>2001-03-19</td>\n",
              "      <td>frozenset({'phillip.allen@enron.com'})</td>\n",
              "      <td>frozenset({'llewter@austin.rr.com'})</td>\n",
              "      <td>Re: Buyout</td>\n",
              "      <td>Larrry,\\n\\nI realize you are disappointed abou...</td>\n",
              "    </tr>\n",
              "    <tr>\n",
              "      <th>997</th>\n",
              "      <td>2000-12-06</td>\n",
              "      <td>frozenset({'phillip.allen@enron.com'})</td>\n",
              "      <td>frozenset({'pallen70@hotmail.com'})</td>\n",
              "      <td>NaN</td>\n",
              "      <td>---------------------- Forwarded by Phillip K ...</td>\n",
              "    </tr>\n",
              "    <tr>\n",
              "      <th>998</th>\n",
              "      <td>2001-03-16</td>\n",
              "      <td>frozenset({'phillip.allen@enron.com'})</td>\n",
              "      <td>frozenset({'jacquestc@aol.com'})</td>\n",
              "      <td>NaN</td>\n",
              "      <td>Jacques,\\n\\nI think we reached an agreement wi...</td>\n",
              "    </tr>\n",
              "    <tr>\n",
              "      <th>999</th>\n",
              "      <td>2001-03-15</td>\n",
              "      <td>frozenset({'phillip.allen@enron.com'})</td>\n",
              "      <td>frozenset({'matt.smith@enron.com'})</td>\n",
              "      <td>Matt Smith</td>\n",
              "      <td>---------------------- Forwarded by Phillip K ...</td>\n",
              "    </tr>\n",
              "  </tbody>\n",
              "</table>\n",
              "<p>1000 rows × 5 columns</p>\n",
              "</div>"
            ],
            "text/plain": [
              "           Date  ...                                            content\n",
              "0    2001-05-14  ...                          Here is our forecast\\n\\n \n",
              "1    2001-05-04  ...  Traveling to have a business meeting takes the...\n",
              "2    2000-10-18  ...                     test successful.  way to go!!!\n",
              "3    2000-10-23  ...  Randy,\\n\\n Can you send me a schedule of the s...\n",
              "4    2000-08-31  ...                Let's shoot for Tuesday at 11:45.  \n",
              "..          ...  ...                                                ...\n",
              "995  2001-03-19  ...  Jacques,\\n\\nStill trying to close the loop on ...\n",
              "996  2001-03-19  ...  Larrry,\\n\\nI realize you are disappointed abou...\n",
              "997  2000-12-06  ...  ---------------------- Forwarded by Phillip K ...\n",
              "998  2001-03-16  ...  Jacques,\\n\\nI think we reached an agreement wi...\n",
              "999  2001-03-15  ...  ---------------------- Forwarded by Phillip K ...\n",
              "\n",
              "[1000 rows x 5 columns]"
            ]
          },
          "metadata": {},
          "execution_count": 60
        }
      ]
    },
    {
      "cell_type": "code",
      "metadata": {
        "id": "mox4F3CqZxjV"
      },
      "source": [
        "## Recasting object type 'Date' column to date time from object\n",
        "\n",
        "df['Date'] = pd.to_datetime(df['Date'])"
      ],
      "execution_count": 61,
      "outputs": []
    },
    {
      "cell_type": "code",
      "metadata": {
        "colab": {
          "base_uri": "https://localhost:8080/"
        },
        "id": "FhVjJn5tAA3s",
        "outputId": "a6f3c74a-e0d4-49ff-eced-7b8b87d46a64"
      },
      "source": [
        "## Rechecking data type of the columns\n",
        "\n",
        "df.dtypes"
      ],
      "execution_count": 62,
      "outputs": [
        {
          "output_type": "execute_result",
          "data": {
            "text/plain": [
              "Date       datetime64[ns]\n",
              "From               object\n",
              "To                 object\n",
              "Subject            object\n",
              "content            object\n",
              "dtype: object"
            ]
          },
          "metadata": {},
          "execution_count": 62
        }
      ]
    },
    {
      "cell_type": "markdown",
      "metadata": {
        "id": "uUF6jE_ZIbok"
      },
      "source": [
        "#### **USING REGEX TO FORMAT THE 'FROM' AND 'TO' COLUMNS**"
      ]
    },
    {
      "cell_type": "code",
      "metadata": {
        "colab": {
          "base_uri": "https://localhost:8080/",
          "height": 507
        },
        "id": "UvuU-IlDiGZD",
        "outputId": "e5fcf5a3-6227-4de8-f5a8-5a545ac5fa33"
      },
      "source": [
        "## Removing frozenset characters from the 'From' and 'To' columns\n",
        "\n",
        "df['From'] = df['From'].str.replace(r\"frozenset|{|}|'\",\"\")\n",
        "df['To'] = df['To'].str.replace(r\"frozenset|{|}|'\",\"\")\n",
        "df"
      ],
      "execution_count": 63,
      "outputs": [
        {
          "output_type": "stream",
          "name": "stderr",
          "text": [
            "/usr/local/lib/python3.7/dist-packages/ipykernel_launcher.py:3: FutureWarning: The default value of regex will change from True to False in a future version.\n",
            "  This is separate from the ipykernel package so we can avoid doing imports until\n",
            "/usr/local/lib/python3.7/dist-packages/ipykernel_launcher.py:4: FutureWarning: The default value of regex will change from True to False in a future version.\n",
            "  after removing the cwd from sys.path.\n"
          ]
        },
        {
          "output_type": "execute_result",
          "data": {
            "text/html": [
              "<div>\n",
              "<style scoped>\n",
              "    .dataframe tbody tr th:only-of-type {\n",
              "        vertical-align: middle;\n",
              "    }\n",
              "\n",
              "    .dataframe tbody tr th {\n",
              "        vertical-align: top;\n",
              "    }\n",
              "\n",
              "    .dataframe thead th {\n",
              "        text-align: right;\n",
              "    }\n",
              "</style>\n",
              "<table border=\"1\" class=\"dataframe\">\n",
              "  <thead>\n",
              "    <tr style=\"text-align: right;\">\n",
              "      <th></th>\n",
              "      <th>Date</th>\n",
              "      <th>From</th>\n",
              "      <th>To</th>\n",
              "      <th>Subject</th>\n",
              "      <th>content</th>\n",
              "    </tr>\n",
              "  </thead>\n",
              "  <tbody>\n",
              "    <tr>\n",
              "      <th>0</th>\n",
              "      <td>2001-05-14</td>\n",
              "      <td>(phillip.allen@enron.com)</td>\n",
              "      <td>(tim.belden@enron.com)</td>\n",
              "      <td>NaN</td>\n",
              "      <td>Here is our forecast\\n\\n</td>\n",
              "    </tr>\n",
              "    <tr>\n",
              "      <th>1</th>\n",
              "      <td>2001-05-04</td>\n",
              "      <td>(phillip.allen@enron.com)</td>\n",
              "      <td>(john.lavorato@enron.com)</td>\n",
              "      <td>Re:</td>\n",
              "      <td>Traveling to have a business meeting takes the...</td>\n",
              "    </tr>\n",
              "    <tr>\n",
              "      <th>2</th>\n",
              "      <td>2000-10-18</td>\n",
              "      <td>(phillip.allen@enron.com)</td>\n",
              "      <td>(leah.arsdall@enron.com)</td>\n",
              "      <td>Re: test</td>\n",
              "      <td>test successful.  way to go!!!</td>\n",
              "    </tr>\n",
              "    <tr>\n",
              "      <th>3</th>\n",
              "      <td>2000-10-23</td>\n",
              "      <td>(phillip.allen@enron.com)</td>\n",
              "      <td>(randall.gay@enron.com)</td>\n",
              "      <td>NaN</td>\n",
              "      <td>Randy,\\n\\n Can you send me a schedule of the s...</td>\n",
              "    </tr>\n",
              "    <tr>\n",
              "      <th>4</th>\n",
              "      <td>2000-08-31</td>\n",
              "      <td>(phillip.allen@enron.com)</td>\n",
              "      <td>(greg.piper@enron.com)</td>\n",
              "      <td>Re: Hello</td>\n",
              "      <td>Let's shoot for Tuesday at 11:45.</td>\n",
              "    </tr>\n",
              "    <tr>\n",
              "      <th>...</th>\n",
              "      <td>...</td>\n",
              "      <td>...</td>\n",
              "      <td>...</td>\n",
              "      <td>...</td>\n",
              "      <td>...</td>\n",
              "    </tr>\n",
              "    <tr>\n",
              "      <th>995</th>\n",
              "      <td>2001-03-19</td>\n",
              "      <td>(phillip.allen@enron.com)</td>\n",
              "      <td>(jacquestc@aol.com)</td>\n",
              "      <td>NaN</td>\n",
              "      <td>Jacques,\\n\\nStill trying to close the loop on ...</td>\n",
              "    </tr>\n",
              "    <tr>\n",
              "      <th>996</th>\n",
              "      <td>2001-03-19</td>\n",
              "      <td>(phillip.allen@enron.com)</td>\n",
              "      <td>(llewter@austin.rr.com)</td>\n",
              "      <td>Re: Buyout</td>\n",
              "      <td>Larrry,\\n\\nI realize you are disappointed abou...</td>\n",
              "    </tr>\n",
              "    <tr>\n",
              "      <th>997</th>\n",
              "      <td>2000-12-06</td>\n",
              "      <td>(phillip.allen@enron.com)</td>\n",
              "      <td>(pallen70@hotmail.com)</td>\n",
              "      <td>NaN</td>\n",
              "      <td>---------------------- Forwarded by Phillip K ...</td>\n",
              "    </tr>\n",
              "    <tr>\n",
              "      <th>998</th>\n",
              "      <td>2001-03-16</td>\n",
              "      <td>(phillip.allen@enron.com)</td>\n",
              "      <td>(jacquestc@aol.com)</td>\n",
              "      <td>NaN</td>\n",
              "      <td>Jacques,\\n\\nI think we reached an agreement wi...</td>\n",
              "    </tr>\n",
              "    <tr>\n",
              "      <th>999</th>\n",
              "      <td>2001-03-15</td>\n",
              "      <td>(phillip.allen@enron.com)</td>\n",
              "      <td>(matt.smith@enron.com)</td>\n",
              "      <td>Matt Smith</td>\n",
              "      <td>---------------------- Forwarded by Phillip K ...</td>\n",
              "    </tr>\n",
              "  </tbody>\n",
              "</table>\n",
              "<p>1000 rows × 5 columns</p>\n",
              "</div>"
            ],
            "text/plain": [
              "          Date  ...                                            content\n",
              "0   2001-05-14  ...                          Here is our forecast\\n\\n \n",
              "1   2001-05-04  ...  Traveling to have a business meeting takes the...\n",
              "2   2000-10-18  ...                     test successful.  way to go!!!\n",
              "3   2000-10-23  ...  Randy,\\n\\n Can you send me a schedule of the s...\n",
              "4   2000-08-31  ...                Let's shoot for Tuesday at 11:45.  \n",
              "..         ...  ...                                                ...\n",
              "995 2001-03-19  ...  Jacques,\\n\\nStill trying to close the loop on ...\n",
              "996 2001-03-19  ...  Larrry,\\n\\nI realize you are disappointed abou...\n",
              "997 2000-12-06  ...  ---------------------- Forwarded by Phillip K ...\n",
              "998 2001-03-16  ...  Jacques,\\n\\nI think we reached an agreement wi...\n",
              "999 2001-03-15  ...  ---------------------- Forwarded by Phillip K ...\n",
              "\n",
              "[1000 rows x 5 columns]"
            ]
          },
          "metadata": {},
          "execution_count": 63
        }
      ]
    },
    {
      "cell_type": "code",
      "metadata": {
        "id": "ZTY_Vsaj0-nd"
      },
      "source": [
        "## Renaming column names\n",
        "\n",
        "df.rename(columns={\"From\": \"Sender\", \"To\": \"Receiver\"}, inplace = True)"
      ],
      "execution_count": 64,
      "outputs": []
    },
    {
      "cell_type": "markdown",
      "metadata": {
        "id": "V1_NsKJkO435"
      },
      "source": [
        "#### **ANALYZING COUNT OF EMAILS SENT WITH RESPECT TO EACH SENDER'S EMAIL ID.**"
      ]
    },
    {
      "cell_type": "code",
      "metadata": {
        "colab": {
          "base_uri": "https://localhost:8080/",
          "height": 1000
        },
        "id": "f_Duj38y0zyk",
        "outputId": "9c7572d1-14fa-4364-e595-cffe5f4b9ae6"
      },
      "source": [
        "q2 = \"\"\"SELECT SENDER, COUNT(*) AS SENDER_COUNT FROM df\n",
        "GROUP BY 1\n",
        "ORDER BY 2 DESC;\"\"\"\n",
        "\n",
        "names2 = pysqldf(q2)\n",
        "names2"
      ],
      "execution_count": 65,
      "outputs": [
        {
          "output_type": "execute_result",
          "data": {
            "text/html": [
              "<div>\n",
              "<style scoped>\n",
              "    .dataframe tbody tr th:only-of-type {\n",
              "        vertical-align: middle;\n",
              "    }\n",
              "\n",
              "    .dataframe tbody tr th {\n",
              "        vertical-align: top;\n",
              "    }\n",
              "\n",
              "    .dataframe thead th {\n",
              "        text-align: right;\n",
              "    }\n",
              "</style>\n",
              "<table border=\"1\" class=\"dataframe\">\n",
              "  <thead>\n",
              "    <tr style=\"text-align: right;\">\n",
              "      <th></th>\n",
              "      <th>Sender</th>\n",
              "      <th>SENDER_COUNT</th>\n",
              "    </tr>\n",
              "  </thead>\n",
              "  <tbody>\n",
              "    <tr>\n",
              "      <th>0</th>\n",
              "      <td>(phillip.allen@enron.com)</td>\n",
              "      <td>946</td>\n",
              "    </tr>\n",
              "    <tr>\n",
              "      <th>1</th>\n",
              "      <td>(critical.notice@enron.com)</td>\n",
              "      <td>5</td>\n",
              "    </tr>\n",
              "    <tr>\n",
              "      <th>2</th>\n",
              "      <td>(ina.rangel@enron.com)</td>\n",
              "      <td>4</td>\n",
              "    </tr>\n",
              "    <tr>\n",
              "      <th>3</th>\n",
              "      <td>(announce@inbox.nytimes.com)</td>\n",
              "      <td>2</td>\n",
              "    </tr>\n",
              "    <tr>\n",
              "      <th>4</th>\n",
              "      <td>(aod@newsdata.com)</td>\n",
              "      <td>2</td>\n",
              "    </tr>\n",
              "    <tr>\n",
              "      <th>5</th>\n",
              "      <td>(ei_editor@ftenergy.com)</td>\n",
              "      <td>2</td>\n",
              "    </tr>\n",
              "    <tr>\n",
              "      <th>6</th>\n",
              "      <td>(jsmith@austintx.com)</td>\n",
              "      <td>2</td>\n",
              "    </tr>\n",
              "    <tr>\n",
              "      <th>7</th>\n",
              "      <td>(messenger@ecm.bloomberg.com)</td>\n",
              "      <td>2</td>\n",
              "    </tr>\n",
              "    <tr>\n",
              "      <th>8</th>\n",
              "      <td>(sarah.novosel@enron.com)</td>\n",
              "      <td>2</td>\n",
              "    </tr>\n",
              "    <tr>\n",
              "      <th>9</th>\n",
              "      <td>(webmaster@earnings.com)</td>\n",
              "      <td>2</td>\n",
              "    </tr>\n",
              "    <tr>\n",
              "      <th>10</th>\n",
              "      <td>(1.11913372.-2@multexinvestornetwork.com)</td>\n",
              "      <td>1</td>\n",
              "    </tr>\n",
              "    <tr>\n",
              "      <th>11</th>\n",
              "      <td>(alyse.herasimchuk@enron.com)</td>\n",
              "      <td>1</td>\n",
              "    </tr>\n",
              "    <tr>\n",
              "      <th>12</th>\n",
              "      <td>(billc@greenbuilder.com)</td>\n",
              "      <td>1</td>\n",
              "    </tr>\n",
              "    <tr>\n",
              "      <th>13</th>\n",
              "      <td>(bobregon@bga.com)</td>\n",
              "      <td>1</td>\n",
              "    </tr>\n",
              "    <tr>\n",
              "      <th>14</th>\n",
              "      <td>(bounce-news-932653@lists.autoweb.com)</td>\n",
              "      <td>1</td>\n",
              "    </tr>\n",
              "    <tr>\n",
              "      <th>15</th>\n",
              "      <td>(calxa@aol.com)</td>\n",
              "      <td>1</td>\n",
              "    </tr>\n",
              "    <tr>\n",
              "      <th>16</th>\n",
              "      <td>(christi.nicolay@enron.com)</td>\n",
              "      <td>1</td>\n",
              "    </tr>\n",
              "    <tr>\n",
              "      <th>17</th>\n",
              "      <td>(frank.hayden@enron.com)</td>\n",
              "      <td>1</td>\n",
              "    </tr>\n",
              "    <tr>\n",
              "      <th>18</th>\n",
              "      <td>(grensheltr@aol.com)</td>\n",
              "      <td>1</td>\n",
              "    </tr>\n",
              "    <tr>\n",
              "      <th>19</th>\n",
              "      <td>(gthorse@keyad.com)</td>\n",
              "      <td>1</td>\n",
              "    </tr>\n",
              "    <tr>\n",
              "      <th>20</th>\n",
              "      <td>(jfreeman@ssm.net)</td>\n",
              "      <td>1</td>\n",
              "    </tr>\n",
              "    <tr>\n",
              "      <th>21</th>\n",
              "      <td>(kim.ward@enron.com)</td>\n",
              "      <td>1</td>\n",
              "    </tr>\n",
              "    <tr>\n",
              "      <th>22</th>\n",
              "      <td>(lisa.jacobson@enron.com)</td>\n",
              "      <td>1</td>\n",
              "    </tr>\n",
              "    <tr>\n",
              "      <th>23</th>\n",
              "      <td>(mark.whitt@enron.com)</td>\n",
              "      <td>1</td>\n",
              "    </tr>\n",
              "    <tr>\n",
              "      <th>24</th>\n",
              "      <td>(market-reply@listserv.dowjones.com)</td>\n",
              "      <td>1</td>\n",
              "    </tr>\n",
              "    <tr>\n",
              "      <th>25</th>\n",
              "      <td>(matt@fastpacket.net)</td>\n",
              "      <td>1</td>\n",
              "    </tr>\n",
              "    <tr>\n",
              "      <th>26</th>\n",
              "      <td>(owner-strawbale@crest.org)</td>\n",
              "      <td>1</td>\n",
              "    </tr>\n",
              "    <tr>\n",
              "      <th>27</th>\n",
              "      <td>(paul.kaufman@enron.com)</td>\n",
              "      <td>1</td>\n",
              "    </tr>\n",
              "    <tr>\n",
              "      <th>28</th>\n",
              "      <td>(perfmgmt@enron.com)</td>\n",
              "      <td>1</td>\n",
              "    </tr>\n",
              "    <tr>\n",
              "      <th>29</th>\n",
              "      <td>(philip.polsky@enron.com)</td>\n",
              "      <td>1</td>\n",
              "    </tr>\n",
              "    <tr>\n",
              "      <th>30</th>\n",
              "      <td>(public.relations@enron.com)</td>\n",
              "      <td>1</td>\n",
              "    </tr>\n",
              "    <tr>\n",
              "      <th>31</th>\n",
              "      <td>(rebecca.cantrell@enron.com)</td>\n",
              "      <td>1</td>\n",
              "    </tr>\n",
              "    <tr>\n",
              "      <th>32</th>\n",
              "      <td>(richard.shapiro@enron.com)</td>\n",
              "      <td>1</td>\n",
              "    </tr>\n",
              "    <tr>\n",
              "      <th>33</th>\n",
              "      <td>(rob_tom@freenet.carleton.ca)</td>\n",
              "      <td>1</td>\n",
              "    </tr>\n",
              "    <tr>\n",
              "      <th>34</th>\n",
              "      <td>(stephanie.miller@enron.com)</td>\n",
              "      <td>1</td>\n",
              "    </tr>\n",
              "    <tr>\n",
              "      <th>35</th>\n",
              "      <td>(subscriptions@intelligencepress.com)</td>\n",
              "      <td>1</td>\n",
              "    </tr>\n",
              "    <tr>\n",
              "      <th>36</th>\n",
              "      <td>(tiffany.miller@enron.com)</td>\n",
              "      <td>1</td>\n",
              "    </tr>\n",
              "    <tr>\n",
              "      <th>37</th>\n",
              "      <td>(tim.heizenrader@enron.com)</td>\n",
              "      <td>1</td>\n",
              "    </tr>\n",
              "    <tr>\n",
              "      <th>38</th>\n",
              "      <td>(tracy.arthur@enron.com)</td>\n",
              "      <td>1</td>\n",
              "    </tr>\n",
              "    <tr>\n",
              "      <th>39</th>\n",
              "      <td>(yahoo-delivers@yahoo-inc.com)</td>\n",
              "      <td>1</td>\n",
              "    </tr>\n",
              "    <tr>\n",
              "      <th>40</th>\n",
              "      <td>(yild@zdemail.zdlists.com)</td>\n",
              "      <td>1</td>\n",
              "    </tr>\n",
              "  </tbody>\n",
              "</table>\n",
              "</div>"
            ],
            "text/plain": [
              "                                       Sender  SENDER_COUNT\n",
              "0                   (phillip.allen@enron.com)           946\n",
              "1                 (critical.notice@enron.com)             5\n",
              "2                      (ina.rangel@enron.com)             4\n",
              "3                (announce@inbox.nytimes.com)             2\n",
              "4                          (aod@newsdata.com)             2\n",
              "5                    (ei_editor@ftenergy.com)             2\n",
              "6                       (jsmith@austintx.com)             2\n",
              "7               (messenger@ecm.bloomberg.com)             2\n",
              "8                   (sarah.novosel@enron.com)             2\n",
              "9                    (webmaster@earnings.com)             2\n",
              "10  (1.11913372.-2@multexinvestornetwork.com)             1\n",
              "11              (alyse.herasimchuk@enron.com)             1\n",
              "12                   (billc@greenbuilder.com)             1\n",
              "13                         (bobregon@bga.com)             1\n",
              "14     (bounce-news-932653@lists.autoweb.com)             1\n",
              "15                            (calxa@aol.com)             1\n",
              "16                (christi.nicolay@enron.com)             1\n",
              "17                   (frank.hayden@enron.com)             1\n",
              "18                       (grensheltr@aol.com)             1\n",
              "19                        (gthorse@keyad.com)             1\n",
              "20                         (jfreeman@ssm.net)             1\n",
              "21                       (kim.ward@enron.com)             1\n",
              "22                  (lisa.jacobson@enron.com)             1\n",
              "23                     (mark.whitt@enron.com)             1\n",
              "24       (market-reply@listserv.dowjones.com)             1\n",
              "25                      (matt@fastpacket.net)             1\n",
              "26                (owner-strawbale@crest.org)             1\n",
              "27                   (paul.kaufman@enron.com)             1\n",
              "28                       (perfmgmt@enron.com)             1\n",
              "29                  (philip.polsky@enron.com)             1\n",
              "30               (public.relations@enron.com)             1\n",
              "31               (rebecca.cantrell@enron.com)             1\n",
              "32                (richard.shapiro@enron.com)             1\n",
              "33              (rob_tom@freenet.carleton.ca)             1\n",
              "34               (stephanie.miller@enron.com)             1\n",
              "35      (subscriptions@intelligencepress.com)             1\n",
              "36                 (tiffany.miller@enron.com)             1\n",
              "37                (tim.heizenrader@enron.com)             1\n",
              "38                   (tracy.arthur@enron.com)             1\n",
              "39             (yahoo-delivers@yahoo-inc.com)             1\n",
              "40                 (yild@zdemail.zdlists.com)             1"
            ]
          },
          "metadata": {},
          "execution_count": 65
        }
      ]
    },
    {
      "cell_type": "markdown",
      "metadata": {
        "id": "msX6YjsVPGJW"
      },
      "source": [
        "#### **MAJORITY OF THE EMAILS SENT ARE FROM THE EMAIL ID OF phillip.allen@enron.com**"
      ]
    },
    {
      "cell_type": "code",
      "metadata": {
        "colab": {
          "base_uri": "https://localhost:8080/",
          "height": 1000
        },
        "id": "vwp-WaODz6hN",
        "outputId": "8b3e7ef8-429f-44e3-a482-c9a1a82e4694"
      },
      "source": [
        "## Analyzing count of emails for the Sender column for each user and each month\n",
        "\n",
        "q = \"\"\"SELECT strftime('%m', Date) AS Month , Sender, COUNT(*) AS Email_Count\n",
        "       FROM df \n",
        "       GROUP BY 1, 2\n",
        "       ORDER BY 1 ASC, 3 DESC;\"\"\"\n",
        "\n",
        "names = pysqldf(q)\n",
        "names"
      ],
      "execution_count": 66,
      "outputs": [
        {
          "output_type": "execute_result",
          "data": {
            "text/html": [
              "<div>\n",
              "<style scoped>\n",
              "    .dataframe tbody tr th:only-of-type {\n",
              "        vertical-align: middle;\n",
              "    }\n",
              "\n",
              "    .dataframe tbody tr th {\n",
              "        vertical-align: top;\n",
              "    }\n",
              "\n",
              "    .dataframe thead th {\n",
              "        text-align: right;\n",
              "    }\n",
              "</style>\n",
              "<table border=\"1\" class=\"dataframe\">\n",
              "  <thead>\n",
              "    <tr style=\"text-align: right;\">\n",
              "      <th></th>\n",
              "      <th>Month</th>\n",
              "      <th>Sender</th>\n",
              "      <th>Email_Count</th>\n",
              "    </tr>\n",
              "  </thead>\n",
              "  <tbody>\n",
              "    <tr>\n",
              "      <th>0</th>\n",
              "      <td>01</td>\n",
              "      <td>(phillip.allen@enron.com)</td>\n",
              "      <td>79</td>\n",
              "    </tr>\n",
              "    <tr>\n",
              "      <th>1</th>\n",
              "      <td>01</td>\n",
              "      <td>(grensheltr@aol.com)</td>\n",
              "      <td>1</td>\n",
              "    </tr>\n",
              "    <tr>\n",
              "      <th>2</th>\n",
              "      <td>01</td>\n",
              "      <td>(jfreeman@ssm.net)</td>\n",
              "      <td>1</td>\n",
              "    </tr>\n",
              "    <tr>\n",
              "      <th>3</th>\n",
              "      <td>01</td>\n",
              "      <td>(matt@fastpacket.net)</td>\n",
              "      <td>1</td>\n",
              "    </tr>\n",
              "    <tr>\n",
              "      <th>4</th>\n",
              "      <td>01</td>\n",
              "      <td>(owner-strawbale@crest.org)</td>\n",
              "      <td>1</td>\n",
              "    </tr>\n",
              "    <tr>\n",
              "      <th>5</th>\n",
              "      <td>02</td>\n",
              "      <td>(phillip.allen@enron.com)</td>\n",
              "      <td>98</td>\n",
              "    </tr>\n",
              "    <tr>\n",
              "      <th>6</th>\n",
              "      <td>02</td>\n",
              "      <td>(billc@greenbuilder.com)</td>\n",
              "      <td>1</td>\n",
              "    </tr>\n",
              "    <tr>\n",
              "      <th>7</th>\n",
              "      <td>02</td>\n",
              "      <td>(calxa@aol.com)</td>\n",
              "      <td>1</td>\n",
              "    </tr>\n",
              "    <tr>\n",
              "      <th>8</th>\n",
              "      <td>02</td>\n",
              "      <td>(ina.rangel@enron.com)</td>\n",
              "      <td>1</td>\n",
              "    </tr>\n",
              "    <tr>\n",
              "      <th>9</th>\n",
              "      <td>02</td>\n",
              "      <td>(rob_tom@freenet.carleton.ca)</td>\n",
              "      <td>1</td>\n",
              "    </tr>\n",
              "    <tr>\n",
              "      <th>10</th>\n",
              "      <td>03</td>\n",
              "      <td>(phillip.allen@enron.com)</td>\n",
              "      <td>153</td>\n",
              "    </tr>\n",
              "    <tr>\n",
              "      <th>11</th>\n",
              "      <td>03</td>\n",
              "      <td>(bobregon@bga.com)</td>\n",
              "      <td>1</td>\n",
              "    </tr>\n",
              "    <tr>\n",
              "      <th>12</th>\n",
              "      <td>03</td>\n",
              "      <td>(ina.rangel@enron.com)</td>\n",
              "      <td>1</td>\n",
              "    </tr>\n",
              "    <tr>\n",
              "      <th>13</th>\n",
              "      <td>03</td>\n",
              "      <td>(mark.whitt@enron.com)</td>\n",
              "      <td>1</td>\n",
              "    </tr>\n",
              "    <tr>\n",
              "      <th>14</th>\n",
              "      <td>03</td>\n",
              "      <td>(philip.polsky@enron.com)</td>\n",
              "      <td>1</td>\n",
              "    </tr>\n",
              "    <tr>\n",
              "      <th>15</th>\n",
              "      <td>04</td>\n",
              "      <td>(phillip.allen@enron.com)</td>\n",
              "      <td>152</td>\n",
              "    </tr>\n",
              "    <tr>\n",
              "      <th>16</th>\n",
              "      <td>04</td>\n",
              "      <td>(gthorse@keyad.com)</td>\n",
              "      <td>1</td>\n",
              "    </tr>\n",
              "    <tr>\n",
              "      <th>17</th>\n",
              "      <td>05</td>\n",
              "      <td>(phillip.allen@enron.com)</td>\n",
              "      <td>72</td>\n",
              "    </tr>\n",
              "    <tr>\n",
              "      <th>18</th>\n",
              "      <td>05</td>\n",
              "      <td>(alyse.herasimchuk@enron.com)</td>\n",
              "      <td>1</td>\n",
              "    </tr>\n",
              "    <tr>\n",
              "      <th>19</th>\n",
              "      <td>05</td>\n",
              "      <td>(announce@inbox.nytimes.com)</td>\n",
              "      <td>1</td>\n",
              "    </tr>\n",
              "    <tr>\n",
              "      <th>20</th>\n",
              "      <td>05</td>\n",
              "      <td>(ei_editor@ftenergy.com)</td>\n",
              "      <td>1</td>\n",
              "    </tr>\n",
              "    <tr>\n",
              "      <th>21</th>\n",
              "      <td>05</td>\n",
              "      <td>(lisa.jacobson@enron.com)</td>\n",
              "      <td>1</td>\n",
              "    </tr>\n",
              "    <tr>\n",
              "      <th>22</th>\n",
              "      <td>05</td>\n",
              "      <td>(messenger@ecm.bloomberg.com)</td>\n",
              "      <td>1</td>\n",
              "    </tr>\n",
              "    <tr>\n",
              "      <th>23</th>\n",
              "      <td>05</td>\n",
              "      <td>(perfmgmt@enron.com)</td>\n",
              "      <td>1</td>\n",
              "    </tr>\n",
              "    <tr>\n",
              "      <th>24</th>\n",
              "      <td>05</td>\n",
              "      <td>(webmaster@earnings.com)</td>\n",
              "      <td>1</td>\n",
              "    </tr>\n",
              "    <tr>\n",
              "      <th>25</th>\n",
              "      <td>05</td>\n",
              "      <td>(yahoo-delivers@yahoo-inc.com)</td>\n",
              "      <td>1</td>\n",
              "    </tr>\n",
              "    <tr>\n",
              "      <th>26</th>\n",
              "      <td>06</td>\n",
              "      <td>(phillip.allen@enron.com)</td>\n",
              "      <td>38</td>\n",
              "    </tr>\n",
              "    <tr>\n",
              "      <th>27</th>\n",
              "      <td>07</td>\n",
              "      <td>(phillip.allen@enron.com)</td>\n",
              "      <td>59</td>\n",
              "    </tr>\n",
              "    <tr>\n",
              "      <th>28</th>\n",
              "      <td>08</td>\n",
              "      <td>(phillip.allen@enron.com)</td>\n",
              "      <td>101</td>\n",
              "    </tr>\n",
              "    <tr>\n",
              "      <th>29</th>\n",
              "      <td>09</td>\n",
              "      <td>(phillip.allen@enron.com)</td>\n",
              "      <td>84</td>\n",
              "    </tr>\n",
              "    <tr>\n",
              "      <th>30</th>\n",
              "      <td>10</td>\n",
              "      <td>(phillip.allen@enron.com)</td>\n",
              "      <td>45</td>\n",
              "    </tr>\n",
              "    <tr>\n",
              "      <th>31</th>\n",
              "      <td>11</td>\n",
              "      <td>(phillip.allen@enron.com)</td>\n",
              "      <td>22</td>\n",
              "    </tr>\n",
              "    <tr>\n",
              "      <th>32</th>\n",
              "      <td>12</td>\n",
              "      <td>(phillip.allen@enron.com)</td>\n",
              "      <td>43</td>\n",
              "    </tr>\n",
              "    <tr>\n",
              "      <th>33</th>\n",
              "      <td>12</td>\n",
              "      <td>(critical.notice@enron.com)</td>\n",
              "      <td>5</td>\n",
              "    </tr>\n",
              "    <tr>\n",
              "      <th>34</th>\n",
              "      <td>12</td>\n",
              "      <td>(aod@newsdata.com)</td>\n",
              "      <td>2</td>\n",
              "    </tr>\n",
              "    <tr>\n",
              "      <th>35</th>\n",
              "      <td>12</td>\n",
              "      <td>(ina.rangel@enron.com)</td>\n",
              "      <td>2</td>\n",
              "    </tr>\n",
              "    <tr>\n",
              "      <th>36</th>\n",
              "      <td>12</td>\n",
              "      <td>(jsmith@austintx.com)</td>\n",
              "      <td>2</td>\n",
              "    </tr>\n",
              "    <tr>\n",
              "      <th>37</th>\n",
              "      <td>12</td>\n",
              "      <td>(sarah.novosel@enron.com)</td>\n",
              "      <td>2</td>\n",
              "    </tr>\n",
              "    <tr>\n",
              "      <th>38</th>\n",
              "      <td>12</td>\n",
              "      <td>(1.11913372.-2@multexinvestornetwork.com)</td>\n",
              "      <td>1</td>\n",
              "    </tr>\n",
              "    <tr>\n",
              "      <th>39</th>\n",
              "      <td>12</td>\n",
              "      <td>(announce@inbox.nytimes.com)</td>\n",
              "      <td>1</td>\n",
              "    </tr>\n",
              "    <tr>\n",
              "      <th>40</th>\n",
              "      <td>12</td>\n",
              "      <td>(bounce-news-932653@lists.autoweb.com)</td>\n",
              "      <td>1</td>\n",
              "    </tr>\n",
              "    <tr>\n",
              "      <th>41</th>\n",
              "      <td>12</td>\n",
              "      <td>(christi.nicolay@enron.com)</td>\n",
              "      <td>1</td>\n",
              "    </tr>\n",
              "    <tr>\n",
              "      <th>42</th>\n",
              "      <td>12</td>\n",
              "      <td>(ei_editor@ftenergy.com)</td>\n",
              "      <td>1</td>\n",
              "    </tr>\n",
              "    <tr>\n",
              "      <th>43</th>\n",
              "      <td>12</td>\n",
              "      <td>(frank.hayden@enron.com)</td>\n",
              "      <td>1</td>\n",
              "    </tr>\n",
              "    <tr>\n",
              "      <th>44</th>\n",
              "      <td>12</td>\n",
              "      <td>(kim.ward@enron.com)</td>\n",
              "      <td>1</td>\n",
              "    </tr>\n",
              "    <tr>\n",
              "      <th>45</th>\n",
              "      <td>12</td>\n",
              "      <td>(market-reply@listserv.dowjones.com)</td>\n",
              "      <td>1</td>\n",
              "    </tr>\n",
              "    <tr>\n",
              "      <th>46</th>\n",
              "      <td>12</td>\n",
              "      <td>(messenger@ecm.bloomberg.com)</td>\n",
              "      <td>1</td>\n",
              "    </tr>\n",
              "    <tr>\n",
              "      <th>47</th>\n",
              "      <td>12</td>\n",
              "      <td>(paul.kaufman@enron.com)</td>\n",
              "      <td>1</td>\n",
              "    </tr>\n",
              "    <tr>\n",
              "      <th>48</th>\n",
              "      <td>12</td>\n",
              "      <td>(public.relations@enron.com)</td>\n",
              "      <td>1</td>\n",
              "    </tr>\n",
              "    <tr>\n",
              "      <th>49</th>\n",
              "      <td>12</td>\n",
              "      <td>(rebecca.cantrell@enron.com)</td>\n",
              "      <td>1</td>\n",
              "    </tr>\n",
              "    <tr>\n",
              "      <th>50</th>\n",
              "      <td>12</td>\n",
              "      <td>(richard.shapiro@enron.com)</td>\n",
              "      <td>1</td>\n",
              "    </tr>\n",
              "    <tr>\n",
              "      <th>51</th>\n",
              "      <td>12</td>\n",
              "      <td>(stephanie.miller@enron.com)</td>\n",
              "      <td>1</td>\n",
              "    </tr>\n",
              "    <tr>\n",
              "      <th>52</th>\n",
              "      <td>12</td>\n",
              "      <td>(subscriptions@intelligencepress.com)</td>\n",
              "      <td>1</td>\n",
              "    </tr>\n",
              "    <tr>\n",
              "      <th>53</th>\n",
              "      <td>12</td>\n",
              "      <td>(tiffany.miller@enron.com)</td>\n",
              "      <td>1</td>\n",
              "    </tr>\n",
              "    <tr>\n",
              "      <th>54</th>\n",
              "      <td>12</td>\n",
              "      <td>(tim.heizenrader@enron.com)</td>\n",
              "      <td>1</td>\n",
              "    </tr>\n",
              "    <tr>\n",
              "      <th>55</th>\n",
              "      <td>12</td>\n",
              "      <td>(tracy.arthur@enron.com)</td>\n",
              "      <td>1</td>\n",
              "    </tr>\n",
              "    <tr>\n",
              "      <th>56</th>\n",
              "      <td>12</td>\n",
              "      <td>(webmaster@earnings.com)</td>\n",
              "      <td>1</td>\n",
              "    </tr>\n",
              "    <tr>\n",
              "      <th>57</th>\n",
              "      <td>12</td>\n",
              "      <td>(yild@zdemail.zdlists.com)</td>\n",
              "      <td>1</td>\n",
              "    </tr>\n",
              "  </tbody>\n",
              "</table>\n",
              "</div>"
            ],
            "text/plain": [
              "   Month                                     Sender  Email_Count\n",
              "0     01                  (phillip.allen@enron.com)           79\n",
              "1     01                       (grensheltr@aol.com)            1\n",
              "2     01                         (jfreeman@ssm.net)            1\n",
              "3     01                      (matt@fastpacket.net)            1\n",
              "4     01                (owner-strawbale@crest.org)            1\n",
              "5     02                  (phillip.allen@enron.com)           98\n",
              "6     02                   (billc@greenbuilder.com)            1\n",
              "7     02                            (calxa@aol.com)            1\n",
              "8     02                     (ina.rangel@enron.com)            1\n",
              "9     02              (rob_tom@freenet.carleton.ca)            1\n",
              "10    03                  (phillip.allen@enron.com)          153\n",
              "11    03                         (bobregon@bga.com)            1\n",
              "12    03                     (ina.rangel@enron.com)            1\n",
              "13    03                     (mark.whitt@enron.com)            1\n",
              "14    03                  (philip.polsky@enron.com)            1\n",
              "15    04                  (phillip.allen@enron.com)          152\n",
              "16    04                        (gthorse@keyad.com)            1\n",
              "17    05                  (phillip.allen@enron.com)           72\n",
              "18    05              (alyse.herasimchuk@enron.com)            1\n",
              "19    05               (announce@inbox.nytimes.com)            1\n",
              "20    05                   (ei_editor@ftenergy.com)            1\n",
              "21    05                  (lisa.jacobson@enron.com)            1\n",
              "22    05              (messenger@ecm.bloomberg.com)            1\n",
              "23    05                       (perfmgmt@enron.com)            1\n",
              "24    05                   (webmaster@earnings.com)            1\n",
              "25    05             (yahoo-delivers@yahoo-inc.com)            1\n",
              "26    06                  (phillip.allen@enron.com)           38\n",
              "27    07                  (phillip.allen@enron.com)           59\n",
              "28    08                  (phillip.allen@enron.com)          101\n",
              "29    09                  (phillip.allen@enron.com)           84\n",
              "30    10                  (phillip.allen@enron.com)           45\n",
              "31    11                  (phillip.allen@enron.com)           22\n",
              "32    12                  (phillip.allen@enron.com)           43\n",
              "33    12                (critical.notice@enron.com)            5\n",
              "34    12                         (aod@newsdata.com)            2\n",
              "35    12                     (ina.rangel@enron.com)            2\n",
              "36    12                      (jsmith@austintx.com)            2\n",
              "37    12                  (sarah.novosel@enron.com)            2\n",
              "38    12  (1.11913372.-2@multexinvestornetwork.com)            1\n",
              "39    12               (announce@inbox.nytimes.com)            1\n",
              "40    12     (bounce-news-932653@lists.autoweb.com)            1\n",
              "41    12                (christi.nicolay@enron.com)            1\n",
              "42    12                   (ei_editor@ftenergy.com)            1\n",
              "43    12                   (frank.hayden@enron.com)            1\n",
              "44    12                       (kim.ward@enron.com)            1\n",
              "45    12       (market-reply@listserv.dowjones.com)            1\n",
              "46    12              (messenger@ecm.bloomberg.com)            1\n",
              "47    12                   (paul.kaufman@enron.com)            1\n",
              "48    12               (public.relations@enron.com)            1\n",
              "49    12               (rebecca.cantrell@enron.com)            1\n",
              "50    12                (richard.shapiro@enron.com)            1\n",
              "51    12               (stephanie.miller@enron.com)            1\n",
              "52    12      (subscriptions@intelligencepress.com)            1\n",
              "53    12                 (tiffany.miller@enron.com)            1\n",
              "54    12                (tim.heizenrader@enron.com)            1\n",
              "55    12                   (tracy.arthur@enron.com)            1\n",
              "56    12                   (webmaster@earnings.com)            1\n",
              "57    12                 (yild@zdemail.zdlists.com)            1"
            ]
          },
          "metadata": {},
          "execution_count": 66
        }
      ]
    },
    {
      "cell_type": "markdown",
      "metadata": {
        "id": "DbYNPhOKFI_2"
      },
      "source": [
        "#### **FOCUSING ON (phillip.allen@enron.com)'s SENT EMAILS FOR EACH YEAR AND VISUALISING THE SAME**"
      ]
    },
    {
      "cell_type": "code",
      "metadata": {
        "colab": {
          "base_uri": "https://localhost:8080/",
          "height": 173
        },
        "id": "qfAzX55BE9AJ",
        "outputId": "077b2b0b-ffd8-409a-edf0-572aa16cc795"
      },
      "source": [
        "\n",
        "q = \"\"\"SELECT strftime('%Y', Date) AS Year , Sender, COUNT(*) AS 'Number of Emails'\n",
        "       FROM df \n",
        "       WHERE SENDER = '(phillip.allen@enron.com)'\n",
        "       GROUP BY 1, 2\n",
        "       ORDER BY 1 ASC, 3 DESC;\"\"\"\n",
        "\n",
        "phillip_sent_year = pysqldf(q)\n",
        "phillip_sent_year"
      ],
      "execution_count": 67,
      "outputs": [
        {
          "output_type": "execute_result",
          "data": {
            "text/html": [
              "<div>\n",
              "<style scoped>\n",
              "    .dataframe tbody tr th:only-of-type {\n",
              "        vertical-align: middle;\n",
              "    }\n",
              "\n",
              "    .dataframe tbody tr th {\n",
              "        vertical-align: top;\n",
              "    }\n",
              "\n",
              "    .dataframe thead th {\n",
              "        text-align: right;\n",
              "    }\n",
              "</style>\n",
              "<table border=\"1\" class=\"dataframe\">\n",
              "  <thead>\n",
              "    <tr style=\"text-align: right;\">\n",
              "      <th></th>\n",
              "      <th>Year</th>\n",
              "      <th>Sender</th>\n",
              "      <th>Number of Emails</th>\n",
              "    </tr>\n",
              "  </thead>\n",
              "  <tbody>\n",
              "    <tr>\n",
              "      <th>0</th>\n",
              "      <td>1980</td>\n",
              "      <td>(phillip.allen@enron.com)</td>\n",
              "      <td>5</td>\n",
              "    </tr>\n",
              "    <tr>\n",
              "      <th>1</th>\n",
              "      <td>1999</td>\n",
              "      <td>(phillip.allen@enron.com)</td>\n",
              "      <td>4</td>\n",
              "    </tr>\n",
              "    <tr>\n",
              "      <th>2</th>\n",
              "      <td>2000</td>\n",
              "      <td>(phillip.allen@enron.com)</td>\n",
              "      <td>566</td>\n",
              "    </tr>\n",
              "    <tr>\n",
              "      <th>3</th>\n",
              "      <td>2001</td>\n",
              "      <td>(phillip.allen@enron.com)</td>\n",
              "      <td>371</td>\n",
              "    </tr>\n",
              "  </tbody>\n",
              "</table>\n",
              "</div>"
            ],
            "text/plain": [
              "   Year                     Sender  Number of Emails\n",
              "0  1980  (phillip.allen@enron.com)                 5\n",
              "1  1999  (phillip.allen@enron.com)                 4\n",
              "2  2000  (phillip.allen@enron.com)               566\n",
              "3  2001  (phillip.allen@enron.com)               371"
            ]
          },
          "metadata": {},
          "execution_count": 67
        }
      ]
    },
    {
      "cell_type": "code",
      "metadata": {
        "colab": {
          "base_uri": "https://localhost:8080/",
          "height": 339
        },
        "id": "EvA6jQcjLV50",
        "outputId": "b0591870-52e1-4499-d04c-7f4d511e137e"
      },
      "source": [
        "phillip_sent_year.plot.bar(x = 'Year', y ='Number of Emails', rot = 0)\n",
        "plt.title('Yearly distribution of Emails for Phillip Allen \\n')\n",
        "plt.xlabel('Years \\n')\n",
        "plt.ylabel('Emails per year \\n')"
      ],
      "execution_count": 68,
      "outputs": [
        {
          "output_type": "execute_result",
          "data": {
            "text/plain": [
              "Text(0, 0.5, 'Emails per year \\n')"
            ]
          },
          "metadata": {},
          "execution_count": 68
        },
        {
          "output_type": "display_data",
          "data": {
            "image/png": "[encoded data removed]",
            "text/plain": [
              "<Figure size 432x288 with 1 Axes>"
            ]
          },
          "metadata": {
            "needs_background": "light"
          }
        }
      ]
    },
    {
      "cell_type": "markdown",
      "metadata": {
        "id": "2zGENsxCL19U"
      },
      "source": [
        "#### **MOST OF THE EMAILS (99%) WERE SENT IN THE YEARS OF 2000 AND 2001**"
      ]
    },
    {
      "cell_type": "markdown",
      "metadata": {
        "id": "lIf04o4oFTwB"
      },
      "source": [
        "#### **FOCUSING ON (phillip.allen@enron.com)'s SENT EMAILS FOR EACH MONTH AND VISUALISING THE SAME**"
      ]
    },
    {
      "cell_type": "code",
      "metadata": {
        "colab": {
          "base_uri": "https://localhost:8080/",
          "height": 421
        },
        "id": "4PItlTF3BV5v",
        "outputId": "e4ebc0d8-1a58-4ab0-d071-14897fa198e4"
      },
      "source": [
        "\n",
        "q = \"\"\"SELECT strftime('%m', Date) AS Month , Sender, COUNT(*) AS 'Number of Emails'\n",
        "       FROM df \n",
        "       WHERE SENDER = '(phillip.allen@enron.com)'\n",
        "       GROUP BY 1, 2\n",
        "       ORDER BY 1 ASC;\"\"\"\n",
        "\n",
        "phillip_sent_month = pysqldf(q)\n",
        "phillip_sent_month"
      ],
      "execution_count": 69,
      "outputs": [
        {
          "output_type": "execute_result",
          "data": {
            "text/html": [
              "<div>\n",
              "<style scoped>\n",
              "    .dataframe tbody tr th:only-of-type {\n",
              "        vertical-align: middle;\n",
              "    }\n",
              "\n",
              "    .dataframe tbody tr th {\n",
              "        vertical-align: top;\n",
              "    }\n",
              "\n",
              "    .dataframe thead th {\n",
              "        text-align: right;\n",
              "    }\n",
              "</style>\n",
              "<table border=\"1\" class=\"dataframe\">\n",
              "  <thead>\n",
              "    <tr style=\"text-align: right;\">\n",
              "      <th></th>\n",
              "      <th>Month</th>\n",
              "      <th>Sender</th>\n",
              "      <th>Number of Emails</th>\n",
              "    </tr>\n",
              "  </thead>\n",
              "  <tbody>\n",
              "    <tr>\n",
              "      <th>0</th>\n",
              "      <td>01</td>\n",
              "      <td>(phillip.allen@enron.com)</td>\n",
              "      <td>79</td>\n",
              "    </tr>\n",
              "    <tr>\n",
              "      <th>1</th>\n",
              "      <td>02</td>\n",
              "      <td>(phillip.allen@enron.com)</td>\n",
              "      <td>98</td>\n",
              "    </tr>\n",
              "    <tr>\n",
              "      <th>2</th>\n",
              "      <td>03</td>\n",
              "      <td>(phillip.allen@enron.com)</td>\n",
              "      <td>153</td>\n",
              "    </tr>\n",
              "    <tr>\n",
              "      <th>3</th>\n",
              "      <td>04</td>\n",
              "      <td>(phillip.allen@enron.com)</td>\n",
              "      <td>152</td>\n",
              "    </tr>\n",
              "    <tr>\n",
              "      <th>4</th>\n",
              "      <td>05</td>\n",
              "      <td>(phillip.allen@enron.com)</td>\n",
              "      <td>72</td>\n",
              "    </tr>\n",
              "    <tr>\n",
              "      <th>5</th>\n",
              "      <td>06</td>\n",
              "      <td>(phillip.allen@enron.com)</td>\n",
              "      <td>38</td>\n",
              "    </tr>\n",
              "    <tr>\n",
              "      <th>6</th>\n",
              "      <td>07</td>\n",
              "      <td>(phillip.allen@enron.com)</td>\n",
              "      <td>59</td>\n",
              "    </tr>\n",
              "    <tr>\n",
              "      <th>7</th>\n",
              "      <td>08</td>\n",
              "      <td>(phillip.allen@enron.com)</td>\n",
              "      <td>101</td>\n",
              "    </tr>\n",
              "    <tr>\n",
              "      <th>8</th>\n",
              "      <td>09</td>\n",
              "      <td>(phillip.allen@enron.com)</td>\n",
              "      <td>84</td>\n",
              "    </tr>\n",
              "    <tr>\n",
              "      <th>9</th>\n",
              "      <td>10</td>\n",
              "      <td>(phillip.allen@enron.com)</td>\n",
              "      <td>45</td>\n",
              "    </tr>\n",
              "    <tr>\n",
              "      <th>10</th>\n",
              "      <td>11</td>\n",
              "      <td>(phillip.allen@enron.com)</td>\n",
              "      <td>22</td>\n",
              "    </tr>\n",
              "    <tr>\n",
              "      <th>11</th>\n",
              "      <td>12</td>\n",
              "      <td>(phillip.allen@enron.com)</td>\n",
              "      <td>43</td>\n",
              "    </tr>\n",
              "  </tbody>\n",
              "</table>\n",
              "</div>"
            ],
            "text/plain": [
              "   Month                     Sender  Number of Emails\n",
              "0     01  (phillip.allen@enron.com)                79\n",
              "1     02  (phillip.allen@enron.com)                98\n",
              "2     03  (phillip.allen@enron.com)               153\n",
              "3     04  (phillip.allen@enron.com)               152\n",
              "4     05  (phillip.allen@enron.com)                72\n",
              "5     06  (phillip.allen@enron.com)                38\n",
              "6     07  (phillip.allen@enron.com)                59\n",
              "7     08  (phillip.allen@enron.com)               101\n",
              "8     09  (phillip.allen@enron.com)                84\n",
              "9     10  (phillip.allen@enron.com)                45\n",
              "10    11  (phillip.allen@enron.com)                22\n",
              "11    12  (phillip.allen@enron.com)                43"
            ]
          },
          "metadata": {},
          "execution_count": 69
        }
      ]
    },
    {
      "cell_type": "code",
      "metadata": {
        "colab": {
          "base_uri": "https://localhost:8080/",
          "height": 339
        },
        "id": "06puq6dQEwK7",
        "outputId": "a67da61d-95af-44d9-fc41-24cb92e81442"
      },
      "source": [
        "phillip_sent_month.plot.bar(x = 'Month', y ='Number of Emails', rot = 0)\n",
        "plt.title('Monthly distribution of Emails for Phillip Allen \\n')\n",
        "plt.xlabel('Months \\n')\n",
        "plt.ylabel('Emails per month \\n')"
      ],
      "execution_count": 70,
      "outputs": [
        {
          "output_type": "execute_result",
          "data": {
            "text/plain": [
              "Text(0, 0.5, 'Emails per month \\n')"
            ]
          },
          "metadata": {},
          "execution_count": 70
        },
        {
          "output_type": "display_data",
          "data": {
            "image/png": "[encoded data removed]",
            "text/plain": [
              "<Figure size 432x288 with 1 Axes>"
            ]
          },
          "metadata": {
            "needs_background": "light"
          }
        }
      ]
    },
    {
      "cell_type": "markdown",
      "metadata": {
        "id": "0PsJEUi4LlAU"
      },
      "source": [
        "#### **A MAJOR CHUNK OF THE EMAILS WERE SENT IN THE MONTHS OF MARCH, APRIL AND THEN FOLLOWED BY AUGUST AND SEPTEMBER**"
      ]
    },
    {
      "cell_type": "markdown",
      "metadata": {
        "id": "xWINSvDEPWC-"
      },
      "source": [
        "#### **ANALYZING COUNT OF EMAILS RECEIVED FOR EACH RECEIVERS'S EMAIL ID**"
      ]
    },
    {
      "cell_type": "code",
      "metadata": {
        "colab": {
          "base_uri": "https://localhost:8080/",
          "height": 669
        },
        "id": "szvCccD2Oxw5",
        "outputId": "fcdfd112-939a-4a2c-9ed5-39d3648c8aa6"
      },
      "source": [
        "q2 = \"\"\"SELECT RECEIVER, COUNT(*) AS RECEIVER_COUNT FROM df\n",
        "GROUP BY 1\n",
        "ORDER BY 2 DESC\n",
        "LIMIT 20;\"\"\"\n",
        "\n",
        "names2 = pysqldf(q2)\n",
        "names2"
      ],
      "execution_count": 71,
      "outputs": [
        {
          "output_type": "execute_result",
          "data": {
            "text/html": [
              "<div>\n",
              "<style scoped>\n",
              "    .dataframe tbody tr th:only-of-type {\n",
              "        vertical-align: middle;\n",
              "    }\n",
              "\n",
              "    .dataframe tbody tr th {\n",
              "        vertical-align: top;\n",
              "    }\n",
              "\n",
              "    .dataframe thead th {\n",
              "        text-align: right;\n",
              "    }\n",
              "</style>\n",
              "<table border=\"1\" class=\"dataframe\">\n",
              "  <thead>\n",
              "    <tr style=\"text-align: right;\">\n",
              "      <th></th>\n",
              "      <th>Receiver</th>\n",
              "      <th>RECEIVER_COUNT</th>\n",
              "    </tr>\n",
              "  </thead>\n",
              "  <tbody>\n",
              "    <tr>\n",
              "      <th>0</th>\n",
              "      <td>(ina.rangel@enron.com)</td>\n",
              "      <td>66</td>\n",
              "    </tr>\n",
              "    <tr>\n",
              "      <th>1</th>\n",
              "      <td>(jsmith@austintx.com)</td>\n",
              "      <td>60</td>\n",
              "    </tr>\n",
              "    <tr>\n",
              "      <th>2</th>\n",
              "      <td>(stagecoachmama@hotmail.com)</td>\n",
              "      <td>59</td>\n",
              "    </tr>\n",
              "    <tr>\n",
              "      <th>3</th>\n",
              "      <td>(pallen70@hotmail.com)</td>\n",
              "      <td>42</td>\n",
              "    </tr>\n",
              "    <tr>\n",
              "      <th>4</th>\n",
              "      <td>(keith.holst@enron.com)</td>\n",
              "      <td>37</td>\n",
              "    </tr>\n",
              "    <tr>\n",
              "      <th>5</th>\n",
              "      <td>(maryrichards7@hotmail.com)</td>\n",
              "      <td>31</td>\n",
              "    </tr>\n",
              "    <tr>\n",
              "      <th>6</th>\n",
              "      <td>(john.lavorato@enron.com)</td>\n",
              "      <td>26</td>\n",
              "    </tr>\n",
              "    <tr>\n",
              "      <th>7</th>\n",
              "      <td>(cbpres@austin.rr.com)</td>\n",
              "      <td>22</td>\n",
              "    </tr>\n",
              "    <tr>\n",
              "      <th>8</th>\n",
              "      <td>(jacquestc@aol.com)</td>\n",
              "      <td>22</td>\n",
              "    </tr>\n",
              "    <tr>\n",
              "      <th>9</th>\n",
              "      <td>(mike.grigsby@enron.com)</td>\n",
              "      <td>19</td>\n",
              "    </tr>\n",
              "    <tr>\n",
              "      <th>10</th>\n",
              "      <td>(llewter@austin.rr.com)</td>\n",
              "      <td>14</td>\n",
              "    </tr>\n",
              "    <tr>\n",
              "      <th>11</th>\n",
              "      <td>(rlehmann@yahoo.com)</td>\n",
              "      <td>14</td>\n",
              "    </tr>\n",
              "    <tr>\n",
              "      <th>12</th>\n",
              "      <td>(stouchstone@natsource.com)</td>\n",
              "      <td>12</td>\n",
              "    </tr>\n",
              "    <tr>\n",
              "      <th>13</th>\n",
              "      <td>(mac.d.hargrove@rssmb.com)</td>\n",
              "      <td>10</td>\n",
              "    </tr>\n",
              "    <tr>\n",
              "      <th>14</th>\n",
              "      <td>(matthew.lenhart@enron.com)</td>\n",
              "      <td>10</td>\n",
              "    </tr>\n",
              "    <tr>\n",
              "      <th>15</th>\n",
              "      <td>(tara.sweitzer@enron.com)</td>\n",
              "      <td>10</td>\n",
              "    </tr>\n",
              "    <tr>\n",
              "      <th>16</th>\n",
              "      <td>(al.pollard@enron.com)</td>\n",
              "      <td>9</td>\n",
              "    </tr>\n",
              "    <tr>\n",
              "      <th>17</th>\n",
              "      <td>(frank.ermis@enron.com, mike.grigsby@enron.com...</td>\n",
              "      <td>9</td>\n",
              "    </tr>\n",
              "    <tr>\n",
              "      <th>18</th>\n",
              "      <td>(andrea.richards@enron.com)</td>\n",
              "      <td>8</td>\n",
              "    </tr>\n",
              "    <tr>\n",
              "      <th>19</th>\n",
              "      <td>(bs_stone@yahoo.com)</td>\n",
              "      <td>8</td>\n",
              "    </tr>\n",
              "  </tbody>\n",
              "</table>\n",
              "</div>"
            ],
            "text/plain": [
              "                                             Receiver  RECEIVER_COUNT\n",
              "0                              (ina.rangel@enron.com)              66\n",
              "1                               (jsmith@austintx.com)              60\n",
              "2                        (stagecoachmama@hotmail.com)              59\n",
              "3                              (pallen70@hotmail.com)              42\n",
              "4                             (keith.holst@enron.com)              37\n",
              "5                         (maryrichards7@hotmail.com)              31\n",
              "6                           (john.lavorato@enron.com)              26\n",
              "7                              (cbpres@austin.rr.com)              22\n",
              "8                                 (jacquestc@aol.com)              22\n",
              "9                            (mike.grigsby@enron.com)              19\n",
              "10                            (llewter@austin.rr.com)              14\n",
              "11                               (rlehmann@yahoo.com)              14\n",
              "12                        (stouchstone@natsource.com)              12\n",
              "13                         (mac.d.hargrove@rssmb.com)              10\n",
              "14                        (matthew.lenhart@enron.com)              10\n",
              "15                          (tara.sweitzer@enron.com)              10\n",
              "16                             (al.pollard@enron.com)               9\n",
              "17  (frank.ermis@enron.com, mike.grigsby@enron.com...               9\n",
              "18                        (andrea.richards@enron.com)               8\n",
              "19                               (bs_stone@yahoo.com)               8"
            ]
          },
          "metadata": {},
          "execution_count": 71
        }
      ]
    },
    {
      "cell_type": "markdown",
      "metadata": {
        "id": "LZwF-SeyRLPy"
      },
      "source": [
        "#### **15 OF THE EMAIL IDs HAVE RECEIVED AT LEAST 10 EMAILS**"
      ]
    },
    {
      "cell_type": "markdown",
      "metadata": {
        "id": "szgZMsZrdV_U"
      },
      "source": [
        "#### **FOCUSING ON THE TOP 5 EMAIL IDs FOR EACH YEAR, BASED ON THE NUMBER OF EMAILS RECEIVED**"
      ]
    },
    {
      "cell_type": "code",
      "metadata": {
        "colab": {
          "base_uri": "https://localhost:8080/",
          "height": 421
        },
        "id": "IN2G6XMbaVIB",
        "outputId": "1593ccb8-1d73-49a7-cb04-ed794b3d1d6a"
      },
      "source": [
        "q = \"\"\"SELECT strftime('%Y', Date) AS Year, Receiver, COUNT(*) AS 'Number of Emails Received'\n",
        "       FROM df \n",
        "       WHERE Receiver in ('(ina.rangel@enron.com)', '(jsmith@austintx.com)', '(stagecoachmama@hotmail.com)',\n",
        "       '(pallen70@hotmail.com)', '(keith.holst@enron.com)')\n",
        "       GROUP BY 1, 2\n",
        "       ORDER BY 1, 2;\"\"\"\n",
        "\n",
        "received_year = pysqldf(q)\n",
        "received_year"
      ],
      "execution_count": 72,
      "outputs": [
        {
          "output_type": "execute_result",
          "data": {
            "text/html": [
              "<div>\n",
              "<style scoped>\n",
              "    .dataframe tbody tr th:only-of-type {\n",
              "        vertical-align: middle;\n",
              "    }\n",
              "\n",
              "    .dataframe tbody tr th {\n",
              "        vertical-align: top;\n",
              "    }\n",
              "\n",
              "    .dataframe thead th {\n",
              "        text-align: right;\n",
              "    }\n",
              "</style>\n",
              "<table border=\"1\" class=\"dataframe\">\n",
              "  <thead>\n",
              "    <tr style=\"text-align: right;\">\n",
              "      <th></th>\n",
              "      <th>Year</th>\n",
              "      <th>Receiver</th>\n",
              "      <th>Number of Emails Received</th>\n",
              "    </tr>\n",
              "  </thead>\n",
              "  <tbody>\n",
              "    <tr>\n",
              "      <th>0</th>\n",
              "      <td>1980</td>\n",
              "      <td>(jsmith@austintx.com)</td>\n",
              "      <td>1</td>\n",
              "    </tr>\n",
              "    <tr>\n",
              "      <th>1</th>\n",
              "      <td>1999</td>\n",
              "      <td>(pallen70@hotmail.com)</td>\n",
              "      <td>2</td>\n",
              "    </tr>\n",
              "    <tr>\n",
              "      <th>2</th>\n",
              "      <td>2000</td>\n",
              "      <td>(ina.rangel@enron.com)</td>\n",
              "      <td>50</td>\n",
              "    </tr>\n",
              "    <tr>\n",
              "      <th>3</th>\n",
              "      <td>2000</td>\n",
              "      <td>(jsmith@austintx.com)</td>\n",
              "      <td>27</td>\n",
              "    </tr>\n",
              "    <tr>\n",
              "      <th>4</th>\n",
              "      <td>2000</td>\n",
              "      <td>(keith.holst@enron.com)</td>\n",
              "      <td>22</td>\n",
              "    </tr>\n",
              "    <tr>\n",
              "      <th>5</th>\n",
              "      <td>2000</td>\n",
              "      <td>(pallen70@hotmail.com)</td>\n",
              "      <td>28</td>\n",
              "    </tr>\n",
              "    <tr>\n",
              "      <th>6</th>\n",
              "      <td>2000</td>\n",
              "      <td>(stagecoachmama@hotmail.com)</td>\n",
              "      <td>39</td>\n",
              "    </tr>\n",
              "    <tr>\n",
              "      <th>7</th>\n",
              "      <td>2001</td>\n",
              "      <td>(ina.rangel@enron.com)</td>\n",
              "      <td>16</td>\n",
              "    </tr>\n",
              "    <tr>\n",
              "      <th>8</th>\n",
              "      <td>2001</td>\n",
              "      <td>(jsmith@austintx.com)</td>\n",
              "      <td>32</td>\n",
              "    </tr>\n",
              "    <tr>\n",
              "      <th>9</th>\n",
              "      <td>2001</td>\n",
              "      <td>(keith.holst@enron.com)</td>\n",
              "      <td>15</td>\n",
              "    </tr>\n",
              "    <tr>\n",
              "      <th>10</th>\n",
              "      <td>2001</td>\n",
              "      <td>(pallen70@hotmail.com)</td>\n",
              "      <td>12</td>\n",
              "    </tr>\n",
              "    <tr>\n",
              "      <th>11</th>\n",
              "      <td>2001</td>\n",
              "      <td>(stagecoachmama@hotmail.com)</td>\n",
              "      <td>20</td>\n",
              "    </tr>\n",
              "  </tbody>\n",
              "</table>\n",
              "</div>"
            ],
            "text/plain": [
              "    Year                      Receiver  Number of Emails Received\n",
              "0   1980         (jsmith@austintx.com)                          1\n",
              "1   1999        (pallen70@hotmail.com)                          2\n",
              "2   2000        (ina.rangel@enron.com)                         50\n",
              "3   2000         (jsmith@austintx.com)                         27\n",
              "4   2000       (keith.holst@enron.com)                         22\n",
              "5   2000        (pallen70@hotmail.com)                         28\n",
              "6   2000  (stagecoachmama@hotmail.com)                         39\n",
              "7   2001        (ina.rangel@enron.com)                         16\n",
              "8   2001         (jsmith@austintx.com)                         32\n",
              "9   2001       (keith.holst@enron.com)                         15\n",
              "10  2001        (pallen70@hotmail.com)                         12\n",
              "11  2001  (stagecoachmama@hotmail.com)                         20"
            ]
          },
          "metadata": {},
          "execution_count": 72
        }
      ]
    },
    {
      "cell_type": "code",
      "metadata": {
        "colab": {
          "base_uri": "https://localhost:8080/"
        },
        "id": "B2WCwIWWQorI",
        "outputId": "615d951e-6f74-4850-db5c-729a559948ea"
      },
      "source": [
        "## Number of emails received per year\n",
        "\n",
        "received_year.groupby('Year')['Number of Emails Received'].sum()"
      ],
      "execution_count": 73,
      "outputs": [
        {
          "output_type": "execute_result",
          "data": {
            "text/plain": [
              "Year\n",
              "1980      1\n",
              "1999      2\n",
              "2000    166\n",
              "2001     95\n",
              "Name: Number of Emails Received, dtype: int64"
            ]
          },
          "metadata": {},
          "execution_count": 73
        }
      ]
    },
    {
      "cell_type": "code",
      "metadata": {
        "colab": {
          "base_uri": "https://localhost:8080/",
          "height": 623
        },
        "id": "Qq3qn8Wac9wi",
        "outputId": "54af0c73-f1bd-45a3-d12a-bad4ddb2782b"
      },
      "source": [
        "fig,ax = plt.subplots()\n",
        "fig.set_size_inches(16,10)\n",
        "sns.barplot(x='Year',y='Number of Emails Received',data = received_year, hue='Receiver')"
      ],
      "execution_count": 74,
      "outputs": [
        {
          "output_type": "execute_result",
          "data": {
            "text/plain": [
              "<matplotlib.axes._subplots.AxesSubplot at 0x7f25662ba1d0>"
            ]
          },
          "metadata": {},
          "execution_count": 74
        },
        {
          "output_type": "display_data",
          "data": {
            "image/png": "[encoded data removed]",
            "text/plain": [
              "<Figure size 1152x720 with 1 Axes>"
            ]
          },
          "metadata": {
            "needs_background": "light"
          }
        }
      ]
    },
    {
      "cell_type": "markdown",
      "metadata": {
        "id": "lP9HHpSDSLrW"
      },
      "source": [
        "#### **THE YEARS OF 2000 AND 2001 ACCOUNT FOR MOST OF THE RECEIVED EMAILS, WITH 165 EMAILS RECEIVED IN 2000 AND 95 RECEIVED IN 2001, WITH RESPECT TO THE TOP 5 EMAIL IDs**"
      ]
    },
    {
      "cell_type": "markdown",
      "metadata": {
        "id": "1SKy-_k4RnxW"
      },
      "source": [
        "#### **FOCUSING ON THE TOP 5 EMAIL IDs FOR EACH MONTH, BASED ON THE NUMBER OF EMAILS RECEIVED**"
      ]
    },
    {
      "cell_type": "code",
      "metadata": {
        "colab": {
          "base_uri": "https://localhost:8080/",
          "height": 1000
        },
        "id": "uFpJA9xxRx61",
        "outputId": "61f2261f-96b6-4964-c1e2-1a0017277c3e"
      },
      "source": [
        "q = \"\"\"SELECT strftime('%m', Date) AS Month , Receiver, COUNT(*) AS 'Number of Emails Received'\n",
        "       FROM df \n",
        "       WHERE Receiver in ('(ina.rangel@enron.com)', '(jsmith@austintx.com)', '(stagecoachmama@hotmail.com)',\n",
        "       '(pallen70@hotmail.com)', '(keith.holst@enron.com)')\n",
        "       GROUP BY 1, 2\n",
        "       ORDER BY 1, 2;\"\"\"\n",
        "\n",
        "received_month = pysqldf(q)\n",
        "received_month"
      ],
      "execution_count": 75,
      "outputs": [
        {
          "output_type": "execute_result",
          "data": {
            "text/html": [
              "<div>\n",
              "<style scoped>\n",
              "    .dataframe tbody tr th:only-of-type {\n",
              "        vertical-align: middle;\n",
              "    }\n",
              "\n",
              "    .dataframe tbody tr th {\n",
              "        vertical-align: top;\n",
              "    }\n",
              "\n",
              "    .dataframe thead th {\n",
              "        text-align: right;\n",
              "    }\n",
              "</style>\n",
              "<table border=\"1\" class=\"dataframe\">\n",
              "  <thead>\n",
              "    <tr style=\"text-align: right;\">\n",
              "      <th></th>\n",
              "      <th>Month</th>\n",
              "      <th>Receiver</th>\n",
              "      <th>Number of Emails Received</th>\n",
              "    </tr>\n",
              "  </thead>\n",
              "  <tbody>\n",
              "    <tr>\n",
              "      <th>0</th>\n",
              "      <td>01</td>\n",
              "      <td>(ina.rangel@enron.com)</td>\n",
              "      <td>2</td>\n",
              "    </tr>\n",
              "    <tr>\n",
              "      <th>1</th>\n",
              "      <td>01</td>\n",
              "      <td>(jsmith@austintx.com)</td>\n",
              "      <td>4</td>\n",
              "    </tr>\n",
              "    <tr>\n",
              "      <th>2</th>\n",
              "      <td>01</td>\n",
              "      <td>(keith.holst@enron.com)</td>\n",
              "      <td>2</td>\n",
              "    </tr>\n",
              "    <tr>\n",
              "      <th>3</th>\n",
              "      <td>01</td>\n",
              "      <td>(pallen70@hotmail.com)</td>\n",
              "      <td>5</td>\n",
              "    </tr>\n",
              "    <tr>\n",
              "      <th>4</th>\n",
              "      <td>01</td>\n",
              "      <td>(stagecoachmama@hotmail.com)</td>\n",
              "      <td>6</td>\n",
              "    </tr>\n",
              "    <tr>\n",
              "      <th>5</th>\n",
              "      <td>02</td>\n",
              "      <td>(ina.rangel@enron.com)</td>\n",
              "      <td>1</td>\n",
              "    </tr>\n",
              "    <tr>\n",
              "      <th>6</th>\n",
              "      <td>02</td>\n",
              "      <td>(jsmith@austintx.com)</td>\n",
              "      <td>6</td>\n",
              "    </tr>\n",
              "    <tr>\n",
              "      <th>7</th>\n",
              "      <td>02</td>\n",
              "      <td>(keith.holst@enron.com)</td>\n",
              "      <td>8</td>\n",
              "    </tr>\n",
              "    <tr>\n",
              "      <th>8</th>\n",
              "      <td>02</td>\n",
              "      <td>(pallen70@hotmail.com)</td>\n",
              "      <td>6</td>\n",
              "    </tr>\n",
              "    <tr>\n",
              "      <th>9</th>\n",
              "      <td>02</td>\n",
              "      <td>(stagecoachmama@hotmail.com)</td>\n",
              "      <td>7</td>\n",
              "    </tr>\n",
              "    <tr>\n",
              "      <th>10</th>\n",
              "      <td>03</td>\n",
              "      <td>(ina.rangel@enron.com)</td>\n",
              "      <td>6</td>\n",
              "    </tr>\n",
              "    <tr>\n",
              "      <th>11</th>\n",
              "      <td>03</td>\n",
              "      <td>(jsmith@austintx.com)</td>\n",
              "      <td>8</td>\n",
              "    </tr>\n",
              "    <tr>\n",
              "      <th>12</th>\n",
              "      <td>03</td>\n",
              "      <td>(keith.holst@enron.com)</td>\n",
              "      <td>4</td>\n",
              "    </tr>\n",
              "    <tr>\n",
              "      <th>13</th>\n",
              "      <td>03</td>\n",
              "      <td>(pallen70@hotmail.com)</td>\n",
              "      <td>3</td>\n",
              "    </tr>\n",
              "    <tr>\n",
              "      <th>14</th>\n",
              "      <td>03</td>\n",
              "      <td>(stagecoachmama@hotmail.com)</td>\n",
              "      <td>3</td>\n",
              "    </tr>\n",
              "    <tr>\n",
              "      <th>15</th>\n",
              "      <td>04</td>\n",
              "      <td>(ina.rangel@enron.com)</td>\n",
              "      <td>7</td>\n",
              "    </tr>\n",
              "    <tr>\n",
              "      <th>16</th>\n",
              "      <td>04</td>\n",
              "      <td>(jsmith@austintx.com)</td>\n",
              "      <td>17</td>\n",
              "    </tr>\n",
              "    <tr>\n",
              "      <th>17</th>\n",
              "      <td>04</td>\n",
              "      <td>(keith.holst@enron.com)</td>\n",
              "      <td>6</td>\n",
              "    </tr>\n",
              "    <tr>\n",
              "      <th>18</th>\n",
              "      <td>04</td>\n",
              "      <td>(pallen70@hotmail.com)</td>\n",
              "      <td>2</td>\n",
              "    </tr>\n",
              "    <tr>\n",
              "      <th>19</th>\n",
              "      <td>04</td>\n",
              "      <td>(stagecoachmama@hotmail.com)</td>\n",
              "      <td>4</td>\n",
              "    </tr>\n",
              "    <tr>\n",
              "      <th>20</th>\n",
              "      <td>05</td>\n",
              "      <td>(ina.rangel@enron.com)</td>\n",
              "      <td>6</td>\n",
              "    </tr>\n",
              "    <tr>\n",
              "      <th>21</th>\n",
              "      <td>05</td>\n",
              "      <td>(jsmith@austintx.com)</td>\n",
              "      <td>8</td>\n",
              "    </tr>\n",
              "    <tr>\n",
              "      <th>22</th>\n",
              "      <td>05</td>\n",
              "      <td>(keith.holst@enron.com)</td>\n",
              "      <td>3</td>\n",
              "    </tr>\n",
              "    <tr>\n",
              "      <th>23</th>\n",
              "      <td>05</td>\n",
              "      <td>(stagecoachmama@hotmail.com)</td>\n",
              "      <td>4</td>\n",
              "    </tr>\n",
              "    <tr>\n",
              "      <th>24</th>\n",
              "      <td>06</td>\n",
              "      <td>(ina.rangel@enron.com)</td>\n",
              "      <td>2</td>\n",
              "    </tr>\n",
              "    <tr>\n",
              "      <th>25</th>\n",
              "      <td>06</td>\n",
              "      <td>(jsmith@austintx.com)</td>\n",
              "      <td>2</td>\n",
              "    </tr>\n",
              "    <tr>\n",
              "      <th>26</th>\n",
              "      <td>06</td>\n",
              "      <td>(keith.holst@enron.com)</td>\n",
              "      <td>2</td>\n",
              "    </tr>\n",
              "    <tr>\n",
              "      <th>27</th>\n",
              "      <td>06</td>\n",
              "      <td>(stagecoachmama@hotmail.com)</td>\n",
              "      <td>6</td>\n",
              "    </tr>\n",
              "    <tr>\n",
              "      <th>28</th>\n",
              "      <td>07</td>\n",
              "      <td>(ina.rangel@enron.com)</td>\n",
              "      <td>8</td>\n",
              "    </tr>\n",
              "    <tr>\n",
              "      <th>29</th>\n",
              "      <td>07</td>\n",
              "      <td>(jsmith@austintx.com)</td>\n",
              "      <td>2</td>\n",
              "    </tr>\n",
              "    <tr>\n",
              "      <th>30</th>\n",
              "      <td>07</td>\n",
              "      <td>(keith.holst@enron.com)</td>\n",
              "      <td>2</td>\n",
              "    </tr>\n",
              "    <tr>\n",
              "      <th>31</th>\n",
              "      <td>07</td>\n",
              "      <td>(stagecoachmama@hotmail.com)</td>\n",
              "      <td>2</td>\n",
              "    </tr>\n",
              "    <tr>\n",
              "      <th>32</th>\n",
              "      <td>08</td>\n",
              "      <td>(ina.rangel@enron.com)</td>\n",
              "      <td>10</td>\n",
              "    </tr>\n",
              "    <tr>\n",
              "      <th>33</th>\n",
              "      <td>08</td>\n",
              "      <td>(keith.holst@enron.com)</td>\n",
              "      <td>2</td>\n",
              "    </tr>\n",
              "    <tr>\n",
              "      <th>34</th>\n",
              "      <td>08</td>\n",
              "      <td>(pallen70@hotmail.com)</td>\n",
              "      <td>6</td>\n",
              "    </tr>\n",
              "    <tr>\n",
              "      <th>35</th>\n",
              "      <td>08</td>\n",
              "      <td>(stagecoachmama@hotmail.com)</td>\n",
              "      <td>16</td>\n",
              "    </tr>\n",
              "    <tr>\n",
              "      <th>36</th>\n",
              "      <td>09</td>\n",
              "      <td>(ina.rangel@enron.com)</td>\n",
              "      <td>18</td>\n",
              "    </tr>\n",
              "    <tr>\n",
              "      <th>37</th>\n",
              "      <td>09</td>\n",
              "      <td>(jsmith@austintx.com)</td>\n",
              "      <td>10</td>\n",
              "    </tr>\n",
              "    <tr>\n",
              "      <th>38</th>\n",
              "      <td>09</td>\n",
              "      <td>(keith.holst@enron.com)</td>\n",
              "      <td>2</td>\n",
              "    </tr>\n",
              "    <tr>\n",
              "      <th>39</th>\n",
              "      <td>09</td>\n",
              "      <td>(pallen70@hotmail.com)</td>\n",
              "      <td>10</td>\n",
              "    </tr>\n",
              "    <tr>\n",
              "      <th>40</th>\n",
              "      <td>09</td>\n",
              "      <td>(stagecoachmama@hotmail.com)</td>\n",
              "      <td>4</td>\n",
              "    </tr>\n",
              "    <tr>\n",
              "      <th>41</th>\n",
              "      <td>10</td>\n",
              "      <td>(ina.rangel@enron.com)</td>\n",
              "      <td>4</td>\n",
              "    </tr>\n",
              "    <tr>\n",
              "      <th>42</th>\n",
              "      <td>10</td>\n",
              "      <td>(keith.holst@enron.com)</td>\n",
              "      <td>5</td>\n",
              "    </tr>\n",
              "    <tr>\n",
              "      <th>43</th>\n",
              "      <td>10</td>\n",
              "      <td>(pallen70@hotmail.com)</td>\n",
              "      <td>2</td>\n",
              "    </tr>\n",
              "    <tr>\n",
              "      <th>44</th>\n",
              "      <td>10</td>\n",
              "      <td>(stagecoachmama@hotmail.com)</td>\n",
              "      <td>2</td>\n",
              "    </tr>\n",
              "    <tr>\n",
              "      <th>45</th>\n",
              "      <td>11</td>\n",
              "      <td>(ina.rangel@enron.com)</td>\n",
              "      <td>2</td>\n",
              "    </tr>\n",
              "    <tr>\n",
              "      <th>46</th>\n",
              "      <td>11</td>\n",
              "      <td>(keith.holst@enron.com)</td>\n",
              "      <td>1</td>\n",
              "    </tr>\n",
              "    <tr>\n",
              "      <th>47</th>\n",
              "      <td>11</td>\n",
              "      <td>(pallen70@hotmail.com)</td>\n",
              "      <td>4</td>\n",
              "    </tr>\n",
              "    <tr>\n",
              "      <th>48</th>\n",
              "      <td>11</td>\n",
              "      <td>(stagecoachmama@hotmail.com)</td>\n",
              "      <td>1</td>\n",
              "    </tr>\n",
              "    <tr>\n",
              "      <th>49</th>\n",
              "      <td>12</td>\n",
              "      <td>(jsmith@austintx.com)</td>\n",
              "      <td>3</td>\n",
              "    </tr>\n",
              "    <tr>\n",
              "      <th>50</th>\n",
              "      <td>12</td>\n",
              "      <td>(pallen70@hotmail.com)</td>\n",
              "      <td>4</td>\n",
              "    </tr>\n",
              "    <tr>\n",
              "      <th>51</th>\n",
              "      <td>12</td>\n",
              "      <td>(stagecoachmama@hotmail.com)</td>\n",
              "      <td>4</td>\n",
              "    </tr>\n",
              "  </tbody>\n",
              "</table>\n",
              "</div>"
            ],
            "text/plain": [
              "   Month                      Receiver  Number of Emails Received\n",
              "0     01        (ina.rangel@enron.com)                          2\n",
              "1     01         (jsmith@austintx.com)                          4\n",
              "2     01       (keith.holst@enron.com)                          2\n",
              "3     01        (pallen70@hotmail.com)                          5\n",
              "4     01  (stagecoachmama@hotmail.com)                          6\n",
              "5     02        (ina.rangel@enron.com)                          1\n",
              "6     02         (jsmith@austintx.com)                          6\n",
              "7     02       (keith.holst@enron.com)                          8\n",
              "8     02        (pallen70@hotmail.com)                          6\n",
              "9     02  (stagecoachmama@hotmail.com)                          7\n",
              "10    03        (ina.rangel@enron.com)                          6\n",
              "11    03         (jsmith@austintx.com)                          8\n",
              "12    03       (keith.holst@enron.com)                          4\n",
              "13    03        (pallen70@hotmail.com)                          3\n",
              "14    03  (stagecoachmama@hotmail.com)                          3\n",
              "15    04        (ina.rangel@enron.com)                          7\n",
              "16    04         (jsmith@austintx.com)                         17\n",
              "17    04       (keith.holst@enron.com)                          6\n",
              "18    04        (pallen70@hotmail.com)                          2\n",
              "19    04  (stagecoachmama@hotmail.com)                          4\n",
              "20    05        (ina.rangel@enron.com)                          6\n",
              "21    05         (jsmith@austintx.com)                          8\n",
              "22    05       (keith.holst@enron.com)                          3\n",
              "23    05  (stagecoachmama@hotmail.com)                          4\n",
              "24    06        (ina.rangel@enron.com)                          2\n",
              "25    06         (jsmith@austintx.com)                          2\n",
              "26    06       (keith.holst@enron.com)                          2\n",
              "27    06  (stagecoachmama@hotmail.com)                          6\n",
              "28    07        (ina.rangel@enron.com)                          8\n",
              "29    07         (jsmith@austintx.com)                          2\n",
              "30    07       (keith.holst@enron.com)                          2\n",
              "31    07  (stagecoachmama@hotmail.com)                          2\n",
              "32    08        (ina.rangel@enron.com)                         10\n",
              "33    08       (keith.holst@enron.com)                          2\n",
              "34    08        (pallen70@hotmail.com)                          6\n",
              "35    08  (stagecoachmama@hotmail.com)                         16\n",
              "36    09        (ina.rangel@enron.com)                         18\n",
              "37    09         (jsmith@austintx.com)                         10\n",
              "38    09       (keith.holst@enron.com)                          2\n",
              "39    09        (pallen70@hotmail.com)                         10\n",
              "40    09  (stagecoachmama@hotmail.com)                          4\n",
              "41    10        (ina.rangel@enron.com)                          4\n",
              "42    10       (keith.holst@enron.com)                          5\n",
              "43    10        (pallen70@hotmail.com)                          2\n",
              "44    10  (stagecoachmama@hotmail.com)                          2\n",
              "45    11        (ina.rangel@enron.com)                          2\n",
              "46    11       (keith.holst@enron.com)                          1\n",
              "47    11        (pallen70@hotmail.com)                          4\n",
              "48    11  (stagecoachmama@hotmail.com)                          1\n",
              "49    12         (jsmith@austintx.com)                          3\n",
              "50    12        (pallen70@hotmail.com)                          4\n",
              "51    12  (stagecoachmama@hotmail.com)                          4"
            ]
          },
          "metadata": {},
          "execution_count": 75
        }
      ]
    },
    {
      "cell_type": "code",
      "metadata": {
        "colab": {
          "base_uri": "https://localhost:8080/"
        },
        "id": "i0BVUtmjSi-8",
        "outputId": "e7e06a18-c878-46e4-8d5d-735475e8701d"
      },
      "source": [
        "## Number of emails received per month\n",
        "\n",
        "received_month.groupby('Month')['Number of Emails Received'].sum()"
      ],
      "execution_count": 76,
      "outputs": [
        {
          "output_type": "execute_result",
          "data": {
            "text/plain": [
              "Month\n",
              "01    19\n",
              "02    28\n",
              "03    24\n",
              "04    36\n",
              "05    21\n",
              "06    12\n",
              "07    14\n",
              "08    34\n",
              "09    44\n",
              "10    13\n",
              "11     8\n",
              "12    11\n",
              "Name: Number of Emails Received, dtype: int64"
            ]
          },
          "metadata": {},
          "execution_count": 76
        }
      ]
    },
    {
      "cell_type": "code",
      "metadata": {
        "colab": {
          "base_uri": "https://localhost:8080/",
          "height": 623
        },
        "id": "oaYZwFoESSyI",
        "outputId": "76a0cc45-d249-41b4-f200-42278ecaa9af"
      },
      "source": [
        "fig,ax = plt.subplots()\n",
        "fig.set_size_inches(16,10)\n",
        "sns.barplot(x='Month',y='Number of Emails Received',data = received_month, hue='Receiver')"
      ],
      "execution_count": 77,
      "outputs": [
        {
          "output_type": "execute_result",
          "data": {
            "text/plain": [
              "<matplotlib.axes._subplots.AxesSubplot at 0x7f2563798290>"
            ]
          },
          "metadata": {},
          "execution_count": 77
        },
        {
          "output_type": "display_data",
          "data": {
            "image/png": "[encoded data removed]",
            "text/plain": [
              "<Figure size 1152x720 with 1 Axes>"
            ]
          },
          "metadata": {
            "needs_background": "light"
          }
        }
      ]
    },
    {
      "cell_type": "markdown",
      "metadata": {
        "id": "Xmk4ggVPW-ch"
      },
      "source": [
        "#### **THE HIGHEST NUMBER OF EMAILS RECEIVED IN IN THE MONHT OF SEPTEMBER, FOLLOWED BY APRIL AND THEN AUGUST, WITH RESPECT TO THE TOP 5 EMAIL IDs.**"
      ]
    },
    {
      "cell_type": "code",
      "metadata": {
        "colab": {
          "base_uri": "https://localhost:8080/",
          "height": 359
        },
        "id": "c6CkVwGMdCbZ",
        "outputId": "583fd984-850c-4d3e-fe46-d700edca08d8"
      },
      "source": [
        "df.head(10)"
      ],
      "execution_count": 78,
      "outputs": [
        {
          "output_type": "execute_result",
          "data": {
            "text/html": [
              "<div>\n",
              "<style scoped>\n",
              "    .dataframe tbody tr th:only-of-type {\n",
              "        vertical-align: middle;\n",
              "    }\n",
              "\n",
              "    .dataframe tbody tr th {\n",
              "        vertical-align: top;\n",
              "    }\n",
              "\n",
              "    .dataframe thead th {\n",
              "        text-align: right;\n",
              "    }\n",
              "</style>\n",
              "<table border=\"1\" class=\"dataframe\">\n",
              "  <thead>\n",
              "    <tr style=\"text-align: right;\">\n",
              "      <th></th>\n",
              "      <th>Date</th>\n",
              "      <th>Sender</th>\n",
              "      <th>Receiver</th>\n",
              "      <th>Subject</th>\n",
              "      <th>content</th>\n",
              "    </tr>\n",
              "  </thead>\n",
              "  <tbody>\n",
              "    <tr>\n",
              "      <th>0</th>\n",
              "      <td>2001-05-14</td>\n",
              "      <td>(phillip.allen@enron.com)</td>\n",
              "      <td>(tim.belden@enron.com)</td>\n",
              "      <td>NaN</td>\n",
              "      <td>Here is our forecast\\n\\n</td>\n",
              "    </tr>\n",
              "    <tr>\n",
              "      <th>1</th>\n",
              "      <td>2001-05-04</td>\n",
              "      <td>(phillip.allen@enron.com)</td>\n",
              "      <td>(john.lavorato@enron.com)</td>\n",
              "      <td>Re:</td>\n",
              "      <td>Traveling to have a business meeting takes the...</td>\n",
              "    </tr>\n",
              "    <tr>\n",
              "      <th>2</th>\n",
              "      <td>2000-10-18</td>\n",
              "      <td>(phillip.allen@enron.com)</td>\n",
              "      <td>(leah.arsdall@enron.com)</td>\n",
              "      <td>Re: test</td>\n",
              "      <td>test successful.  way to go!!!</td>\n",
              "    </tr>\n",
              "    <tr>\n",
              "      <th>3</th>\n",
              "      <td>2000-10-23</td>\n",
              "      <td>(phillip.allen@enron.com)</td>\n",
              "      <td>(randall.gay@enron.com)</td>\n",
              "      <td>NaN</td>\n",
              "      <td>Randy,\\n\\n Can you send me a schedule of the s...</td>\n",
              "    </tr>\n",
              "    <tr>\n",
              "      <th>4</th>\n",
              "      <td>2000-08-31</td>\n",
              "      <td>(phillip.allen@enron.com)</td>\n",
              "      <td>(greg.piper@enron.com)</td>\n",
              "      <td>Re: Hello</td>\n",
              "      <td>Let's shoot for Tuesday at 11:45.</td>\n",
              "    </tr>\n",
              "    <tr>\n",
              "      <th>5</th>\n",
              "      <td>2000-08-31</td>\n",
              "      <td>(phillip.allen@enron.com)</td>\n",
              "      <td>(greg.piper@enron.com)</td>\n",
              "      <td>Re: Hello</td>\n",
              "      <td>Greg,\\n\\n How about either next Tuesday or Thu...</td>\n",
              "    </tr>\n",
              "    <tr>\n",
              "      <th>6</th>\n",
              "      <td>2000-08-22</td>\n",
              "      <td>(phillip.allen@enron.com)</td>\n",
              "      <td>(john.shafer@enron.com, david.l.johnson@enron....</td>\n",
              "      <td>NaN</td>\n",
              "      <td>Please cc the following distribution list with...</td>\n",
              "    </tr>\n",
              "    <tr>\n",
              "      <th>7</th>\n",
              "      <td>2000-07-14</td>\n",
              "      <td>(phillip.allen@enron.com)</td>\n",
              "      <td>(joyce.teixeira@enron.com)</td>\n",
              "      <td>Re: PRC review - phone calls</td>\n",
              "      <td>any morning between 10 and 11:30</td>\n",
              "    </tr>\n",
              "    <tr>\n",
              "      <th>8</th>\n",
              "      <td>2000-10-17</td>\n",
              "      <td>(phillip.allen@enron.com)</td>\n",
              "      <td>(mark.scott@enron.com)</td>\n",
              "      <td>Re: High Speed Internet Access</td>\n",
              "      <td>1. login:  pallen pw: ke9davis\\n\\n I don't thi...</td>\n",
              "    </tr>\n",
              "    <tr>\n",
              "      <th>9</th>\n",
              "      <td>2000-10-16</td>\n",
              "      <td>(phillip.allen@enron.com)</td>\n",
              "      <td>(zimam@enron.com)</td>\n",
              "      <td>FW: fixed forward or other Collar floor gas pr...</td>\n",
              "      <td>---------------------- Forwarded by Phillip K ...</td>\n",
              "    </tr>\n",
              "  </tbody>\n",
              "</table>\n",
              "</div>"
            ],
            "text/plain": [
              "        Date  ...                                            content\n",
              "0 2001-05-14  ...                          Here is our forecast\\n\\n \n",
              "1 2001-05-04  ...  Traveling to have a business meeting takes the...\n",
              "2 2000-10-18  ...                     test successful.  way to go!!!\n",
              "3 2000-10-23  ...  Randy,\\n\\n Can you send me a schedule of the s...\n",
              "4 2000-08-31  ...                Let's shoot for Tuesday at 11:45.  \n",
              "5 2000-08-31  ...  Greg,\\n\\n How about either next Tuesday or Thu...\n",
              "6 2000-08-22  ...  Please cc the following distribution list with...\n",
              "7 2000-07-14  ...                   any morning between 10 and 11:30\n",
              "8 2000-10-17  ...  1. login:  pallen pw: ke9davis\\n\\n I don't thi...\n",
              "9 2000-10-16  ...  ---------------------- Forwarded by Phillip K ...\n",
              "\n",
              "[10 rows x 5 columns]"
            ]
          },
          "metadata": {},
          "execution_count": 78
        }
      ]
    },
    {
      "cell_type": "markdown",
      "metadata": {
        "id": "W8_tkBaWXzpk"
      },
      "source": [
        "#### **ANALYZING THE SUBJECT OF THE EMAILS**"
      ]
    },
    {
      "cell_type": "code",
      "metadata": {
        "colab": {
          "base_uri": "https://localhost:8080/"
        },
        "id": "v7wpbpF-Xihm",
        "outputId": "e0c48dd3-b3f9-4f42-da7e-a598b71d6150"
      },
      "source": [
        "df['Subject'].isna().sum()"
      ],
      "execution_count": 79,
      "outputs": [
        {
          "output_type": "execute_result",
          "data": {
            "text/plain": [
              "302"
            ]
          },
          "metadata": {},
          "execution_count": 79
        }
      ]
    },
    {
      "cell_type": "markdown",
      "metadata": {
        "id": "q8xpXGh-d3Pk"
      },
      "source": [
        "#### **IN 302 OF ALL THE EMAILS SENT, i.e, 30.2%, THERE IS NO SUBJECT MENTIONED.**"
      ]
    },
    {
      "cell_type": "code",
      "metadata": {
        "colab": {
          "base_uri": "https://localhost:8080/",
          "height": 419
        },
        "id": "It7KX7M7XoD8",
        "outputId": "fd425094-837c-477c-8512-3ed63dcf31dd"
      },
      "source": [
        "## Finding emails which are replies\n",
        "reply_emails = df.loc[df['Subject'].str.contains(\"Re:\", case=False, na=False)]\n",
        "reply_emails"
      ],
      "execution_count": 80,
      "outputs": [
        {
          "output_type": "execute_result",
          "data": {
            "text/html": [
              "<div>\n",
              "<style scoped>\n",
              "    .dataframe tbody tr th:only-of-type {\n",
              "        vertical-align: middle;\n",
              "    }\n",
              "\n",
              "    .dataframe tbody tr th {\n",
              "        vertical-align: top;\n",
              "    }\n",
              "\n",
              "    .dataframe thead th {\n",
              "        text-align: right;\n",
              "    }\n",
              "</style>\n",
              "<table border=\"1\" class=\"dataframe\">\n",
              "  <thead>\n",
              "    <tr style=\"text-align: right;\">\n",
              "      <th></th>\n",
              "      <th>Date</th>\n",
              "      <th>Sender</th>\n",
              "      <th>Receiver</th>\n",
              "      <th>Subject</th>\n",
              "      <th>content</th>\n",
              "    </tr>\n",
              "  </thead>\n",
              "  <tbody>\n",
              "    <tr>\n",
              "      <th>1</th>\n",
              "      <td>2001-05-04</td>\n",
              "      <td>(phillip.allen@enron.com)</td>\n",
              "      <td>(john.lavorato@enron.com)</td>\n",
              "      <td>Re:</td>\n",
              "      <td>Traveling to have a business meeting takes the...</td>\n",
              "    </tr>\n",
              "    <tr>\n",
              "      <th>2</th>\n",
              "      <td>2000-10-18</td>\n",
              "      <td>(phillip.allen@enron.com)</td>\n",
              "      <td>(leah.arsdall@enron.com)</td>\n",
              "      <td>Re: test</td>\n",
              "      <td>test successful.  way to go!!!</td>\n",
              "    </tr>\n",
              "    <tr>\n",
              "      <th>4</th>\n",
              "      <td>2000-08-31</td>\n",
              "      <td>(phillip.allen@enron.com)</td>\n",
              "      <td>(greg.piper@enron.com)</td>\n",
              "      <td>Re: Hello</td>\n",
              "      <td>Let's shoot for Tuesday at 11:45.</td>\n",
              "    </tr>\n",
              "    <tr>\n",
              "      <th>5</th>\n",
              "      <td>2000-08-31</td>\n",
              "      <td>(phillip.allen@enron.com)</td>\n",
              "      <td>(greg.piper@enron.com)</td>\n",
              "      <td>Re: Hello</td>\n",
              "      <td>Greg,\\n\\n How about either next Tuesday or Thu...</td>\n",
              "    </tr>\n",
              "    <tr>\n",
              "      <th>7</th>\n",
              "      <td>2000-07-14</td>\n",
              "      <td>(phillip.allen@enron.com)</td>\n",
              "      <td>(joyce.teixeira@enron.com)</td>\n",
              "      <td>Re: PRC review - phone calls</td>\n",
              "      <td>any morning between 10 and 11:30</td>\n",
              "    </tr>\n",
              "    <tr>\n",
              "      <th>...</th>\n",
              "      <td>...</td>\n",
              "      <td>...</td>\n",
              "      <td>...</td>\n",
              "      <td>...</td>\n",
              "      <td>...</td>\n",
              "    </tr>\n",
              "    <tr>\n",
              "      <th>988</th>\n",
              "      <td>2001-03-26</td>\n",
              "      <td>(phillip.allen@enron.com)</td>\n",
              "      <td>(stouchstone@natsource.com)</td>\n",
              "      <td>Re:</td>\n",
              "      <td>Steve,\\n\\nTry bmckay@enron.com or Brad.McKay@e...</td>\n",
              "    </tr>\n",
              "    <tr>\n",
              "      <th>989</th>\n",
              "      <td>2001-03-26</td>\n",
              "      <td>(phillip.allen@enron.com)</td>\n",
              "      <td>(llewter@austin.rr.com)</td>\n",
              "      <td>Re: Buyout</td>\n",
              "      <td>Larry,\\n\\nJacques has been working with Claudi...</td>\n",
              "    </tr>\n",
              "    <tr>\n",
              "      <th>991</th>\n",
              "      <td>2001-03-19</td>\n",
              "      <td>(phillip.allen@enron.com)</td>\n",
              "      <td>(jacquestc@aol.com)</td>\n",
              "      <td>RE: Buyout</td>\n",
              "      <td>Jacques,\\n\\nHere is Larry Lewter's response to...</td>\n",
              "    </tr>\n",
              "    <tr>\n",
              "      <th>993</th>\n",
              "      <td>2001-03-19</td>\n",
              "      <td>(mark.whitt@enron.com)</td>\n",
              "      <td>(jay.reitmeyer@enron.com)</td>\n",
              "      <td>Re: Denver trading</td>\n",
              "      <td>In regards to your E-mail, I have recently bee...</td>\n",
              "    </tr>\n",
              "    <tr>\n",
              "      <th>996</th>\n",
              "      <td>2001-03-19</td>\n",
              "      <td>(phillip.allen@enron.com)</td>\n",
              "      <td>(llewter@austin.rr.com)</td>\n",
              "      <td>Re: Buyout</td>\n",
              "      <td>Larrry,\\n\\nI realize you are disappointed abou...</td>\n",
              "    </tr>\n",
              "  </tbody>\n",
              "</table>\n",
              "<p>414 rows × 5 columns</p>\n",
              "</div>"
            ],
            "text/plain": [
              "          Date  ...                                            content\n",
              "1   2001-05-04  ...  Traveling to have a business meeting takes the...\n",
              "2   2000-10-18  ...                     test successful.  way to go!!!\n",
              "4   2000-08-31  ...                Let's shoot for Tuesday at 11:45.  \n",
              "5   2000-08-31  ...  Greg,\\n\\n How about either next Tuesday or Thu...\n",
              "7   2000-07-14  ...                   any morning between 10 and 11:30\n",
              "..         ...  ...                                                ...\n",
              "988 2001-03-26  ...  Steve,\\n\\nTry bmckay@enron.com or Brad.McKay@e...\n",
              "989 2001-03-26  ...  Larry,\\n\\nJacques has been working with Claudi...\n",
              "991 2001-03-19  ...  Jacques,\\n\\nHere is Larry Lewter's response to...\n",
              "993 2001-03-19  ...  In regards to your E-mail, I have recently bee...\n",
              "996 2001-03-19  ...  Larrry,\\n\\nI realize you are disappointed abou...\n",
              "\n",
              "[414 rows x 5 columns]"
            ]
          },
          "metadata": {},
          "execution_count": 80
        }
      ]
    },
    {
      "cell_type": "markdown",
      "metadata": {
        "id": "kOke1ZsshpGf"
      },
      "source": [
        "#### **414 OF THE TOTAL 1000 EMAILS (41.4%) ARE REPLY EMAILS.**"
      ]
    },
    {
      "cell_type": "code",
      "metadata": {
        "colab": {
          "base_uri": "https://localhost:8080/"
        },
        "id": "o8xG-J_NYLR3",
        "outputId": "06888ad3-632e-45fb-c6f2-05646049e248"
      },
      "source": [
        "### Analyzing context of the reply emails\n",
        "reply_emails['Subject'].value_counts()\n"
      ],
      "execution_count": 81,
      "outputs": [
        {
          "output_type": "execute_result",
          "data": {
            "text/plain": [
              "Re:                                                                                                          53\n",
              "Re: Resume                                                                                                    7\n",
              "Re: This morning's Commission meeting delayed                                                                 6\n",
              "Re: The Stage                                                                                                 6\n",
              "Re: (No Subject)                                                                                              5\n",
              "                                                                                                             ..\n",
              "Re: Associates & Analysts Eligible for Promotion                                                              1\n",
              "Re: Draft of Opposition to ORA/TURN petition                                                                  1\n",
              "Re: Response to PGE request for gas                                                                           1\n",
              "Re: Court Ordered Notice to Customers and Registered Users of\\n living. com Regarding Sale of Information     1\n",
              "Re: Denver trading                                                                                            1\n",
              "Name: Subject, Length: 186, dtype: int64"
            ]
          },
          "metadata": {},
          "execution_count": 81
        }
      ]
    },
    {
      "cell_type": "markdown",
      "metadata": {
        "id": "xs9WvqsYjH8v"
      },
      "source": [
        "#### **OUT OF THE 414 REPLY EMAILS, 53 OF THESE (12.8%) DO NOT HAVE THE CONTEXT MENTIONED. 7 OF THE 414 REPLY EMAILS ARE CONCERNED ABOUT RESUME DISCUSSIONS.**"
      ]
    },
    {
      "cell_type": "code",
      "metadata": {
        "colab": {
          "base_uri": "https://localhost:8080/",
          "height": 589
        },
        "id": "08nU_bHViBIw",
        "outputId": "13cfe2b9-4c6e-413f-cce1-f046aa2f1ee9"
      },
      "source": [
        "non_reply_emails = df.loc[~df['Subject'].str.contains(\"Re:\", case=False, na=True)]\n",
        "non_reply_emails"
      ],
      "execution_count": 82,
      "outputs": [
        {
          "output_type": "execute_result",
          "data": {
            "text/html": [
              "<div>\n",
              "<style scoped>\n",
              "    .dataframe tbody tr th:only-of-type {\n",
              "        vertical-align: middle;\n",
              "    }\n",
              "\n",
              "    .dataframe tbody tr th {\n",
              "        vertical-align: top;\n",
              "    }\n",
              "\n",
              "    .dataframe thead th {\n",
              "        text-align: right;\n",
              "    }\n",
              "</style>\n",
              "<table border=\"1\" class=\"dataframe\">\n",
              "  <thead>\n",
              "    <tr style=\"text-align: right;\">\n",
              "      <th></th>\n",
              "      <th>Date</th>\n",
              "      <th>Sender</th>\n",
              "      <th>Receiver</th>\n",
              "      <th>Subject</th>\n",
              "      <th>content</th>\n",
              "    </tr>\n",
              "  </thead>\n",
              "  <tbody>\n",
              "    <tr>\n",
              "      <th>9</th>\n",
              "      <td>2000-10-16</td>\n",
              "      <td>(phillip.allen@enron.com)</td>\n",
              "      <td>(zimam@enron.com)</td>\n",
              "      <td>FW: fixed forward or other Collar floor gas pr...</td>\n",
              "      <td>---------------------- Forwarded by Phillip K ...</td>\n",
              "    </tr>\n",
              "    <tr>\n",
              "      <th>12</th>\n",
              "      <td>2000-10-09</td>\n",
              "      <td>(phillip.allen@enron.com)</td>\n",
              "      <td>(keith.holst@enron.com)</td>\n",
              "      <td>Consolidated positions: Issues &amp; To Do list</td>\n",
              "      <td>---------------------- Forwarded by Phillip K ...</td>\n",
              "    </tr>\n",
              "    <tr>\n",
              "      <th>13</th>\n",
              "      <td>2000-10-09</td>\n",
              "      <td>(phillip.allen@enron.com)</td>\n",
              "      <td>(keith.holst@enron.com)</td>\n",
              "      <td>Consolidated positions: Issues &amp; To Do list</td>\n",
              "      <td>---------------------- Forwarded by Phillip K ...</td>\n",
              "    </tr>\n",
              "    <tr>\n",
              "      <th>16</th>\n",
              "      <td>2000-10-04</td>\n",
              "      <td>(phillip.allen@enron.com)</td>\n",
              "      <td>(ina.rangel@enron.com)</td>\n",
              "      <td>Var, Reporting and Resources Meeting</td>\n",
              "      <td>---------------------- Forwarded by Phillip K ...</td>\n",
              "    </tr>\n",
              "    <tr>\n",
              "      <th>18</th>\n",
              "      <td>2000-10-03</td>\n",
              "      <td>(phillip.allen@enron.com)</td>\n",
              "      <td>(pallen70@hotmail.com)</td>\n",
              "      <td>Westgate</td>\n",
              "      <td>---------------------- Forwarded by Phillip K ...</td>\n",
              "    </tr>\n",
              "    <tr>\n",
              "      <th>...</th>\n",
              "      <td>...</td>\n",
              "      <td>...</td>\n",
              "      <td>...</td>\n",
              "      <td>...</td>\n",
              "      <td>...</td>\n",
              "    </tr>\n",
              "    <tr>\n",
              "      <th>975</th>\n",
              "      <td>2000-12-07</td>\n",
              "      <td>(tiffany.miller@enron.com)</td>\n",
              "      <td>(barry.tycholiz@enron.com, phillip.allen@enron...</td>\n",
              "      <td>System Development</td>\n",
              "      <td>Can you please review the following systems pr...</td>\n",
              "    </tr>\n",
              "    <tr>\n",
              "      <th>986</th>\n",
              "      <td>2000-12-07</td>\n",
              "      <td>(phillip.allen@enron.com)</td>\n",
              "      <td>(frank.ermis@enron.com, mike.grigsby@enron.com...</td>\n",
              "      <td>DJ Cal-ISO Pays $10M To Avoid Rolling Blackout...</td>\n",
              "      <td>---------------------- Forwarded by Phillip K ...</td>\n",
              "    </tr>\n",
              "    <tr>\n",
              "      <th>987</th>\n",
              "      <td>2001-03-26</td>\n",
              "      <td>(phillip.allen@enron.com)</td>\n",
              "      <td>(frank.ermis@enron.com, mike.grigsby@enron.com...</td>\n",
              "      <td>Current Gas Desk List</td>\n",
              "      <td>---------------------- Forwarded by Phillip K ...</td>\n",
              "    </tr>\n",
              "    <tr>\n",
              "      <th>994</th>\n",
              "      <td>2001-03-19</td>\n",
              "      <td>(phillip.allen@enron.com)</td>\n",
              "      <td>(ina.rangel@enron.com)</td>\n",
              "      <td>Your Approval is Overdue: Access Request for m...</td>\n",
              "      <td>Ina,\\n\\nCan you help me approve this request?\\...</td>\n",
              "    </tr>\n",
              "    <tr>\n",
              "      <th>999</th>\n",
              "      <td>2001-03-15</td>\n",
              "      <td>(phillip.allen@enron.com)</td>\n",
              "      <td>(matt.smith@enron.com)</td>\n",
              "      <td>Matt Smith</td>\n",
              "      <td>---------------------- Forwarded by Phillip K ...</td>\n",
              "    </tr>\n",
              "  </tbody>\n",
              "</table>\n",
              "<p>284 rows × 5 columns</p>\n",
              "</div>"
            ],
            "text/plain": [
              "          Date  ...                                            content\n",
              "9   2000-10-16  ...  ---------------------- Forwarded by Phillip K ...\n",
              "12  2000-10-09  ...  ---------------------- Forwarded by Phillip K ...\n",
              "13  2000-10-09  ...  ---------------------- Forwarded by Phillip K ...\n",
              "16  2000-10-04  ...  ---------------------- Forwarded by Phillip K ...\n",
              "18  2000-10-03  ...  ---------------------- Forwarded by Phillip K ...\n",
              "..         ...  ...                                                ...\n",
              "975 2000-12-07  ...  Can you please review the following systems pr...\n",
              "986 2000-12-07  ...  ---------------------- Forwarded by Phillip K ...\n",
              "987 2001-03-26  ...  ---------------------- Forwarded by Phillip K ...\n",
              "994 2001-03-19  ...  Ina,\\n\\nCan you help me approve this request?\\...\n",
              "999 2001-03-15  ...  ---------------------- Forwarded by Phillip K ...\n",
              "\n",
              "[284 rows x 5 columns]"
            ]
          },
          "metadata": {},
          "execution_count": 82
        }
      ]
    },
    {
      "cell_type": "markdown",
      "metadata": {
        "id": "tHVYbBUZkZxN"
      },
      "source": [
        "### **ABOUT 28.4% OF THE EMAILS, ARE NON-REPLY EMAILS, HAVING SOME SUBJECT MENTIONED.**"
      ]
    },
    {
      "cell_type": "code",
      "metadata": {
        "colab": {
          "base_uri": "https://localhost:8080/"
        },
        "id": "7gOSAokojhE3",
        "outputId": "04a8f405-3136-4a61-fc75-dcac03ef2b20"
      },
      "source": [
        "non_reply_emails['Subject'].value_counts()"
      ],
      "execution_count": 83,
      "outputs": [
        {
          "output_type": "execute_result",
          "data": {
            "text/plain": [
              "Request from Steve Kean                                                     6\n",
              "Westgate Proforma-Phillip Allen.xls                                         6\n",
              "New Notice from Transwestern Pipeline Co.                                   5\n",
              "Investment Structure                                                        5\n",
              "Consolidated positions: Issues & To Do list                                 4\n",
              "                                                                           ..\n",
              "Highlights of Executive Summary by KPMG -- CPUC Audit Report on\\n Edison    1\n",
              "final business points                                                       1\n",
              "Smeltering                                                                  1\n",
              "Governor Reports Results of 1st RFP -- ONLY 500 MW!!!!                      1\n",
              "System Development                                                          1\n",
              "Name: Subject, Length: 161, dtype: int64"
            ]
          },
          "metadata": {},
          "execution_count": 83
        }
      ]
    },
    {
      "cell_type": "markdown",
      "metadata": {
        "id": "H889_RaaktTq"
      },
      "source": [
        "#### **OUT OF THESE EMAILS, THE SUBJECT PERTAINING TO STEVE KEAN's REQUEST ACCOUNTS FOR MOST FREQUENCY.**"
      ]
    },
    {
      "cell_type": "markdown",
      "metadata": {
        "id": "rlWahyRLSfon"
      },
      "source": [
        "#### **TOPIC MODELLING**"
      ]
    },
    {
      "cell_type": "markdown",
      "metadata": {
        "id": "lL7WANWVTKo7"
      },
      "source": [
        "#### **TEXT CLEANING AND PREPROCESSING.**"
      ]
    },
    {
      "cell_type": "code",
      "metadata": {
        "id": "khUN0iuEUCIo"
      },
      "source": [
        "import re\n",
        "import string\n",
        "\n",
        "import spacy\n",
        "\n",
        "import gensim\n",
        "from gensim import corpora\n",
        "\n",
        "# libraries for visualization\n",
        "import pyLDAvis\n",
        "import pyLDAvis.gensim_models as gensimvis"
      ],
      "execution_count": 84,
      "outputs": []
    },
    {
      "cell_type": "code",
      "metadata": {
        "id": "af8T9_QAR8dE"
      },
      "source": [
        "def clean_text(text): \n",
        "    delete_dict = {sp_character: '' for sp_character in string.punctuation} \n",
        "    delete_dict[' '] = ' ' \n",
        "    table = str.maketrans(delete_dict)\n",
        "    text1 = text.translate(table)\n",
        "    #print('cleaned:'+text1)\n",
        "    textArr= text1.split()\n",
        "    text2 = ' '.join([w for w in textArr if ( not w.isdigit() and  ( not w.isdigit() and len(w)>3))]) \n",
        "    \n",
        "    return text2.lower()"
      ],
      "execution_count": 85,
      "outputs": []
    },
    {
      "cell_type": "code",
      "metadata": {
        "colab": {
          "base_uri": "https://localhost:8080/"
        },
        "id": "pITID40WTWug",
        "outputId": "68df6c42-de34-4893-a625-300f87de4913"
      },
      "source": [
        "import nltk\n",
        "nltk.download('stopwords') # run this one time"
      ],
      "execution_count": 86,
      "outputs": [
        {
          "output_type": "stream",
          "name": "stdout",
          "text": [
            "[nltk_data] Downloading package stopwords to /root/nltk_data...\n",
            "[nltk_data]   Package stopwords is already up-to-date!\n"
          ]
        },
        {
          "output_type": "execute_result",
          "data": {
            "text/plain": [
              "True"
            ]
          },
          "metadata": {},
          "execution_count": 86
        }
      ]
    },
    {
      "cell_type": "code",
      "metadata": {
        "id": "i21oUEqfTY7w"
      },
      "source": [
        "df['content'].dropna(axis = 0, how ='any',inplace=True)"
      ],
      "execution_count": 87,
      "outputs": []
    },
    {
      "cell_type": "code",
      "metadata": {
        "id": "i2hHTdthTheV"
      },
      "source": [
        "df['content'] = df['content'].apply(clean_text)\n",
        "df['Num_words_content'] = df['content'].apply(lambda x:len(str(x).split()))"
      ],
      "execution_count": 88,
      "outputs": []
    },
    {
      "cell_type": "code",
      "metadata": {
        "id": "A0TJ_wAgTs4b"
      },
      "source": [
        "from nltk.corpus import stopwords\n",
        "stop_words = stopwords.words('english')\n",
        "# function to remove stopwords\n",
        "def remove_stopwords(text):\n",
        "    textArr = text.split(' ')\n",
        "    rem_text = \" \".join([i for i in textArr if i not in stop_words])\n",
        "    return rem_text\n",
        "\n",
        "# remove stopwords from the text\n",
        "df['content']=df['content'].apply(remove_stopwords)"
      ],
      "execution_count": 89,
      "outputs": []
    },
    {
      "cell_type": "code",
      "metadata": {
        "id": "Hl0TI83uVyo7"
      },
      "source": [
        "import en_core_web_sm\n",
        "#nlp = en_core_web_sm.load()"
      ],
      "execution_count": 90,
      "outputs": []
    },
    {
      "cell_type": "code",
      "metadata": {
        "id": "AF-O_yCGUgIh"
      },
      "source": [
        "nlp = en_core_web_sm.load()\n",
        "#nlp = spacy.load('en_core_web_md', disable=['parser', 'ner'])\n",
        "\n",
        "def lemmatization(texts,allowed_postags=['NOUN', 'ADJ']): \n",
        "       output = []\n",
        "       for sent in texts:\n",
        "             doc = nlp(sent) \n",
        "             output.append([token.lemma_ for token in doc if token.pos_ in allowed_postags ])\n",
        "       return output"
      ],
      "execution_count": 91,
      "outputs": []
    },
    {
      "cell_type": "code",
      "metadata": {
        "colab": {
          "base_uri": "https://localhost:8080/"
        },
        "id": "oga3NdYHUnPI",
        "outputId": "39a39dc1-1167-4696-f5e2-74fe67038eb9"
      },
      "source": [
        "text_list=df['content'].tolist()\n",
        "print(text_list[1])\n",
        "tokenized_reviews = lemmatization(text_list)\n",
        "print(tokenized_reviews[1])"
      ],
      "execution_count": 92,
      "outputs": [
        {
          "output_type": "stream",
          "name": "stdout",
          "text": [
            "traveling business meeting takes trip especially prepare presentation would suggest holding business plan meetings take trip without formal business meetings would even honest opinions whether trip even desired necessary business meetings think would productive stimulate discussions across different groups working often presenter speaks others quiet waiting turn meetings might better held round table discussion format suggestion austin play golf rent boat skis flying somewhere takes much time\n",
            "['business', 'meeting', 'trip', 'presentation', 'business', 'plan', 'meeting', 'trip', 'formal', 'business', 'meeting', 'honest', 'opinion', 'trip', 'necessary', 'business', 'meeting', 'stimulate', 'discussion', 'different', 'group', 'presenter', 'other', 'quiet', 'waiting', 'turn', 'meeting', 'round', 'table', 'discussion', 'format', 'suggestion', 'golf', 'boat', 'ski', 'much', 'time']\n"
          ]
        }
      ]
    },
    {
      "cell_type": "markdown",
      "metadata": {
        "id": "DesOnnZXetU7"
      },
      "source": [
        "#### **APPLYING LATENT DIRICHLET ALLOCATION (LDA).**"
      ]
    },
    {
      "cell_type": "code",
      "metadata": {
        "id": "QcXNRPDaV7wl"
      },
      "source": [
        "dictionary = corpora.Dictionary(tokenized_reviews)\n",
        "doc_term_matrix = [dictionary.doc2bow(rev) for rev in tokenized_reviews]"
      ],
      "execution_count": 93,
      "outputs": []
    },
    {
      "cell_type": "code",
      "metadata": {
        "id": "NubpvWhRWJGF"
      },
      "source": [
        "# Creating the object for LDA model using gensim library\n",
        "LDA = gensim.models.ldamodel.LdaModel\n",
        "\n",
        "# Build LDA model\n",
        "lda_model = LDA(corpus=doc_term_matrix, id2word=dictionary, num_topics=10, random_state=100,\n",
        "                chunksize=1000, passes=50,iterations=100)"
      ],
      "execution_count": 94,
      "outputs": []
    },
    {
      "cell_type": "markdown",
      "metadata": {
        "id": "XgUkP4fee8Ed"
      },
      "source": [
        "#### **PRINTING WEIGHTAGE OF WORDS IN TOPICS.**"
      ]
    },
    {
      "cell_type": "code",
      "metadata": {
        "colab": {
          "base_uri": "https://localhost:8080/"
        },
        "id": "rHRSnDVVWLY3",
        "outputId": "e038a088-7a9e-4b29-86f2-ce19a2b84d73"
      },
      "source": [
        "lda_model.print_topics()"
      ],
      "execution_count": 95,
      "outputs": [
        {
          "output_type": "execute_result",
          "data": {
            "text/plain": [
              "[(0,\n",
              "  '0.027*\"power\" + 0.017*\"price\" + 0.014*\"utility\" + 0.012*\"basis\" + 0.012*\"plant\" + 0.012*\"bond\" + 0.011*\"state\" + 0.010*\"socal\" + 0.010*\"source\" + 0.009*\"rate\"'),\n",
              " (1,\n",
              "  '0.026*\"project\" + 0.026*\"week\" + 0.016*\"property\" + 0.016*\"phillip\" + 0.013*\"email\" + 0.012*\"plan\" + 0.011*\"work\" + 0.011*\"market\" + 0.011*\"good\" + 0.011*\"site\"'),\n",
              " (2,\n",
              "  '0.043*\"price\" + 0.026*\"meeting\" + 0.018*\"power\" + 0.016*\"trader\" + 0.016*\"trade\" + 0.015*\"index\" + 0.014*\"high\" + 0.014*\"physical\" + 0.012*\"date\" + 0.010*\"room\"'),\n",
              " (3,\n",
              "  '0.023*\"call\" + 0.019*\"subject\" + 0.016*\"email\" + 0.014*\"information\" + 0.013*\"desk\" + 0.012*\"program\" + 0.012*\"team\" + 0.012*\"phillip\" + 0.011*\"analyst\" + 0.011*\"forwarded\"'),\n",
              " (4,\n",
              "  '0.040*\"position\" + 0.013*\"deal\" + 0.012*\"manager\" + 0.010*\"trader\" + 0.010*\"issue\" + 0.009*\"ability\" + 0.009*\"project\" + 0.009*\"transport\" + 0.008*\"change\" + 0.008*\"time\"'),\n",
              " (5,\n",
              "  '0.049*\"loan\" + 0.035*\"cost\" + 0.022*\"land\" + 0.020*\"construction\" + 0.019*\"unit\" + 0.019*\"09image\" + 0.017*\"improvement\" + 0.017*\"cash\" + 0.014*\"project\" + 0.012*\"investment\"'),\n",
              " (6,\n",
              "  '0.022*\"book\" + 0.021*\"access\" + 0.013*\"note\" + 0.013*\"address\" + 0.013*\"center\" + 0.013*\"datum\" + 0.011*\"list\" + 0.011*\"type\" + 0.009*\"power\" + 0.009*\"calendar\"'),\n",
              " (7,\n",
              "  '0.025*\"email\" + 0.023*\"site\" + 0.015*\"today\" + 0.014*\"time\" + 0.012*\"meeting\" + 0.010*\"free\" + 0.010*\"image\" + 0.008*\"shockmachine\" + 0.008*\"coverage\" + 0.008*\"model\"'),\n",
              " (8,\n",
              "  '0.023*\"request\" + 0.019*\"phillip\" + 0.018*\"thank\" + 0.014*\"question\" + 0.013*\"reduction\" + 0.012*\"month\" + 0.011*\"deal\" + 0.011*\"demand\" + 0.011*\"last\" + 0.011*\"resource\"'),\n",
              " (9,\n",
              "  '0.017*\"front\" + 0.015*\"plan\" + 0.014*\"porch\" + 0.014*\"cost\" + 0.013*\"builder\" + 0.012*\"floor\" + 0.010*\"subject\" + 0.010*\"meeting\" + 0.009*\"construction\" + 0.008*\"simple\"')]"
            ]
          },
          "metadata": {},
          "execution_count": 95
        }
      ]
    },
    {
      "cell_type": "markdown",
      "metadata": {
        "id": "csQYYlEwfHqE"
      },
      "source": [
        "#### **VISUALISING THE TOP 10 TOPICS.**"
      ]
    },
    {
      "cell_type": "code",
      "metadata": {
        "colab": {
          "base_uri": "https://localhost:8080/",
          "height": 915
        },
        "id": "MwENmzkdWeML",
        "outputId": "c87717c6-d2d9-461a-ba14-1d4c1da1bf29"
      },
      "source": [
        "pyLDAvis.enable_notebook()\n",
        "vis = gensimvis.prepare(lda_model, doc_term_matrix, dictionary)\n",
        "vis"
      ],
      "execution_count": 96,
      "outputs": [
        {
          "output_type": "stream",
          "name": "stderr",
          "text": [
            "/usr/local/lib/python3.7/dist-packages/pyLDAvis/_prepare.py:247: FutureWarning: In a future version of pandas all arguments of DataFrame.drop except for the argument 'labels' will be keyword-only\n",
            "  by='saliency', ascending=False).head(R).drop('saliency', 1)\n"
          ]
        },
        {
          "output_type": "execute_result",
          "data": {
            "text/html": [
              "\n",
              "<link rel=\"stylesheet\" type=\"text/css\" href=\"https://cdn.jsdelivr.net/gh/bmabey/pyLDAvis@3.3.1/pyLDAvis/js/ldavis.v1.0.0.css\">\n",
              "\n",
              "\n",
              "<div id=\"ldavis_el8571397986435799841366949652\"></div>\n",
              "<script type=\"text/javascript\">\n",
              "\n",
              "var ldavis_el8571397986435799841366949652_data = {\"mdsDat\": {\"x\": [-0.3059229585376847, 0.040893530281458694, 0.11209147311327289, 0.015300792470163664, -0.0600256378096856, 0.09139812217091398, 0.06264529353145067, -0.08629622126376843, 0.07748243730906024, 0.05243316873481778], \"y\": [0.05177898209848596, 0.09201761755924294, 0.13275547587316633, 0.1368971506257068, -0.035483094252219904, -0.04566299624469281, -0.08958003338695444, -0.13924026262950637, -0.15299962392040614, 0.04951678427717748], \"topics\": [1, 2, 3, 4, 5, 6, 7, 8, 9, 10], \"cluster\": [1, 1, 1, 1, 1, 1, 1, 1, 1, 1], \"Freq\": [14.962978597934788, 12.8071969714747, 12.294271794451502, 11.868461657991846, 11.315811071450197, 11.172196521921775, 7.413009285792825, 6.560391607451396, 5.807474586791384, 5.798207904739588]}, \"tinfo\": {\"Term\": [\"loan\", \"position\", \"price\", \"cost\", \"power\", \"project\", \"land\", \"09image\", \"email\", \"meeting\", \"construction\", \"site\", \"improvement\", \"request\", \"trader\", \"access\", \"book\", \"week\", \"cash\", \"property\", \"thank\", \"trade\", \"subject\", \"index\", \"desk\", \"builder\", \"today\", \"front\", \"call\", \"physical\", \"09image\", \"sub\", \"presold\", \"fiscal\", \"vendor\", \"procedure\", \"mortgage\", \"overhead\", \"builderdeveloper\", \"reimbursement\", \"recourse\", \"disbursement\", \"liability\", \"multifamily\", \"ownership\", \"soil\", \"carpenter\", \"trim\", \"subcontractor\", \"09go\", \"fee\", \"creekside\", \"labor\", \"land\", \"evaluation\", \"corporate\", \"rentable\", \"engineering\", \"architectural\", \"bishop\", \"loan\", \"partner\", \"improvement\", \"party\", \"cash\", \"expense\", \"investment\", \"construction\", \"cost\", \"investor\", \"equity\", \"fund\", \"professional\", \"total\", \"unit\", \"partnership\", \"structure\", \"value\", \"profit\", \"design\", \"interest\", \"project\", \"initial\", \"amount\", \"builder\", \"direct\", \"month\", \"buyer\", \"high\", \"consolidated\", \"parking\", \"injection\", \"drill\", \"inclusion\", \"ticker\", \"capture\", \"physicalfinancial\", \"withdrawal\", \"rowscolumn\", \"break\", \"clay\", \"isolate\", \"delta\", \"gamma\", \"move\", \"cubic\", \"ability\", \"garage\", \"mapping\", \"iron\", \"highlight\", \"handout\", \"commodity\", \"position\", \"scope\", \"essential\", \"signature\", \"vague\", \"elevator\", \"transport\", \"ticket\", \"tenant\", \"screen\", \"option\", \"risk\", \"valuation\", \"storage\", \"password\", \"rent\", \"manager\", \"deal\", \"requirement\", \"change\", \"grid\", \"issue\", \"trader\", \"natural\", \"curve\", \"project\", \"time\", \"daily\", \"phillip\", \"plan\", \"column\", \"desk\", \"meeting\", \"email\", \"point\", \"information\", \"price\", \"outlook\", \"degree\", \"physicalfinancail\", \"mailbox\", \"door\", \"warm\", \"transmission\", \"cold\", \"outlier\", \"vision\", \"mapp\", \"southeast\", \"enrononline\", \"penny\", \"remote\", \"pool\", \"marketplace\", \"downstairs\", \"pound\", \"client\", \"confirmation\", \"room\", \"spot\", \"belief\", \"megawatthour\", \"eb3014\", \"consistent\", \"reveal\", \"470\", \"composite\", \"weather\", \"desire\", \"physical\", \"description\", \"temperature\", \"trade\", \"index\", \"forecast\", \"average\", \"price\", \"yesterday\", \"meeting\", \"answer\", \"trader\", \"percent\", \"high\", \"demand\", \"date\", \"power\", \"weekend\", \"low\", \"today\", \"supply\", \"market\", \"detailed\", \"question\", \"able\", \"time\", \"week\", \"position\", \"forwarded\", \"spokesman\", \"legislature\", \"issuance\", \"bankruptcy\", \"legislative\", \"patti\", \"district\", \"college\", \"caliso\", \"newswire\", \"aesdynegy\", \"generator\", \"bridge\", \"crisis\", \"source\", \"californiasouthw\", \"tor\", \"buy\", \"celeste\", \"blackout\", \"taxexempt\", \"unwilling\", \"advocate\", \"disclosure\", \"excess\", \"deadline\", \"plant\", \"bond\", \"compliance\", \"branch\", \"language\", \"recipient\", \"state\", \"basis\", \"unplanned\", \"reliability\", \"governor\", \"power\", \"bill\", \"utility\", \"staff\", \"energy\", \"rate\", \"socal\", \"region\", \"comment\", \"price\", \"payment\", \"desk\", \"line\", \"study\", \"amount\", \"electricity\", \"forwarded\", \"unit\", \"market\", \"contract\", \"company\", \"possible\", \"thank\", \"information\", \"severe\", \"downdraft\", \"wife\", \"broker\", \"unusual\", \"working\", \"enormous\", \"httpwwwhotmailcom\", \"burnet\", \"easement\", \"university\", \"rock\", \"star\", \"freakish\", \"fence\", \"exceptional\", \"smart\", \"60mpg\", \"storm\", \"tract\", \"ordinance\", \"permit\", \"siding\", \"cautious\", \"regret\", \"pain\", \"infill\", \"extreme\", \"detentionretention\", \"lone\", \"package\", \"property\", \"busy\", \"entire\", \"family\", \"week\", \"past\", \"fine\", \"project\", \"thing\", \"rental\", \"lot\", \"cell\", \"next\", \"site\", \"image\", \"evening\", \"good\", \"weekend\", \"phillip\", \"work\", \"plan\", \"file\", \"email\", \"return\", \"number\", \"area\", \"market\", \"today\", \"last\", \"time\", \"price\", \"home\", \"buyer\", \"generation\", \"deal\", \"year\", \"report\", \"interview\", \"selection\", \"mitigation\", \"database\", \"broadband\", \"border\", \"upcoming\", \"participate\", \"proceeding\", \"influence\", \"rotation\", \"reviseadd\", \"subpoena\", \"rater\", \"multex\", \"immediate\", \"directory\", \"heizenrader\", \"audio\", \"analyst\", \"mouse\", \"sync\", \"multipurpose\", \"duprehouee\", \"automatic\", \"map\", \"divine\", \"accuracy\", \"travel\", \"privilege\", \"participant\", \"western\", \"program\", \"confidential\", \"trend\", \"assessment\", \"form\", \"call\", \"person\", \"team\", \"executive\", \"wholesale\", \"subject\", \"associate\", \"strategy\", \"desk\", \"trading\", \"track\", \"member\", \"tomorrow\", \"information\", \"conference\", \"report\", \"column\", \"email\", \"need\", \"forwarded\", \"issue\", \"free\", \"message\", \"phillip\", \"impact\", \"time\", \"market\", \"socal\", \"question\", \"item\", \"list\", \"work\", \"number\", \"calendar\", \"lime\", \"anyone\", \"laptop\", \"messaging\", \"else\", \"datetime\", \"permission\", \"farm\", \"emailcalendar\", \"cycle\", \"mass\", \"regulatorylegislative\", \"oblige\", \"stupid\", \"colocation\", \"exodus\", \"surveyinformation\", \"responsible\", \"economy\", \"migration\", \"server\", \"body\", \"rack\", \"seattle\", \"sabey\", \"royer\", \"dozen\", \"traffic\", \"tariff\", \"book\", \"distribution\", \"panel\", \"facility\", \"desktop\", \"address\", \"access\", \"center\", \"mailing\", \"note\", \"datum\", \"type\", \"location\", \"vacation\", \"user\", \"survey\", \"internet\", \"list\", \"computer\", \"company\", \"utility\", \"power\", \"space\", \"month\", \"year\", \"hour\", \"name\", \"issue\", \"thank\", \"work\", \"week\", \"information\", \"porch\", \"dimension\", \"gable\", \"drawing\", \"tile\", \"simple\", \"exterior\", \"leak\", \"give\", \"finishing\", \"cabinet\", \"sketch\", \"obvious\", \"dormer\", \"acre\", \"farmhouse\", \"resistance\", \"kitchen\", \"postmastercaprocknet\", \"f828fa00pdf\", \"nondeliverable\", \"20th\", \"unwind\", \"checkbook\", \"throughput\", \"warp\", \"presence\", \"affair\", \"dialogue\", \"httpwwwcapitolconnectiongmuedu\", \"front\", \"style\", \"color\", \"floor\", \"avoid\", \"roof\", \"mind\", \"builder\", \"comfortable\", \"overall\", \"place\", \"side\", \"instruction\", \"plan\", \"cost\", \"small\", \"subject\", \"line\", \"file\", \"ready\", \"meeting\", \"construction\", \"detailed\", \"opportunity\", \"work\", \"agreement\", \"design\", \"different\", \"point\", \"phillip\", \"equity\", \"email\", \"shockmachine\", \"frogger\", \"subscription\", \"new\", \"missile\", \"frog\", \"golf\", \"httpiosetsenroncominfopostingssharedetnoncriticalnoticeaspcompany\", \"transwestern\", \"profile\", \"classic\", \"gift\", \"distribute\", \"utilityxls\", \"memory\", \"save\", \"play\", \"shockwavecom\", \"arcade\", \"centipede\", \"boat\", \"honest\", \"presenter\", \"ski\", \"stimulate\", \"waiting\", \"competition\", \"discharge\", \"mcnary\", \"outflow\", \"trip\", \"coverage\", \"wade\", \"news\", \"life\", \"notice\", \"game\", \"website\", \"site\", \"weekly\", \"resume\", \"model\", \"unsubscribe\", \"format\", \"download\", \"email\", \"image\", \"today\", \"free\", \"strong\", \"right\", \"link\", \"business\", \"time\", \"sure\", \"check\", \"meeting\", \"great\", \"change\", \"different\", \"page\", \"good\", \"date\", \"internet\", \"service\", \"note\", \"high\", \"team\", \"market\", \"bidweek\", \"andor\", \"wire\", \"create\", \"monitor\", \"reduction\", \"overdue\", \"dexter\", \"premium\", \"slowdown\", \"12month\", \"regular\", \"bullish\", \"testing\", \"wiring\", \"silent\", \"referenced\", \"training\", \"print\", \"officer\", \"prudency\", \"dawn\", \"premier\", \"retention\", \"posting\", \"midmarket\", \"portrait\", \"yard\", \"valve\", \"sparkplug\", \"resource\", \"figure\", \"bad\", \"overnight\", \"request\", \"course\", \"swap\", \"aluminum\", \"summer\", \"approval\", \"thank\", \"demand\", \"actual\", \"model\", \"question\", \"phillip\", \"last\", \"month\", \"load\", \"second\", \"deal\", \"instruction\", \"access\", \"mail\", \"financial\", \"year\", \"subject\", \"name\", \"money\", \"partnership\", \"email\", \"several\", \"date\", \"time\", \"meeting\", \"total\", \"information\", \"daily\"], \"Freq\": [240.0, 170.0, 285.0, 216.0, 189.0, 180.0, 104.0, 81.0, 188.0, 173.0, 112.0, 91.0, 83.0, 68.0, 105.0, 80.0, 61.0, 145.0, 85.0, 64.0, 101.0, 78.0, 130.0, 71.0, 89.0, 61.0, 120.0, 43.0, 131.0, 64.0, 80.21339351753512, 19.888360366991087, 14.23290702315237, 14.232904030986749, 14.232904030986749, 14.232872114553448, 14.232826234680578, 13.290295061164183, 13.29022624135488, 11.40517686037312, 11.405166886487713, 11.405164891710632, 11.404935492346285, 11.375027799566649, 10.46249907074125, 9.520026743148755, 9.520023750983132, 9.520023750983132, 9.519964905059235, 8.577452681925113, 45.33638787454343, 25.424369451368364, 15.175236724183556, 93.8969977784268, 6.692006340304177, 6.690367132237635, 5.749721521757321, 5.749707558317752, 5.749707558317752, 5.749704067457859, 209.9517240442486, 26.708273808524037, 71.71244352884273, 14.627096916961248, 70.68635413555712, 31.820087562235816, 50.635664794022695, 85.00484008766205, 149.76846967475657, 44.105351094372935, 48.911016435535224, 28.956315767151995, 24.655273173795344, 49.83042515051395, 80.82436182109797, 25.068321690130645, 22.61453642856236, 43.27927400947314, 35.159370328401074, 28.837652462917873, 26.918168242570513, 59.26296795259754, 24.40954655903783, 32.07262434594882, 30.710071912809507, 21.679759950949443, 26.07208553832256, 22.419774373454477, 23.52299980169611, 18.481731733785058, 16.64275963576293, 12.964776169959304, 12.045306341066235, 11.125819438364749, 11.125819438364749, 11.125819438364749, 9.237611599008089, 7.447864998035436, 7.4478632906545945, 7.447862436964173, 7.4478615832737525, 7.447862436964173, 7.447862436964173, 7.4478615832737525, 6.528358460454269, 6.528348643014429, 34.113042373636745, 19.36376638403159, 5.608883509418675, 5.608862594003363, 5.608858752396469, 5.608854483944365, 5.608816067875424, 147.89350608295007, 11.125835658482746, 4.689276663213053, 3.769906716099229, 3.769906716099229, 3.769906716099229, 32.01526548761697, 7.447866705416278, 20.898426872480005, 20.240315219633466, 24.521444626844072, 27.262839209744477, 15.630538903711198, 21.24001572797239, 12.67043651819203, 30.066641977173777, 42.469674483758524, 48.030091426911895, 24.420647691468503, 30.768071589357223, 18.481748807593476, 36.12672050891359, 37.29231184722111, 20.442235200125385, 14.804011204631069, 32.56013510613218, 30.107270811684874, 19.153333402662533, 26.507067080128728, 22.167499148846375, 15.211423006335918, 18.142804685025013, 20.658031064718482, 20.56254066899918, 17.229132267780223, 17.914927393595452, 19.017253442191496, 30.439526576480727, 22.16297322409382, 12.96673563352628, 11.127471233706105, 11.127308972642028, 9.288048670323471, 9.287899521264574, 8.368066134025037, 7.448974394578376, 7.448973575078052, 6.529340555667641, 6.5293397361673176, 5.6097185995115995, 5.609715731260467, 5.609709175257877, 4.690086399601512, 4.690083941100541, 4.6900605853413175, 11.72195233896497, 13.19260713222228, 9.288251086903406, 36.9018963364518, 13.886362506684264, 8.368448840676168, 21.243343072934543, 3.7704697701975727, 3.7704677214467637, 3.7704677214467637, 3.7704677214467637, 3.7704656726959547, 24.416897412161944, 7.397271299660974, 49.0417938404621, 33.19867599206083, 19.771069766538087, 56.44289466513534, 51.82444652532357, 19.31644212800695, 19.928712126790597, 151.45688981788635, 24.853427205546293, 90.56519013593082, 16.3473039495029, 56.49087804808384, 12.96524332343697, 49.79342314727833, 30.52546921441923, 40.593801020374244, 62.05443296511554, 21.522441937149875, 20.055946108034927, 35.4771851898375, 17.45409977957336, 35.62024700033219, 17.28222925470219, 26.453234430305525, 18.094311461391097, 20.765466210222357, 19.372600846183868, 19.424224449569877, 17.523849091117164, 17.478804274343563, 16.563760307933084, 15.648634065348254, 13.81838316241272, 11.073002852424114, 9.232818683670242, 8.32763203584024, 8.32762333355257, 8.327604346743104, 7.412504211021291, 7.41250341990423, 7.412477313041216, 6.497383901814421, 6.497302416757134, 33.95088360830758, 5.582256472554001, 5.5822560769954706, 5.58225528587841, 5.5822366946274755, 16.563747650060105, 4.6671365589056615, 4.667136163347131, 4.667136163347131, 4.66713537223007, 4.666891312616741, 9.242755113956825, 39.806035911065145, 39.35584600078156, 3.7520118985549553, 3.7520107118793637, 14.733506240529305, 7.412519242245451, 36.271201468105154, 41.27831741952179, 7.412520824479572, 9.242107980200899, 12.903294102329761, 90.92525464981598, 18.133217889464742, 46.00876707682198, 10.680917325805215, 24.3420090119091, 29.60123973057007, 34.25320424647923, 16.493528099722756, 20.256990626619114, 59.35749410254733, 20.007652680259007, 27.30182001905676, 21.34421647466121, 12.90326324876438, 21.307632057290768, 14.270326188103551, 25.07899942586097, 27.64917104034245, 26.99894559894238, 19.43185711419511, 16.083607630079914, 15.507088983022232, 17.719009565351097, 16.72132551074504, 16.529752388432502, 11.050276871126806, 11.050276116847824, 11.050209740297253, 7.397292438644027, 7.397282633017238, 7.3972426562311, 7.3961444260307605, 8.146273366811506, 6.484035582047814, 6.482810632978205, 5.570804748076539, 5.570800976681621, 5.570800976681621, 5.570800976681621, 5.570800976681621, 5.570800976681621, 5.570800976681621, 5.570800976681621, 5.570800976681621, 5.570800976681621, 5.570800976681621, 5.570800976681621, 5.570800976681621, 5.570800976681621, 5.570800976681621, 5.570800599542129, 5.570800599542129, 5.570800599542129, 5.570800599542129, 17.424523375694985, 52.319789326093186, 9.223756369423526, 11.922586938811204, 11.89341369055673, 82.79616012405087, 11.91433588100797, 12.723559563049541, 83.05044265505245, 22.18806820706415, 14.71961558053524, 15.37874528760053, 13.857022134719502, 25.514572787057816, 35.15120789516402, 23.66774030660115, 14.840046780196595, 36.41307439535357, 18.992322414577327, 51.98511875811954, 36.90575434195895, 38.59791286545002, 25.7151989282714, 41.41138554329877, 13.492077825454095, 27.18653171936407, 17.162019203770544, 36.77126639915645, 27.588839992368484, 22.655885609807193, 30.571268145461154, 32.85161643759588, 16.822791282177086, 16.754535068379642, 15.755320578795352, 19.278542626308816, 18.945383633418604, 16.494317870333926, 17.18206069497164, 16.282481098759263, 10.88498192500937, 8.186199943420966, 7.286632262505493, 7.286166821220198, 6.3870563898234, 6.387047453350721, 6.387002026281277, 12.684146330376517, 7.905774175501889, 5.487470091256515, 5.487470091256515, 5.487467857138346, 5.487463388902007, 4.587882675630546, 4.587881186218433, 4.58787336680484, 4.58787113268667, 35.18197247528207, 3.6882997282409153, 3.6882982388288026, 3.6882982388288026, 3.688297866475774, 3.688297121769718, 3.68829674941669, 3.6882952600045766, 3.6882900470621816, 3.6882762700001366, 10.884987882657821, 13.583737841885798, 31.10125435881952, 39.68396187141821, 10.88500277677895, 6.387042985114383, 14.481192047013002, 23.839911569285764, 74.49781422768922, 13.25104785821745, 38.71512610136604, 10.884972988536692, 16.282512376413635, 60.244033069141096, 10.134303325964364, 16.051007094050266, 41.0543967659562, 30.221473517824514, 20.652943490025528, 13.986745950230464, 29.405835698885557, 43.82399433586665, 11.805505634353967, 26.865688022622614, 18.582444688276713, 49.93725954402808, 20.66576881773009, 34.04602168733334, 31.546496237038834, 24.841383337556767, 20.273109144746158, 38.59770382920575, 16.28232619989952, 30.460407987807248, 29.11989240379408, 21.30637092515584, 24.424218367078563, 17.49145627319354, 21.078225756519274, 21.73371304860179, 20.111396224583242, 18.518299053098453, 8.050510520446043, 8.05050310850216, 8.05050310850216, 8.05050310850216, 8.05050310850216, 8.050500637854197, 17.608432540166252, 7.165836216515067, 7.165829792830367, 6.281160430195314, 6.2811599360657215, 5.396495514726591, 5.396495514726591, 5.396495514726591, 5.3964935382082215, 5.3964935382082215, 5.3964821732276, 16.01255010217888, 4.511313739704383, 14.2290081159094, 8.935217931059698, 3.627152836419746, 3.627152836419746, 3.6271516010957656, 3.6271516010957656, 3.6271516010957656, 3.6271516010957656, 3.6271511069661733, 3.6271511069661733, 45.98554592210661, 18.325799999589933, 10.704573456735941, 16.012557019993174, 10.673725934551518, 27.25965314471586, 45.384119053687996, 26.749298313184006, 11.16627332383819, 27.859629248651654, 26.628825565558905, 22.760644714247054, 9.819442082932143, 8.05053670931443, 14.859447309206852, 13.358566226623742, 17.389064695950033, 24.11976199333458, 12.45449585380853, 15.310221971024651, 16.012712176685138, 19.551330331674283, 10.70456456240328, 15.188439779980113, 15.529219218046691, 10.700791388836928, 13.076488395856213, 13.319939128139076, 12.556387352246999, 12.442172261778039, 11.861500812751917, 11.66154336717811, 26.893183609155997, 13.057441575425488, 12.190843940280867, 8.732289754468558, 7.8691126531956455, 15.651883719870572, 7.004436499236436, 7.004436499236436, 7.004436499236436, 7.004436499236436, 7.004436499236436, 7.00443562464327, 7.00443562464327, 7.00443562464327, 7.00443562464327, 7.00443562464327, 6.139694750789786, 8.733916497757072, 3.545457042497224, 3.545456605200641, 3.545456605200641, 3.5454542000694347, 3.5454537627728517, 3.5454537627728517, 3.545450045751897, 3.543956021976305, 2.6807115770296193, 2.6807115770296193, 2.6807115770296193, 2.6807115770296193, 32.08093792367586, 12.192915851490808, 5.274961310978212, 22.780951494429384, 7.004437373829602, 11.328020174646966, 9.598706348827845, 24.5535454376546, 5.27358645052147, 8.733963725788028, 14.96270780354006, 13.954422577152325, 11.276821490717111, 27.655097689905332, 25.464304780116503, 11.328170604671493, 19.18713797714308, 14.216441943714413, 15.170586354762316, 10.204154837610414, 18.901004327811712, 16.23139964669202, 10.974774618732791, 10.46324169328735, 14.10203291331469, 9.598599648461608, 10.516356610843616, 10.796656723758655, 11.202660363217422, 12.141859726246992, 10.463386875752883, 10.875002779557018, 13.867120188102028, 6.976626006887666, 6.975907531973286, 6.115297685312062, 5.2540034293573985, 5.254001880920083, 5.25399955826411, 4.392694076138908, 4.392694076138908, 4.392687108170989, 4.392678591765754, 4.392553942561858, 3.5313796904991435, 3.531379303389815, 3.531378916280486, 3.531378916280486, 3.531378916280486, 3.531378529171157, 3.531378529171157, 3.531378529171157, 2.6700697566166607, 2.6700697566166607, 2.6700697566166607, 2.6700697566166607, 2.6700697566166607, 2.6700697566166607, 2.6700695630619964, 2.6700680146246807, 2.6700680146246807, 2.6700680146246807, 8.695290004420922, 13.005718315753938, 6.916480830461323, 8.658858371262422, 5.796062557729812, 11.094103544339323, 11.365793129931252, 5.204893578569117, 37.63039926251931, 6.115276007189645, 6.078835470516582, 12.936054120930711, 6.8434038797947885, 7.552033829723468, 7.649215304080005, 41.028928063771964, 17.11573083690769, 24.667763118193843, 17.195764916432655, 11.229437739930509, 11.889584569074346, 8.051063433536143, 12.36529006160402, 23.41235517717384, 11.579995431748848, 11.092761049186807, 19.421931566768865, 9.204476582804457, 11.50482886492508, 10.822355892348066, 7.790347623198987, 9.360291184548775, 9.137893778239023, 8.351132778246098, 8.2910069572862, 8.439680940350204, 8.743348079162667, 8.264654876832786, 8.263759880064441, 9.386605712344922, 6.852062340259462, 6.852041469710963, 6.851835856159094, 6.85052333055355, 22.078845038433958, 6.0061287657202245, 3.468328428594151, 3.4683272691192344, 3.4683249501694013, 3.4683106499787635, 3.4682716143232395, 3.4682457193834364, 3.4671677942026755, 2.6223921486134416, 2.6223921486134416, 2.6223703118358466, 2.6223583305950418, 8.543934127237602, 6.006083932690117, 1.776460699778218, 1.776460699778218, 1.776460699778218, 1.776460699778218, 1.776460313286579, 1.776460313286579, 1.7764601200407597, 1.7764601200407597, 1.7764601200407597, 1.7764601200407597, 17.45164809866253, 5.143812583593291, 3.468263497998824, 3.4683106499787635, 37.722752702756814, 8.54390475387305, 6.852053837443407, 4.3142507948758615, 8.301774698981221, 16.14020930760661, 30.287630622090454, 18.156211534525443, 12.67997440042168, 9.056403488757855, 23.85941820249539, 31.41630370099907, 18.039750781973183, 19.325251346162407, 13.799053210887411, 9.023008292211133, 18.938923579764403, 9.389869247743395, 15.507615252797775, 8.722467755939467, 9.815211799117042, 13.571768299843923, 13.58865180059557, 10.877341066597802, 8.800375194532876, 8.956592796007376, 11.861370422649006, 8.269603134963107, 9.867224297907308, 10.707784092699935, 9.563596466424487, 9.194491540437044, 9.187054668322236, 8.959588106208486], \"Total\": [240.0, 170.0, 285.0, 216.0, 189.0, 180.0, 104.0, 81.0, 188.0, 173.0, 112.0, 91.0, 83.0, 68.0, 105.0, 80.0, 61.0, 145.0, 85.0, 64.0, 101.0, 78.0, 130.0, 71.0, 89.0, 61.0, 120.0, 43.0, 131.0, 64.0, 81.01577521805348, 20.690770457758404, 15.035303053767954, 15.035301058690429, 15.03530154443478, 15.035301672364184, 15.035302034304426, 14.0927233783315, 14.092716545722508, 12.207568499759848, 12.207568184056377, 12.207566390608395, 12.207564319667133, 12.204863443052886, 11.264988048744579, 10.32241278627186, 10.32241249200453, 10.322413019050853, 10.322408050398504, 9.379834706582887, 49.818287967706226, 28.173003678892137, 16.842611280113484, 104.25955783474978, 7.494670854038251, 7.49463114113562, 6.552100096168489, 6.552098821726259, 6.552099415633772, 6.552100114004673, 240.93056578715903, 30.725653582197847, 83.48971793084014, 16.86864431533921, 85.29319963720458, 38.326627905609925, 62.53004536313675, 112.102217717442, 216.07333459099578, 55.97950672646618, 65.7609685182903, 36.28889653503972, 30.79146323570177, 77.41833817590161, 150.90192732098797, 34.757941556101116, 31.72247044561379, 80.34971152271034, 60.88259672038625, 47.72631946907374, 42.82790396651824, 180.8284898565954, 39.164230431030965, 66.60699730527034, 61.560798921683336, 36.24629079197145, 96.34504791758972, 53.74256206341334, 107.87370145400367, 19.286422839880974, 17.447444022557836, 13.769485492789464, 12.849996383606566, 11.930505652396253, 11.93050646487457, 11.930506606860336, 10.087589432561222, 8.252548495281092, 8.252547869760914, 8.252547482071602, 8.252546668934134, 8.252547768375466, 8.252548097381673, 8.252547655188247, 7.333057496595856, 7.333057925558626, 38.51608340673321, 22.04517046529627, 6.413568712510496, 6.413567748916895, 6.413568289372611, 6.413568507953836, 6.413567946021619, 170.0747416358424, 12.845631138544213, 5.494074983396842, 4.5745893418799985, 4.5745893418799985, 4.5745893418799985, 39.17373760147845, 9.137220840329306, 27.191274976292217, 26.416653564168268, 35.559659232333956, 41.14200164854933, 22.129943690452876, 32.52080177151302, 17.448033818707536, 53.243335278512454, 83.05337422723149, 106.21748195585346, 45.32395918366175, 64.9162283023094, 33.02680464947199, 99.09541722943514, 105.67329103304925, 43.153268934027025, 28.371132065174915, 180.8284898565954, 186.928314951578, 65.31769440236083, 208.47671422869095, 135.55733461410787, 36.39373724276437, 89.03785278187956, 173.69124529171805, 188.66382637028357, 80.53916240476696, 113.87899127029692, 285.6121758169787, 31.244315153079636, 22.967673875620108, 13.771407938646455, 11.932153312316764, 11.932146061137285, 10.092898737249323, 10.092898253834065, 9.17327361421437, 8.253647556284996, 8.253646788879234, 7.334019259235709, 7.33401894065521, 6.414391527115993, 6.414392420004667, 6.414391709394254, 5.494765330526247, 5.494764736686111, 5.49476343247551, 13.794307822056531, 15.602762826329062, 11.008025363342302, 43.784588102844765, 16.530012905544076, 10.115848972710282, 25.708547403098123, 4.575138669445513, 4.57513863205682, 4.575138754214994, 4.575138856826659, 4.575138739417763, 30.104939896365085, 9.095443336907426, 64.96959150928848, 43.8698127501398, 25.578678528783023, 78.22240755466694, 71.76675694994961, 26.36358697129449, 27.330922629888352, 285.6121758169787, 35.755540075544694, 173.69124529171805, 22.73363178110871, 105.67329103304925, 17.263375893707547, 107.87370145400367, 60.903882697057796, 92.76873288747677, 189.55662334601516, 41.228161835303105, 36.596907908531406, 120.8127437472673, 32.03316497053291, 173.47381472821283, 34.181670194858, 130.25028928830037, 55.63450065805565, 186.928314951578, 145.3570841693124, 170.0747416358424, 110.78490265331513, 18.28400768917041, 17.36888467938765, 16.453757081142566, 14.623508344442742, 11.878131017976397, 10.047862289993631, 9.132757706107139, 9.132756948723353, 9.132755781515092, 8.2176310561645, 8.217630649800732, 8.217631747249623, 7.302506084909946, 7.302507009501646, 38.347087942621584, 6.387381420548248, 6.38738168686652, 6.387381228831303, 6.3873815426833875, 19.060750965972854, 5.472256788050191, 5.472256653786161, 5.4722567733114476, 5.472256427118677, 5.472250603182718, 10.932552479205077, 47.13833208695106, 46.68510673369194, 4.557130975597665, 4.557131442449777, 18.132870081701565, 9.130877780076435, 47.2708588600403, 61.281594006470485, 9.137258398804297, 11.777384722947968, 17.386753507165935, 189.55662334601516, 27.98855928614494, 94.61543576758719, 14.63844037502851, 42.80065012052663, 61.10788320337511, 76.63260821826387, 30.10417975663331, 44.829153447374296, 285.6121758169787, 47.50085374387602, 89.03785278187956, 61.2334802433654, 22.101042122279253, 66.60699730527034, 28.401041643616768, 110.78490265331513, 150.90192732098797, 173.47381472821283, 83.18638886466286, 47.17633888377521, 41.86370752731575, 101.22613734083797, 113.87899127029692, 17.3350736909197, 11.855592346653351, 11.855592427575575, 11.855593686677608, 8.202606246504303, 8.202605840875048, 8.202607481554425, 8.202639573302765, 9.120627174079573, 7.289358437852767, 7.2893414225667446, 6.376111652605013, 6.376111979881809, 6.376111993546275, 6.376112217658529, 6.376112375953703, 6.376112389331235, 6.376112425269486, 6.37611248788565, 6.376112505247749, 6.376112534353766, 6.376112544282026, 6.3761125643483245, 6.376112622273425, 6.37611267179899, 6.376112720044189, 6.376112421287921, 6.376112430785779, 6.3761124384016625, 6.37611244936193, 20.086221093684212, 64.99345268961315, 10.89041041126152, 14.596149028906046, 14.566959536460697, 145.3570841693124, 15.466858688463121, 17.398609089674245, 180.8284898565954, 40.82695901269455, 23.99044975408958, 26.45557907513999, 22.852573828160676, 56.70685559874182, 91.81085287201847, 52.25723258831006, 26.459345026866735, 111.17450856284934, 41.228161835303105, 208.47671422869095, 120.42222380711996, 135.55733461410787, 74.44731267228187, 188.66382637028357, 24.585939866764612, 91.88025950079071, 38.657055064478044, 173.47381472821283, 120.8127437472673, 82.69516314432609, 186.928314951578, 285.6121758169787, 41.43179632821193, 53.74256206341334, 43.30317943657207, 106.21748195585346, 108.64679167904688, 63.64655539641227, 17.98875465737081, 17.08916684493333, 11.691654962584312, 8.992900703104397, 8.093314095581517, 8.09332042789903, 7.193729427398345, 7.193729931198573, 7.193729936579203, 14.410316613696473, 8.998967873211914, 6.294143128831461, 6.294143128831461, 6.294143744556841, 6.294143353862595, 5.394558350327385, 5.394558690616513, 5.394558366875069, 5.394558186988149, 41.414780480693345, 4.494972765815861, 4.494973198570983, 4.494973297460615, 4.494973122886852, 4.494972789183136, 4.494973295301553, 4.494972660148205, 4.494972782026752, 4.494972130239927, 13.521905266896365, 17.032667221461608, 42.50829238165919, 55.22757975256906, 14.437031299910979, 8.113217795697087, 20.00292595771503, 35.08136470720024, 131.04524083790918, 18.898112724698564, 64.24231821426979, 15.369613425669158, 25.341235974757783, 130.0996575024585, 14.449999142559475, 25.88229144110179, 89.03785278187956, 62.47451881114785, 37.52656064147662, 22.391125808473305, 63.1526501558491, 113.87899127029692, 17.980882586916767, 63.64655539641227, 36.39373724276437, 188.66382637028357, 45.260461450966815, 110.78490265331513, 99.09541722943514, 68.39731942203629, 48.523015349522545, 208.47671422869095, 33.60252527249618, 186.928314951578, 173.47381472821283, 76.63260821826387, 130.25028928830037, 42.423428299804385, 102.75075782574855, 120.42222380711996, 91.88025950079071, 20.341904598877164, 8.85867576289317, 8.858677052913233, 8.858677114725806, 8.858677388908607, 8.858677562255142, 8.858675926198947, 19.492577663619876, 7.974003476410394, 7.974004587559552, 7.089332583919671, 7.089332757296264, 6.204660186852264, 6.204660298815551, 6.204660328279573, 6.204660593580867, 6.204660710360148, 6.204660542218998, 18.512588316588523, 5.3199759458173, 16.890916706332273, 10.642932162776503, 4.4353172610476275, 4.4353172610476275, 4.435317628353319, 4.435317824205893, 4.435317877252464, 4.435317987198986, 4.4353175682297445, 4.43531763329655, 61.17969968399568, 24.929795225843932, 14.271568715643918, 22.315975007857144, 15.102043002092307, 44.4389748582065, 80.1233899020813, 46.31160371122805, 17.625840602857544, 60.3658375404371, 61.76603091407121, 54.68455030121936, 15.703604627558477, 11.578351742561305, 30.899600251731368, 27.204792848373344, 47.13798864115678, 102.75075782574855, 27.6579539613007, 47.17633888377521, 94.61543576758719, 189.55662334601516, 25.184655763152527, 96.34504791758972, 108.64679167904688, 25.95002295137344, 61.98753801456622, 99.09541722943514, 101.22613734083797, 120.42222380711996, 145.3570841693124, 113.87899127029692, 27.703774299098722, 13.867830247612494, 13.003187963921548, 9.544144531586422, 8.679348612119858, 17.323369314884545, 7.814597790360526, 7.814597944498467, 7.814597985153937, 7.814597986361561, 7.814598104986894, 7.814597364272576, 7.81459736455518, 7.814597500089684, 7.814597512186851, 7.814597660762846, 6.949851758439934, 10.405403523224203, 4.355614949125018, 4.355614600064723, 4.355614766153702, 4.355614799876748, 4.3556142718876165, 4.355614272506414, 4.355615183469412, 4.3557095436154105, 3.4908685846797662, 3.4908685846797662, 3.4908685846797662, 3.4908685846797662, 43.928607345082035, 16.601413277680464, 7.000229531715448, 32.466013445244776, 9.644848555341282, 17.617816231526753, 16.9482185744898, 61.560798921683336, 7.777005469633313, 16.633467605857465, 38.391237834775, 35.51126769717183, 28.404974652687986, 135.55733461410787, 216.07333459099578, 31.296299617185213, 130.0996575024585, 61.2334802433654, 74.44731267228187, 24.926847273597133, 173.69124529171805, 112.102217717442, 34.181670194858, 29.909699734682576, 120.42222380711996, 27.340313863018256, 47.72631946907374, 58.29433321981655, 80.53916240476696, 208.47671422869095, 65.7609685182903, 188.66382637028357, 14.677639947471269, 7.787135690224825, 7.787183079674776, 6.9258231221999, 6.064510247827715, 6.064509463311875, 6.064510267783999, 5.203196401656922, 5.203196401656922, 5.203196886675309, 5.203197643093005, 5.203205313940459, 4.341883443090023, 4.341883005098093, 4.341883375851039, 4.341883748427351, 4.341883758982313, 4.341883624724781, 4.34188365564285, 4.341883704290376, 3.480570037331492, 3.480570037331492, 3.480570037331492, 3.480570037331492, 3.480570037331492, 3.480570037331492, 3.480570505818691, 3.480570340142694, 3.480570422641958, 3.4805704697843947, 13.162988669013878, 21.112873211334566, 10.550079289251041, 14.000404287549868, 8.739179120504316, 19.276451089235547, 19.987602081649353, 7.906949208020147, 91.81085287201847, 9.684291141152393, 9.670548001443292, 25.844603584746405, 11.33514982751664, 13.203411627301023, 14.091108184195203, 188.66382637028357, 52.25723258831006, 120.8127437472673, 68.39731942203629, 31.948388449935763, 38.028161268525054, 17.6199836724566, 45.27264008258458, 186.928314951578, 43.851922274856555, 40.05183248270585, 173.69124529171805, 27.478322205692777, 64.9162283023094, 58.29433321981655, 22.896642770156543, 111.17450856284934, 92.76873288747677, 47.13798864115678, 46.27261173851923, 60.3658375404371, 107.87370145400367, 64.24231821426979, 173.47381472821283, 10.202057891309444, 7.664100538811202, 7.664104596785519, 7.664117423773545, 7.664222951853765, 24.729892344897017, 6.818168718514846, 4.280366627145892, 4.280367002386857, 4.280367127755847, 4.280368467511242, 4.280371822150935, 4.280371871374419, 4.2803944577812185, 3.4344330297482735, 3.4344330617600045, 3.4344348538955636, 3.4344353724711825, 12.056535997653215, 8.587514654242526, 2.588498898329959, 2.588498898329959, 2.588498898329959, 2.588498898329959, 2.588499121769387, 2.5884991716697288, 2.588499132266183, 2.588499192291291, 2.588499292333137, 2.588499372366614, 27.75228080771874, 7.812873581146972, 5.195495664704301, 5.199994141266896, 68.22025301666923, 13.953831609181808, 11.34206020964905, 6.965548468289542, 14.824459126968145, 34.6417743681602, 101.22613734083797, 60.903882697057796, 41.803722926205204, 25.844603584746405, 130.25028928830037, 208.47671422869095, 82.69516314432609, 96.34504791758972, 53.49813078477004, 25.88981213692381, 106.21748195585346, 28.404974652687986, 80.1233899020813, 26.353473060898878, 35.78661176734289, 108.64679167904688, 130.0996575024585, 61.98753801456622, 29.80275895943619, 34.757941556101116, 188.66382637028357, 25.633621370948795, 92.76873288747677, 186.928314951578, 173.69124529171805, 77.41833817590161, 113.87899127029692, 65.31769440236083], \"Category\": [\"Default\", \"Default\", \"Default\", \"Default\", \"Default\", \"Default\", \"Default\", \"Default\", \"Default\", \"Default\", \"Default\", \"Default\", \"Default\", \"Default\", \"Default\", \"Default\", \"Default\", \"Default\", \"Default\", \"Default\", \"Default\", \"Default\", \"Default\", \"Default\", \"Default\", \"Default\", \"Default\", \"Default\", \"Default\", \"Default\", \"Topic1\", \"Topic1\", \"Topic1\", \"Topic1\", \"Topic1\", \"Topic1\", \"Topic1\", \"Topic1\", \"Topic1\", \"Topic1\", \"Topic1\", \"Topic1\", \"Topic1\", \"Topic1\", \"Topic1\", \"Topic1\", \"Topic1\", \"Topic1\", \"Topic1\", \"Topic1\", \"Topic1\", \"Topic1\", \"Topic1\", \"Topic1\", \"Topic1\", \"Topic1\", \"Topic1\", \"Topic1\", \"Topic1\", \"Topic1\", \"Topic1\", \"Topic1\", \"Topic1\", \"Topic1\", \"Topic1\", \"Topic1\", \"Topic1\", \"Topic1\", \"Topic1\", \"Topic1\", \"Topic1\", \"Topic1\", \"Topic1\", \"Topic1\", \"Topic1\", \"Topic1\", \"Topic1\", \"Topic1\", \"Topic1\", \"Topic1\", \"Topic1\", \"Topic1\", \"Topic1\", \"Topic1\", \"Topic1\", \"Topic1\", \"Topic1\", \"Topic1\", \"Topic1\", \"Topic2\", \"Topic2\", \"Topic2\", \"Topic2\", \"Topic2\", \"Topic2\", \"Topic2\", \"Topic2\", \"Topic2\", \"Topic2\", \"Topic2\", \"Topic2\", \"Topic2\", \"Topic2\", \"Topic2\", \"Topic2\", \"Topic2\", \"Topic2\", \"Topic2\", \"Topic2\", \"Topic2\", \"Topic2\", \"Topic2\", \"Topic2\", \"Topic2\", \"Topic2\", \"Topic2\", \"Topic2\", \"Topic2\", \"Topic2\", \"Topic2\", \"Topic2\", \"Topic2\", \"Topic2\", \"Topic2\", \"Topic2\", \"Topic2\", \"Topic2\", \"Topic2\", \"Topic2\", \"Topic2\", \"Topic2\", \"Topic2\", \"Topic2\", \"Topic2\", \"Topic2\", \"Topic2\", \"Topic2\", \"Topic2\", \"Topic2\", \"Topic2\", \"Topic2\", \"Topic2\", \"Topic2\", \"Topic2\", \"Topic2\", \"Topic2\", \"Topic2\", \"Topic2\", \"Topic2\", \"Topic2\", \"Topic3\", \"Topic3\", \"Topic3\", \"Topic3\", \"Topic3\", \"Topic3\", \"Topic3\", \"Topic3\", \"Topic3\", \"Topic3\", \"Topic3\", \"Topic3\", \"Topic3\", \"Topic3\", \"Topic3\", \"Topic3\", \"Topic3\", \"Topic3\", \"Topic3\", \"Topic3\", \"Topic3\", \"Topic3\", \"Topic3\", \"Topic3\", \"Topic3\", \"Topic3\", \"Topic3\", \"Topic3\", \"Topic3\", \"Topic3\", \"Topic3\", \"Topic3\", \"Topic3\", \"Topic3\", \"Topic3\", \"Topic3\", \"Topic3\", \"Topic3\", \"Topic3\", \"Topic3\", \"Topic3\", \"Topic3\", \"Topic3\", \"Topic3\", \"Topic3\", \"Topic3\", \"Topic3\", \"Topic3\", \"Topic3\", \"Topic3\", \"Topic3\", \"Topic3\", \"Topic3\", \"Topic3\", \"Topic3\", \"Topic3\", \"Topic3\", \"Topic3\", \"Topic3\", \"Topic3\", \"Topic3\", \"Topic4\", \"Topic4\", \"Topic4\", \"Topic4\", \"Topic4\", \"Topic4\", \"Topic4\", \"Topic4\", \"Topic4\", \"Topic4\", \"Topic4\", \"Topic4\", \"Topic4\", \"Topic4\", \"Topic4\", \"Topic4\", \"Topic4\", \"Topic4\", \"Topic4\", \"Topic4\", \"Topic4\", \"Topic4\", \"Topic4\", \"Topic4\", \"Topic4\", \"Topic4\", \"Topic4\", \"Topic4\", \"Topic4\", \"Topic4\", \"Topic4\", \"Topic4\", \"Topic4\", \"Topic4\", \"Topic4\", \"Topic4\", \"Topic4\", \"Topic4\", \"Topic4\", \"Topic4\", \"Topic4\", \"Topic4\", \"Topic4\", \"Topic4\", \"Topic4\", \"Topic4\", \"Topic4\", \"Topic4\", \"Topic4\", \"Topic4\", \"Topic4\", \"Topic4\", \"Topic4\", \"Topic4\", \"Topic4\", \"Topic4\", \"Topic4\", \"Topic4\", \"Topic4\", \"Topic4\", \"Topic4\", \"Topic5\", \"Topic5\", \"Topic5\", \"Topic5\", \"Topic5\", \"Topic5\", \"Topic5\", \"Topic5\", \"Topic5\", \"Topic5\", \"Topic5\", \"Topic5\", \"Topic5\", \"Topic5\", \"Topic5\", \"Topic5\", \"Topic5\", \"Topic5\", \"Topic5\", \"Topic5\", \"Topic5\", \"Topic5\", \"Topic5\", \"Topic5\", \"Topic5\", \"Topic5\", \"Topic5\", \"Topic5\", \"Topic5\", \"Topic5\", \"Topic5\", \"Topic5\", \"Topic5\", \"Topic5\", \"Topic5\", \"Topic5\", \"Topic5\", \"Topic5\", \"Topic5\", \"Topic5\", \"Topic5\", \"Topic5\", \"Topic5\", \"Topic5\", \"Topic5\", \"Topic5\", \"Topic5\", \"Topic5\", \"Topic5\", \"Topic5\", \"Topic5\", \"Topic5\", \"Topic5\", \"Topic5\", \"Topic5\", \"Topic5\", \"Topic5\", \"Topic5\", \"Topic5\", \"Topic5\", \"Topic5\", \"Topic5\", \"Topic5\", \"Topic5\", \"Topic5\", \"Topic5\", \"Topic5\", \"Topic5\", \"Topic6\", \"Topic6\", \"Topic6\", \"Topic6\", \"Topic6\", \"Topic6\", \"Topic6\", \"Topic6\", \"Topic6\", \"Topic6\", \"Topic6\", \"Topic6\", \"Topic6\", \"Topic6\", \"Topic6\", \"Topic6\", \"Topic6\", \"Topic6\", \"Topic6\", \"Topic6\", \"Topic6\", \"Topic6\", \"Topic6\", \"Topic6\", \"Topic6\", \"Topic6\", \"Topic6\", \"Topic6\", \"Topic6\", \"Topic6\", \"Topic6\", \"Topic6\", \"Topic6\", \"Topic6\", \"Topic6\", \"Topic6\", \"Topic6\", \"Topic6\", \"Topic6\", \"Topic6\", \"Topic6\", \"Topic6\", \"Topic6\", \"Topic6\", \"Topic6\", \"Topic6\", \"Topic6\", \"Topic6\", \"Topic6\", \"Topic6\", \"Topic6\", \"Topic6\", \"Topic6\", \"Topic6\", \"Topic6\", \"Topic6\", \"Topic6\", \"Topic6\", \"Topic6\", \"Topic6\", \"Topic6\", \"Topic6\", \"Topic6\", \"Topic6\", \"Topic6\", \"Topic6\", \"Topic6\", \"Topic6\", \"Topic6\", \"Topic6\", \"Topic7\", \"Topic7\", \"Topic7\", \"Topic7\", \"Topic7\", \"Topic7\", \"Topic7\", \"Topic7\", \"Topic7\", \"Topic7\", \"Topic7\", \"Topic7\", \"Topic7\", \"Topic7\", \"Topic7\", \"Topic7\", \"Topic7\", \"Topic7\", \"Topic7\", \"Topic7\", \"Topic7\", \"Topic7\", \"Topic7\", \"Topic7\", \"Topic7\", \"Topic7\", \"Topic7\", \"Topic7\", \"Topic7\", \"Topic7\", \"Topic7\", \"Topic7\", \"Topic7\", \"Topic7\", \"Topic7\", \"Topic7\", \"Topic7\", \"Topic7\", \"Topic7\", \"Topic7\", \"Topic7\", \"Topic7\", \"Topic7\", \"Topic7\", \"Topic7\", \"Topic7\", \"Topic7\", \"Topic7\", \"Topic7\", \"Topic7\", \"Topic7\", \"Topic7\", \"Topic7\", \"Topic7\", \"Topic7\", \"Topic7\", \"Topic7\", \"Topic7\", \"Topic7\", \"Topic7\", \"Topic7\", \"Topic7\", \"Topic8\", \"Topic8\", \"Topic8\", \"Topic8\", \"Topic8\", \"Topic8\", \"Topic8\", \"Topic8\", \"Topic8\", \"Topic8\", \"Topic8\", \"Topic8\", \"Topic8\", \"Topic8\", \"Topic8\", \"Topic8\", \"Topic8\", \"Topic8\", \"Topic8\", \"Topic8\", \"Topic8\", \"Topic8\", \"Topic8\", \"Topic8\", \"Topic8\", \"Topic8\", \"Topic8\", \"Topic8\", \"Topic8\", \"Topic8\", \"Topic8\", \"Topic8\", \"Topic8\", \"Topic8\", \"Topic8\", \"Topic8\", \"Topic8\", \"Topic8\", \"Topic8\", \"Topic8\", \"Topic8\", \"Topic8\", \"Topic8\", \"Topic8\", \"Topic8\", \"Topic8\", \"Topic8\", \"Topic8\", \"Topic8\", \"Topic8\", \"Topic8\", \"Topic8\", \"Topic8\", \"Topic8\", \"Topic8\", \"Topic8\", \"Topic8\", \"Topic8\", \"Topic8\", \"Topic8\", \"Topic8\", \"Topic8\", \"Topic9\", \"Topic9\", \"Topic9\", \"Topic9\", \"Topic9\", \"Topic9\", \"Topic9\", \"Topic9\", \"Topic9\", \"Topic9\", \"Topic9\", \"Topic9\", \"Topic9\", \"Topic9\", \"Topic9\", \"Topic9\", \"Topic9\", \"Topic9\", \"Topic9\", \"Topic9\", \"Topic9\", \"Topic9\", \"Topic9\", \"Topic9\", \"Topic9\", \"Topic9\", \"Topic9\", \"Topic9\", \"Topic9\", \"Topic9\", \"Topic9\", \"Topic9\", \"Topic9\", \"Topic9\", \"Topic9\", \"Topic9\", \"Topic9\", \"Topic9\", \"Topic9\", \"Topic9\", \"Topic9\", \"Topic9\", \"Topic9\", \"Topic9\", \"Topic9\", \"Topic9\", \"Topic9\", \"Topic9\", \"Topic9\", \"Topic9\", \"Topic9\", \"Topic9\", \"Topic9\", \"Topic9\", \"Topic9\", \"Topic9\", \"Topic9\", \"Topic9\", \"Topic9\", \"Topic9\", \"Topic9\", \"Topic9\", \"Topic9\", \"Topic9\", \"Topic9\", \"Topic9\", \"Topic9\", \"Topic9\", \"Topic9\", \"Topic10\", \"Topic10\", \"Topic10\", \"Topic10\", \"Topic10\", \"Topic10\", \"Topic10\", \"Topic10\", \"Topic10\", \"Topic10\", \"Topic10\", \"Topic10\", \"Topic10\", \"Topic10\", \"Topic10\", \"Topic10\", \"Topic10\", \"Topic10\", \"Topic10\", \"Topic10\", \"Topic10\", \"Topic10\", \"Topic10\", \"Topic10\", \"Topic10\", \"Topic10\", \"Topic10\", \"Topic10\", \"Topic10\", \"Topic10\", \"Topic10\", \"Topic10\", \"Topic10\", \"Topic10\", \"Topic10\", \"Topic10\", \"Topic10\", \"Topic10\", \"Topic10\", \"Topic10\", \"Topic10\", \"Topic10\", \"Topic10\", \"Topic10\", \"Topic10\", \"Topic10\", \"Topic10\", \"Topic10\", \"Topic10\", \"Topic10\", \"Topic10\", \"Topic10\", \"Topic10\", \"Topic10\", \"Topic10\", \"Topic10\", \"Topic10\", \"Topic10\", \"Topic10\", \"Topic10\", \"Topic10\", \"Topic10\", \"Topic10\", \"Topic10\", \"Topic10\", \"Topic10\", \"Topic10\", \"Topic10\"], \"logprob\": [30.0, 29.0, 28.0, 27.0, 26.0, 25.0, 24.0, 23.0, 22.0, 21.0, 20.0, 19.0, 18.0, 17.0, 16.0, 15.0, 14.0, 13.0, 12.0, 11.0, 10.0, 9.0, 8.0, 7.0, 6.0, 5.0, 4.0, 3.0, 2.0, 1.0, -3.9779, -5.3724, -5.707, -5.707, -5.707, -5.707, -5.707, -5.7756, -5.7756, -5.9285, -5.9285, -5.9285, -5.9285, -5.9312, -6.0148, -6.1092, -6.1092, -6.1092, -6.1092, -6.2134, -4.5485, -5.1269, -5.6429, -3.8204, -6.4617, -6.4619, -6.6134, -6.6134, -6.6134, -6.6134, -3.0157, -5.0776, -4.0899, -5.6797, -4.1043, -4.9025, -4.4379, -3.9199, -3.3535, -4.576, -4.4726, -4.9968, -5.1576, -4.454, -3.9703, -5.141, -5.244, -4.5949, -4.8027, -5.0009, -5.0698, -4.2806, -5.1676, -4.8946, -4.938, -5.2862, -5.1017, -5.2526, -5.2046, -5.2902, -5.395, -5.6448, -5.7183, -5.7977, -5.7977, -5.7977, -5.9837, -6.1991, -6.1991, -6.1991, -6.1991, -6.1991, -6.1991, -6.1991, -6.3309, -6.3309, -4.6773, -5.2436, -6.4827, -6.4827, -6.4827, -6.4827, -6.4827, -3.2105, -5.7977, -6.6617, -6.88, -6.88, -6.88, -4.7408, -6.1991, -5.1673, -5.1993, -5.0075, -4.9015, -5.4578, -5.1511, -5.6677, -4.8036, -4.4582, -4.3352, -5.0116, -4.7805, -5.2902, -4.62, -4.5882, -5.1894, -5.5121, -4.7239, -4.8022, -5.2545, -4.9296, -5.1084, -5.485, -5.3087, -5.1789, -5.1835, -5.3604, -5.3214, -5.2617, -4.7504, -5.0677, -5.6038, -5.7567, -5.7567, -5.9374, -5.9374, -6.0417, -6.1581, -6.1581, -6.2898, -6.2898, -6.4416, -6.4416, -6.4416, -6.6207, -6.6207, -6.6207, -5.7047, -5.5865, -5.9374, -4.5579, -5.5352, -6.0417, -5.1101, -6.8389, -6.8389, -6.8389, -6.8389, -6.8389, -4.9709, -6.165, -4.2735, -4.6636, -5.1819, -4.1329, -4.2183, -5.2052, -5.174, -3.1458, -4.9531, -3.6601, -5.3721, -4.1321, -5.6039, -4.2583, -4.7476, -4.4625, -4.0381, -5.097, -5.1676, -4.5972, -5.3066, -4.5932, -5.3165, -4.8908, -5.2705, -5.1328, -5.2023, -5.1996, -5.3026, -5.2699, -5.3237, -5.3805, -5.5049, -5.7264, -5.9081, -6.0113, -6.0113, -6.0113, -6.1277, -6.1277, -6.1277, -6.2595, -6.2595, -4.606, -6.4113, -6.4113, -6.4113, -6.4113, -5.3237, -6.5903, -6.5903, -6.5903, -6.5903, -6.5904, -5.907, -4.4469, -4.4582, -6.8086, -6.8086, -5.4408, -6.1277, -4.5399, -4.4106, -6.1277, -5.9071, -5.5734, -3.6209, -5.2331, -4.3021, -5.7624, -4.9387, -4.7431, -4.5971, -5.3279, -5.1224, -4.0473, -5.1348, -4.8239, -5.0701, -5.5734, -5.0718, -5.4727, -4.9089, -4.8113, -4.8351, -5.164, -5.3531, -5.3896, -5.2563, -5.3142, -5.278, -5.6808, -5.6808, -5.6808, -6.0821, -6.0821, -6.0821, -6.0822, -5.9856, -6.2139, -6.2141, -6.3657, -6.3657, -6.3657, -6.3657, -6.3657, -6.3657, -6.3657, -6.3657, -6.3657, -6.3657, -6.3657, -6.3657, -6.3657, -6.3657, -6.3657, -6.3657, -6.3657, -6.3657, -6.3657, -5.2253, -4.1258, -5.8614, -5.6048, -5.6072, -3.6668, -5.6055, -5.5398, -3.6638, -4.9837, -5.394, -5.3502, -5.4544, -4.844, -4.5235, -4.9191, -5.3859, -4.4883, -5.1392, -4.1322, -4.4748, -4.43, -4.8361, -4.3597, -5.4811, -4.7805, -5.2405, -4.4785, -4.7658, -4.9628, -4.6631, -4.5912, -5.2605, -5.2645, -5.326, -5.1242, -5.1416, -5.2802, -5.2266, -5.2803, -5.683, -5.968, -6.0844, -6.0845, -6.2162, -6.2162, -6.2162, -5.5301, -6.0028, -6.368, -6.368, -6.368, -6.368, -6.547, -6.547, -6.547, -6.547, -4.5099, -6.7653, -6.7653, -6.7653, -6.7653, -6.7653, -6.7653, -6.7653, -6.7653, -6.7653, -5.683, -5.4616, -4.6332, -4.3895, -5.683, -6.2162, -5.3976, -4.8991, -3.7597, -5.4864, -4.4142, -5.6831, -5.2803, -3.972, -5.7545, -5.2947, -4.3555, -4.6619, -5.0426, -5.4323, -4.6892, -4.2903, -5.6019, -4.7796, -5.1482, -4.1597, -5.042, -4.5427, -4.619, -4.8579, -5.0611, -4.4172, -5.2804, -4.654, -4.699, -5.0114, -4.8749, -5.2087, -5.0222, -4.9916, -5.0691, -4.7415, -5.5745, -5.5745, -5.5745, -5.5745, -5.5745, -5.5745, -4.7919, -5.6909, -5.6909, -5.8227, -5.8227, -5.9745, -5.9745, -5.9745, -5.9745, -5.9745, -5.9745, -4.8869, -6.1537, -5.005, -5.4702, -6.3718, -6.3718, -6.3718, -6.3718, -6.3718, -6.3718, -6.3718, -6.3718, -3.8319, -4.7519, -5.2896, -4.8869, -5.2925, -4.3548, -3.8451, -4.3737, -5.2473, -4.3331, -4.3782, -4.5352, -5.3759, -5.5745, -4.9616, -5.0681, -4.8044, -4.4772, -5.1382, -4.9317, -4.8869, -4.6872, -5.2896, -4.9397, -4.9175, -5.2899, -5.0894, -5.071, -5.13, -5.1392, -5.1869, -5.2039, -4.2462, -4.9687, -5.0374, -5.371, -5.4751, -4.7875, -5.5915, -5.5915, -5.5915, -5.5915, -5.5915, -5.5915, -5.5915, -5.5915, -5.5915, -5.5915, -5.7233, -5.3708, -6.2724, -6.2724, -6.2724, -6.2724, -6.2724, -6.2724, -6.2724, -6.2728, -6.552, -6.552, -6.552, -6.552, -4.0698, -5.0372, -5.8751, -4.4121, -5.5915, -5.1108, -5.2764, -4.3372, -5.8753, -5.3708, -4.8325, -4.9023, -5.1153, -4.2182, -4.3008, -5.1108, -4.5838, -4.8837, -4.8187, -5.2153, -4.5988, -4.7511, -5.1425, -5.1902, -4.8917, -5.2764, -5.1851, -5.1588, -5.1219, -5.0414, -5.1902, -5.1516, -4.7866, -5.4736, -5.4737, -5.6054, -5.7572, -5.7572, -5.7572, -5.9362, -5.9362, -5.9362, -5.9362, -5.9362, -6.1545, -6.1545, -6.1545, -6.1545, -6.1545, -6.1545, -6.1545, -6.1545, -6.434, -6.434, -6.434, -6.434, -6.434, -6.434, -6.434, -6.434, -6.434, -6.434, -5.2534, -4.8508, -5.4822, -5.2576, -5.659, -5.0097, -4.9855, -5.7666, -3.7883, -5.6054, -5.6113, -4.8561, -5.4929, -5.3943, -5.3815, -3.7019, -4.5762, -4.2107, -4.5715, -4.9976, -4.9405, -5.3303, -4.9013, -4.2629, -4.9669, -5.0099, -4.4497, -5.1965, -4.9734, -5.0345, -5.3633, -5.1797, -5.2037, -5.2938, -5.301, -5.2832, -5.2479, -5.3042, -5.3043, -5.1753, -5.49, -5.49, -5.49, -5.4902, -4.3199, -5.6218, -6.1709, -6.1709, -6.1709, -6.1709, -6.1709, -6.1709, -6.1712, -6.4505, -6.4505, -6.4505, -6.4505, -5.2693, -5.6218, -6.8399, -6.8399, -6.8399, -6.8399, -6.8399, -6.8399, -6.8399, -6.8399, -6.8399, -6.8399, -4.5551, -5.7768, -6.1709, -6.1709, -3.7843, -5.2693, -5.49, -5.9526, -5.2981, -4.6332, -4.0038, -4.5155, -4.8745, -5.2111, -4.2424, -3.9672, -4.522, -4.4531, -4.79, -5.2148, -4.4733, -5.1749, -4.6732, -5.2487, -5.1306, -4.8066, -4.8053, -5.0279, -5.2398, -5.2222, -4.9413, -5.302, -5.1253, -5.0436, -5.1566, -5.1959, -5.1968, -5.2218], \"loglift\": [30.0, 29.0, 28.0, 27.0, 26.0, 25.0, 24.0, 23.0, 22.0, 21.0, 20.0, 19.0, 18.0, 17.0, 16.0, 15.0, 14.0, 13.0, 12.0, 11.0, 10.0, 9.0, 8.0, 7.0, 6.0, 5.0, 4.0, 3.0, 2.0, 1.0, 1.8896, 1.86, 1.8447, 1.8447, 1.8447, 1.8447, 1.8447, 1.841, 1.841, 1.8316, 1.8316, 1.8316, 1.8316, 1.8292, 1.8257, 1.8187, 1.8187, 1.8187, 1.8187, 1.8102, 1.8053, 1.7969, 1.7953, 1.7949, 1.7863, 1.7861, 1.769, 1.769, 1.769, 1.769, 1.762, 1.7595, 1.7475, 1.757, 1.7117, 1.7135, 1.6886, 1.6229, 1.5331, 1.6612, 1.6036, 1.6739, 1.6773, 1.459, 1.2752, 1.5728, 1.5612, 1.2809, 1.3505, 1.3958, 1.4352, 0.784, 1.4268, 1.1688, 1.2042, 1.3856, 0.5925, 1.0253, 0.3766, 2.0125, 2.0079, 1.9949, 1.9905, 1.9853, 1.9853, 1.9853, 1.9671, 1.9526, 1.9526, 1.9526, 1.9526, 1.9526, 1.9526, 1.9526, 1.9389, 1.9389, 1.9338, 1.9255, 1.9211, 1.9211, 1.9211, 1.9211, 1.9211, 1.9154, 1.9114, 1.8968, 1.8617, 1.8617, 1.8617, 1.8534, 1.8507, 1.7919, 1.7888, 1.6835, 1.6437, 1.7075, 1.6292, 1.7352, 1.4837, 1.3845, 1.2615, 1.4368, 1.3085, 1.4746, 1.0461, 1.0136, 1.308, 1.4047, 0.3407, 0.2292, 0.8284, -0.0073, 0.2444, 1.1828, 0.4644, -0.074, -0.1613, 0.513, 0.2057, -0.6541, 2.0699, 2.0604, 2.0358, 2.0262, 2.0262, 2.0129, 2.0129, 2.0042, 1.9935, 1.9935, 1.9798, 1.9798, 1.962, 1.962, 1.962, 1.9377, 1.9377, 1.9377, 1.9332, 1.9282, 1.9262, 1.925, 1.9218, 1.9064, 1.9053, 1.9026, 1.9026, 1.9026, 1.9026, 1.9026, 1.8866, 1.8894, 1.8148, 1.8173, 1.8385, 1.7697, 1.7705, 1.785, 1.7802, 1.4617, 1.7323, 1.4448, 1.7663, 1.4698, 1.8097, 1.323, 1.4053, 1.2695, 0.9794, 1.446, 1.4946, 0.8707, 1.4888, 0.5129, 1.414, 0.502, 0.9728, -0.1014, 0.0807, -0.0737, 0.252, 2.0862, 2.0838, 2.0811, 2.0747, 2.0611, 2.0467, 2.039, 2.039, 2.039, 2.0282, 2.0282, 2.0282, 2.0145, 2.0145, 2.0095, 1.9966, 1.9966, 1.9966, 1.9966, 1.9909, 1.9721, 1.9721, 1.9721, 1.9721, 1.9721, 1.9634, 1.9622, 1.9605, 1.9369, 1.9369, 1.9237, 1.9228, 1.8664, 1.7361, 1.9221, 1.8889, 1.8331, 1.3966, 1.6972, 1.4103, 1.8161, 1.5669, 1.4065, 1.326, 1.5296, 1.3369, 0.5602, 1.2667, 0.9492, 1.0774, 1.5931, 0.9915, 1.443, 0.6457, 0.4343, 0.2711, 0.6771, 1.0552, 1.1382, 0.3886, 0.2128, 2.1314, 2.1086, 2.1086, 2.1086, 2.0756, 2.0756, 2.0756, 2.0755, 2.066, 2.0619, 2.0617, 2.044, 2.0439, 2.0439, 2.0439, 2.0439, 2.0439, 2.0439, 2.0439, 2.0439, 2.0439, 2.0439, 2.0439, 2.0439, 2.0439, 2.0439, 2.0439, 2.0439, 2.0439, 2.0439, 2.0368, 1.9621, 2.0129, 1.9766, 1.9762, 1.6162, 1.918, 1.866, 1.4009, 1.5692, 1.6905, 1.6365, 1.6787, 1.3803, 1.2189, 1.3869, 1.6007, 1.0628, 1.4039, 0.7901, 0.9963, 0.9228, 1.116, 0.6626, 1.5789, 0.9612, 1.3669, 0.6277, 0.7021, 0.8842, 0.3683, 0.0163, 1.2777, 1.0134, 1.1679, 0.4725, 0.4324, 0.8286, 2.1459, 2.1434, 2.1203, 2.0978, 2.0867, 2.0867, 2.0728, 2.0728, 2.0728, 2.0642, 2.0622, 2.0546, 2.0546, 2.0546, 2.0546, 2.0298, 2.0298, 2.0298, 2.0298, 2.0286, 1.9939, 1.9939, 1.9939, 1.9939, 1.9939, 1.9939, 1.9939, 1.9939, 1.9939, 1.9748, 1.9655, 1.8793, 1.8612, 1.9093, 1.9525, 1.8687, 1.8054, 1.627, 1.8368, 1.6853, 1.8467, 1.7494, 1.4218, 1.837, 1.714, 1.4176, 1.4655, 1.5946, 1.7212, 1.4274, 1.2368, 1.771, 1.3292, 1.5196, 0.8625, 1.4078, 1.0119, 1.0471, 1.1789, 1.319, 0.5051, 1.4672, 0.3774, 0.4071, 0.9117, 0.5179, 1.3058, 0.6077, 0.4796, 0.6725, 2.508, 2.5063, 2.5063, 2.5063, 2.5063, 2.5063, 2.5063, 2.5003, 2.4951, 2.4951, 2.4809, 2.4809, 2.4624, 2.4624, 2.4624, 2.4624, 2.4624, 2.4624, 2.4569, 2.4371, 2.4304, 2.427, 2.4008, 2.4008, 2.4008, 2.4008, 2.4008, 2.4008, 2.4008, 2.4008, 2.3164, 2.2942, 2.3143, 2.27, 2.2549, 2.1132, 2.0335, 2.053, 2.1455, 1.8287, 1.7606, 1.7254, 2.1324, 2.2385, 1.8698, 1.8907, 1.6047, 1.1527, 1.8041, 1.4766, 0.8255, 0.3303, 1.7464, 0.7545, 0.6566, 1.7161, 1.0458, 0.5951, 0.5148, 0.332, 0.096, 0.3231, 2.6944, 2.6639, 2.6596, 2.6352, 2.6261, 2.6227, 2.6147, 2.6147, 2.6147, 2.6147, 2.6147, 2.6147, 2.6147, 2.6147, 2.6147, 2.6147, 2.6002, 2.549, 2.5183, 2.5183, 2.5183, 2.5183, 2.5183, 2.5183, 2.5183, 2.5179, 2.4601, 2.4601, 2.4601, 2.4601, 2.4098, 2.4155, 2.4411, 2.3699, 2.4042, 2.2825, 2.1556, 1.805, 2.3357, 2.0799, 1.7819, 1.7901, 1.8003, 1.1345, 0.5858, 1.7079, 0.8101, 1.2638, 1.1334, 1.831, 0.5061, 0.7917, 1.588, 1.6738, 0.5794, 1.6774, 1.2116, 1.0379, 0.7515, -0.119, 0.886, -0.1294, 2.7892, 2.7361, 2.736, 2.7216, 2.7026, 2.7026, 2.7026, 2.6767, 2.6767, 2.6767, 2.6767, 2.6767, 2.6394, 2.6394, 2.6394, 2.6394, 2.6394, 2.6394, 2.6394, 2.6394, 2.5809, 2.5809, 2.5809, 2.5809, 2.5809, 2.5809, 2.5809, 2.5809, 2.5809, 2.5809, 2.4314, 2.3615, 2.4238, 2.3655, 2.4354, 2.2936, 2.2815, 2.4279, 1.9541, 2.3863, 2.3818, 2.1539, 2.3414, 2.2874, 2.2351, 1.3203, 1.7298, 1.2573, 1.4654, 1.8004, 1.6834, 2.0628, 1.5482, 0.7686, 1.5145, 1.5621, 0.6551, 1.7523, 1.1157, 1.1621, 1.7679, 0.3714, 0.5283, 1.1153, 1.1266, 0.8785, 0.3334, 0.7954, -0.1981, 2.7643, 2.7356, 2.7356, 2.7356, 2.7354, 2.7342, 2.7208, 2.6373, 2.6373, 2.6373, 2.6372, 2.6372, 2.6372, 2.6369, 2.5779, 2.5779, 2.5778, 2.5778, 2.5032, 2.4901, 2.4712, 2.4712, 2.4712, 2.4712, 2.4712, 2.4712, 2.4712, 2.4712, 2.4712, 2.4712, 2.3837, 2.4296, 2.4435, 2.4426, 2.2551, 2.3571, 2.3437, 2.3686, 2.2678, 2.0839, 1.641, 1.6373, 1.6547, 1.799, 1.1503, 0.9551, 1.325, 1.2411, 1.4926, 1.7935, 1.1234, 1.7407, 1.2054, 1.7419, 1.554, 0.7675, 0.5886, 1.1074, 1.6278, 1.4916, 0.0809, 1.7163, 0.6067, -0.0121, -0.0517, 0.717, 0.3303, 0.8611]}, \"token.table\": {\"Topic\": [1, 1, 10, 8, 3, 5, 2, 6, 1, 2, 3, 6, 7, 8, 10, 2, 3, 6, 7, 8, 10, 6, 8, 1, 3, 4, 5, 8, 10, 6, 7, 9, 4, 4, 8, 2, 3, 4, 8, 10, 3, 10, 1, 4, 5, 6, 7, 4, 6, 9, 10, 3, 6, 10, 7, 1, 3, 4, 10, 9, 1, 2, 3, 5, 7, 8, 10, 1, 6, 4, 6, 6, 6, 2, 3, 7, 8, 4, 8, 4, 10, 4, 2, 3, 4, 7, 8, 9, 10, 1, 3, 10, 2, 4, 7, 8, 1, 4, 10, 9, 7, 1, 4, 9, 2, 6, 7, 10, 6, 4, 2, 4, 6, 5, 1, 2, 7, 8, 1, 10, 5, 2, 3, 4, 6, 7, 9, 10, 5, 9, 4, 1, 3, 5, 8, 7, 9, 4, 4, 1, 2, 3, 4, 5, 6, 7, 8, 9, 10, 2, 1, 1, 3, 4, 6, 5, 4, 2, 4, 5, 2, 3, 6, 7, 8, 9, 9, 1, 2, 3, 5, 6, 8, 9, 10, 5, 6, 7, 8, 9, 10, 8, 9, 2, 3, 4, 3, 4, 7, 4, 8, 1, 2, 6, 8, 10, 1, 2, 3, 4, 5, 6, 9, 2, 1, 2, 3, 4, 7, 8, 9, 4, 3, 4, 5, 7, 8, 9, 4, 6, 8, 4, 6, 3, 4, 3, 2, 1, 5, 7, 8, 1, 2, 3, 4, 5, 8, 9, 10, 1, 1, 2, 3, 4, 5, 7, 8, 2, 3, 10, 1, 3, 6, 8, 9, 10, 1, 4, 4, 2, 1, 2, 6, 7, 7, 2, 3, 5, 6, 7, 8, 9, 10, 6, 1, 3, 4, 6, 7, 9, 10, 7, 2, 3, 5, 6, 7, 8, 9, 10, 4, 7, 2, 4, 5, 6, 7, 9, 10, 3, 2, 2, 3, 5, 10, 3, 5, 6, 7, 10, 1, 2, 7, 8, 3, 10, 2, 4, 5, 6, 5, 7, 9, 3, 5, 6, 8, 5, 10, 8, 1, 2, 3, 4, 5, 7, 8, 9, 8, 1, 3, 6, 10, 6, 1, 9, 4, 9, 4, 6, 7, 4, 6, 3, 8, 5, 3, 8, 9, 3, 7, 8, 2, 6, 5, 3, 7, 3, 4, 5, 2, 7, 2, 3, 4, 5, 6, 7, 8, 9, 10, 7, 3, 4, 7, 1, 5, 3, 4, 5, 1, 5, 8, 2, 1, 4, 5, 7, 5, 4, 2, 6, 7, 1, 2, 5, 8, 8, 5, 8, 3, 4, 7, 5, 6, 7, 8, 1, 2, 5, 3, 10, 2, 3, 4, 5, 8, 9, 10, 3, 4, 6, 10, 1, 4, 5, 8, 1, 2, 5, 7, 8, 2, 3, 9, 10, 4, 5, 6, 8, 10, 5, 7, 9, 2, 3, 4, 5, 6, 7, 8, 9, 10, 5, 2, 3, 5, 6, 8, 9, 10, 9, 9, 1, 6, 7, 8, 1, 4, 6, 10, 8, 5, 8, 9, 2, 2, 3, 2, 3, 5, 6, 7, 10, 4, 9, 8, 9, 1, 2, 3, 4, 5, 6, 7, 8, 9, 10, 2, 3, 4, 3, 4, 5, 6, 7, 8, 9, 2, 3, 4, 2, 6, 1, 2, 3, 4, 5, 6, 8, 9, 10, 2, 2, 3, 5, 7, 8, 9, 9, 3, 5, 6, 7, 10, 9, 8, 5, 1, 5, 9, 6, 2, 5, 6, 1, 5, 2, 1, 2, 3, 8, 10, 5, 2, 6, 2, 4, 5, 6, 7, 8, 9, 10, 1, 2, 4, 2, 3, 8, 9, 10, 1, 3, 4, 5, 7, 1, 6, 7, 8, 9, 6, 1, 5, 6, 8, 1, 6, 2, 2, 4, 1, 2, 4, 6, 7, 9, 10, 1, 3, 6, 8, 9, 8, 9, 1, 8, 1, 5, 6, 4, 8, 7, 2, 3, 4, 5, 7, 8, 9, 10, 8, 4, 4, 1, 6, 9, 7, 2, 3, 4, 5, 6, 8, 9, 10, 2, 6, 8, 9, 1, 2, 3, 4, 5, 6, 7, 9, 10, 2, 3, 4, 5, 7, 10, 1, 4, 5, 10, 7, 10, 5, 1, 4, 5, 8, 9, 1, 2, 3, 5, 9, 3, 4, 6, 8, 9, 10, 3, 6, 7, 9, 1, 2, 4, 6, 7, 10, 6, 3, 2, 1, 2, 3, 4, 5, 6, 7, 9, 10, 3, 7, 9, 2, 3, 6, 7, 8, 9, 10, 3, 4, 4, 6, 9, 9, 2, 3, 4, 5, 6, 8, 9, 10, 7, 10, 2, 7, 1, 5, 8, 9, 6, 6, 9, 10, 1, 3, 4, 6, 10, 10, 1, 2, 3, 4, 5, 7, 8, 9, 10, 1, 6, 2, 6, 1, 6, 1, 2, 3, 4, 7, 8, 10, 2, 3, 4, 5, 2, 3, 4, 5, 6, 10, 9, 2, 3, 6, 8, 9, 4, 3, 5, 6, 7, 9, 10, 8, 1, 3, 4, 6, 7, 9, 10, 5, 9, 10, 1, 2, 4, 5, 6, 7, 8, 9, 10, 7, 8, 7, 10, 5, 6, 8, 10, 2, 3, 4, 6, 10, 5, 9, 3, 3, 6, 8, 10, 10, 1, 3, 10, 1, 3, 5, 2, 3, 6, 9, 10, 5, 3, 7, 2, 3, 6, 9, 6, 1, 6, 10, 1, 10, 1, 3, 2, 3, 5, 6, 4, 1, 4, 10, 3, 3, 7, 9, 6, 7, 5, 4, 6, 9, 1, 2, 3, 4, 5, 6, 7, 8, 9, 10, 2, 3, 10, 3, 2, 2, 3, 4, 5, 6, 8, 1, 2, 3, 4, 5, 6, 7, 8, 9, 4, 7, 8, 10, 9, 1, 2, 3, 4, 5, 6, 7, 8, 10, 3, 8, 10, 2, 3, 4, 1, 2, 4, 7, 10, 10, 8, 1, 3, 2, 3, 4, 6, 7, 9, 10, 10, 8, 9, 1, 1, 2, 3, 4, 5, 6, 7, 9, 10, 3, 9, 10, 4, 6, 1, 6, 1, 5, 6, 9, 9, 1, 3, 4, 5, 6, 8, 1, 2, 4, 5, 6, 9, 1, 2, 5, 7, 8, 1, 3, 5, 9, 10, 1, 2, 3, 4, 6, 7, 8, 9, 10, 7, 1, 4, 6, 7, 8, 10, 6, 1, 5, 8, 9, 4, 5, 1, 2, 10, 10, 3, 4, 7, 5, 10, 7, 1, 4, 8, 3, 1, 2, 5, 6, 8, 1, 1, 5, 1, 3, 4, 5, 6, 9, 2, 4, 7, 10, 1, 2, 3, 4, 7, 8, 3, 4, 9, 10, 7, 10, 4, 9, 10, 2, 4, 5, 6, 10, 3, 6, 3, 5, 6, 7, 8, 9, 10, 2, 3, 4, 6, 10, 5, 5, 8, 2, 3, 10, 6, 2, 7, 7, 9, 2, 4, 2, 6, 8, 7, 1, 4, 5, 9, 10, 6, 6, 7, 1, 2, 3, 4, 5, 6, 9, 10, 3, 4, 7, 10, 5, 9, 9, 1, 2, 5, 7, 8, 9, 5, 2, 10, 8, 9, 1, 3, 5, 7, 8, 9, 8, 9, 10, 2, 5, 7, 8, 5, 3, 4, 6, 9, 10, 1, 4, 5, 6, 8, 3, 2, 3, 6, 7, 9, 10, 4, 2, 3, 2, 4, 5, 4, 6, 10, 9, 2, 7, 9, 5, 4, 6, 7, 8, 2, 3, 5, 6, 7, 8, 9, 1, 2, 3, 7, 1, 4, 6, 7, 6, 8, 1, 1, 2, 3, 4, 5, 6, 7, 8, 9, 10, 6, 9, 2, 3, 7, 10, 2, 3, 4, 5, 8, 1, 2, 5, 6, 9, 10, 1, 4, 6, 7, 7, 2, 10, 6, 7, 4, 2, 3, 6, 7, 8, 9, 2, 3, 10, 2, 9, 10, 2, 4, 5, 6, 7, 10, 2, 3, 5, 8, 9, 10, 8, 2, 2, 7, 8, 1, 2, 3, 4, 5, 6, 8, 9, 10, 2, 3, 4, 5, 6, 9, 10, 2, 3, 5, 6, 8, 10, 4, 1, 2, 3, 4, 5, 8, 10, 1, 5, 6, 5, 1, 2, 3, 4, 2, 3, 4, 2, 3, 4, 6, 7, 10, 7, 10, 3, 2, 5, 6, 10, 9, 6, 2, 6, 1, 5, 9, 1, 2, 6, 7, 10, 1, 2, 3, 4, 5, 8, 9, 5, 3, 4, 6, 8, 9, 5, 4, 8, 6, 3, 7, 8, 9, 1, 2, 3, 4, 5, 7, 8, 9, 9, 5, 6, 7, 2, 1, 2, 4, 1, 2, 3, 4, 5, 6, 8, 10, 10, 1, 3, 3, 9, 9, 3, 8, 2, 3, 8, 2, 3, 9, 2, 3, 4, 5, 6, 7, 8, 10, 3, 5, 2, 9, 3, 6, 2, 3, 4, 6, 5, 10, 10, 2, 1, 2, 3, 4, 5, 6, 7, 8, 9, 10, 5, 10, 1, 2, 3, 4, 5, 6, 7, 8, 9, 10, 3, 4, 5, 7], \"Freq\": [0.9595051812249619, 0.9874620070557922, 0.700874240797383, 0.9183548554645349, 0.8742904041112364, 0.9410122657532046, 0.8827481143645117, 0.10385271933700138, 0.34151470356099756, 0.0539233742464733, 0.3235402454788398, 0.03594891616431554, 0.07189783232863108, 0.12582120657510437, 0.0539233742464733, 0.024961500036933006, 0.11232675016619853, 0.03744225005539951, 0.5616337508309927, 0.06240375009233252, 0.19969200029546405, 0.889883030214129, 0.8957595050907627, 0.21529182977045888, 0.04784262883787975, 0.07176394325681963, 0.191370515351519, 0.16744920093257912, 0.3109770874462184, 0.3375415397826164, 0.6075747716087095, 0.04500553863768219, 0.9136998147428544, 0.8518270409451588, 0.8593849717419838, 0.1463040995081838, 0.0731520497540919, 0.18288012438522974, 0.3657602487704595, 0.2194561492622757, 0.2871274256585741, 0.5742548513171482, 0.48043000427325927, 0.3152821903043264, 0.04504031290061806, 0.10509406343477547, 0.030026875267078704, 0.12072984432045679, 0.8451089102431975, 0.024145968864091358, 0.913349187494582, 0.7038030770470977, 0.17595076926177441, 0.08797538463088721, 0.9030693807004906, 0.28866881625991875, 0.057733763251983754, 0.17320128975595125, 0.46187010601587003, 0.9212591394063433, 0.9157370209743119, 0.07760549775444998, 0.15521099550889997, 0.43976448727521655, 0.10347399700593331, 0.10347399700593331, 0.10347399700593331, 0.2499634308785473, 0.6998976064599324, 0.2768166254224078, 0.6920415635560194, 0.9268599627046684, 0.8898830287973586, 0.07317718567659529, 0.7317718567659529, 0.07317718567659529, 0.10976577851489293, 0.20736458312685555, 0.7257760409439945, 0.19247441717515407, 0.5774232515254623, 0.9573626020680811, 0.06527245357843753, 0.032636226789218764, 0.6690426491789846, 0.032636226789218764, 0.032636226789218764, 0.048954340183828146, 0.11422679376226567, 0.09885477755724893, 0.7908382204579915, 0.882174958805771, 0.07145776885307746, 0.6431199196776972, 0.1071866532796162, 0.17864442213269366, 0.9157369233683418, 0.8918851114705976, 0.10492766017301149, 0.8619277784451829, 0.9018520580543984, 0.1071005369768508, 0.8353841884194363, 0.04284021479074032, 0.11441703761470354, 0.04903587326344438, 0.7518833900394805, 0.06538116435125917, 0.8649107696106815, 0.8777451452771176, 0.8482229293690559, 0.8216357412421097, 0.8649114463284696, 0.9278320673523877, 0.5035672139251751, 0.032488207350011296, 0.06497641470002259, 0.4061025918751412, 0.9224623200092551, 0.7008736834439353, 0.877132662843149, 0.1325303757204138, 0.0883535838136092, 0.0441767919068046, 0.1546187716738161, 0.2429723554874253, 0.2650607514408276, 0.0441767919068046, 0.8264151358972945, 0.09182390398858828, 0.9393521045710025, 0.4093589727642903, 0.2605011644863665, 0.31632284259058796, 0.8957594371402084, 0.9340324996435567, 0.04915960524439772, 0.9393520763763943, 0.8759678011090786, 0.061047619500316376, 0.038154762187697734, 0.015261904875079094, 0.030523809750158188, 0.10683333412555365, 0.5646904803779265, 0.022892857312618642, 0.045785714625237284, 0.045785714625237284, 0.061047619500316376, 0.922006111096299, 0.9687657810367235, 0.8324227523647743, 0.023448528235627444, 0.11724264117813722, 0.023448528235627444, 0.9410122366785735, 0.9393520584147467, 0.2187937357777451, 0.1750349886221961, 0.6126224601776863, 0.17274288426467152, 0.04318572106616788, 0.06477858159925183, 0.5830072343932664, 0.06477858159925183, 0.06477858159925183, 0.9212591290843307, 0.1078312801446441, 0.47753852635485244, 0.07702234296046008, 0.015404468592092015, 0.03080893718418403, 0.03080893718418403, 0.18485362310510417, 0.09242681155255209, 0.07490293986661865, 0.07490293986661865, 0.17477352635544355, 0.17477352635544355, 0.27464411284426843, 0.19974117297764976, 0.9183549666573717, 0.7687580358031965, 0.8482230129459046, 0.8331857725904158, 0.12818242655237166, 0.8720987006867065, 0.8759676891563726, 0.8058458516123883, 0.14285245869001442, 0.7142622934500721, 0.0549545100757035, 0.4121588255677762, 0.5220678457191832, 0.6429209828285939, 0.2571683931314376, 0.08922764969665706, 0.0669207372724928, 0.0669207372724928, 0.4461382484832853, 0.24537603666580693, 0.022306912424164264, 0.04461382484832853, 0.9355167124598472, 0.10598533329002327, 0.14837946660603257, 0.06359119997401397, 0.3391530665280745, 0.31795599987006984, 0.021197066658004655, 0.8619276624291073, 0.8777452351971083, 0.8742904265475988, 0.18077982221664166, 0.18077982221664166, 0.43387157331994, 0.108467893329985, 0.07231192888665666, 0.22245849060326306, 0.6673754718097892, 0.11122924530163153, 0.20779895379311802, 0.7619294972414328, 0.8175853255181257, 0.0908428139464584, 0.8742904470638394, 0.9332990440704808, 0.758236560620467, 0.06244301087462669, 0.035681720499786684, 0.14272688199914674, 0.26446634239397165, 0.13223317119698583, 0.1081907764338975, 0.22840275024933918, 0.12021197381544167, 0.072127184289265, 0.0360635921446325, 0.04808478952617667, 0.9340019366102291, 0.6942087522457795, 0.07404893357288314, 0.013884175044915589, 0.05090864183135716, 0.032396408438136376, 0.013884175044915589, 0.1157014587076299, 0.14332980761241043, 0.21499471141861565, 0.6449841342558469, 0.14209340291919306, 0.09472893527946204, 0.04736446763973102, 0.09472893527946204, 0.6157380793165033, 0.9133471752776777, 0.8873743206419475, 0.0709899456513558, 0.8216356372124134, 0.9545813044244766, 0.21148257271569712, 0.5287064317892428, 0.07049419090523237, 0.17623547726308092, 0.8463420116033854, 0.29088595630701364, 0.10716851021837344, 0.1530978717405335, 0.07654893587026675, 0.06123914869621339, 0.12247829739242679, 0.045929361522160046, 0.13778808456648015, 0.8895906075376055, 0.021558988009741244, 0.4419592541996955, 0.1509129160681887, 0.11857443405357684, 0.05389747002435311, 0.0970154460438356, 0.10779494004870623, 0.9030694955597743, 0.1457111597881493, 0.11333090205744946, 0.1295210309227994, 0.04857038659604977, 0.43713347936444796, 0.09714077319209954, 0.03238025773069985, 0.7726485807238918, 0.8232295264183725, 0.09146994737981917, 0.4519030117843497, 0.056487876473043715, 0.17887827549797178, 0.07531716863072495, 0.009414646078840619, 0.028243938236521857, 0.17887827549797178, 0.9578680069709941, 0.8482228661255454, 0.11493520100875544, 0.5089987473244884, 0.08209657214911102, 0.2955476597367997, 0.7522256862127783, 0.09117887105609433, 0.09117887105609433, 0.045589435528047166, 0.022794717764023583, 0.6076311838542623, 0.10476399721625211, 0.06285839832975126, 0.23048079387575465, 0.7696161408202555, 0.10994516297432222, 0.2021612093914202, 0.3032418140871303, 0.02246235659904669, 0.4604783102804571, 0.1986486198976103, 0.7283782729579044, 0.06621620663253676, 0.497342578729735, 0.11702178323052587, 0.029255445807631467, 0.32180990388394615, 0.9410122638151054, 0.7008745421418193, 0.8593849717419838, 0.10292595641115186, 0.25731489102787963, 0.06861730427410123, 0.08577163034262655, 0.05146297820557593, 0.06861730427410123, 0.1886975867537784, 0.1886975867537784, 0.9374213390186327, 0.606958657542774, 0.303479328771387, 0.055178059776615815, 0.027589029888307907, 0.9268598761743342, 0.9010804977855859, 0.8619277034570743, 0.9136998725464816, 0.9212591845057195, 0.12033793189323892, 0.12033793189323892, 0.7220275913594335, 0.8759676165119703, 0.8898830543427855, 0.9218794292023241, 0.895759506477418, 0.9278321722242018, 0.283866956928658, 0.0709667392321645, 0.567733913857316, 0.9099572823187752, 0.9018519104029562, 0.942986557906204, 0.933852402893206, 0.8898829627330541, 0.8231177066067594, 0.8742904399190118, 0.9398538735745838, 0.38730973807336705, 0.49293966663883076, 0.07041995237697582, 0.8743954267939027, 0.9030693287772684, 0.11130909620577752, 0.005300433152656072, 0.010600866305312144, 0.21731775925889896, 0.2650216576328036, 0.05300433152656072, 0.058304764679216796, 0.21731775925889896, 0.06360519783187286, 0.8778525172810759, 0.2570054419506246, 0.5607391460740899, 0.16354891760494292, 0.9157371039802481, 0.8533871717915573, 0.9353965960194031, 0.137022443114223, 0.822134658685338, 0.745122845725295, 0.09123953212962796, 0.15206588688271325, 0.9100713068369213, 0.9339969875032318, 0.37793830458940053, 0.5669074568841008, 0.03779383045894005, 0.941012273031426, 0.9137008449671417, 0.2602537805745657, 0.7156978965800557, 0.8058458364453865, 0.8349286579244326, 0.05218304112027704, 0.05218304112027704, 0.05218304112027704, 0.8957594732047054, 0.9410122649390881, 0.9183548975936854, 0.044810948195089566, 0.22405474097544784, 0.716975171121433, 0.823782064470237, 0.1372970107450395, 0.8778526396067167, 0.8957594880600255, 0.9032827468734054, 0.08029179972208048, 0.941012296393264, 0.25598775907831717, 0.6399693976957929, 0.08059390976826908, 0.1074585463576921, 0.13432318294711512, 0.3492402756624993, 0.2014847744206727, 0.0940262280629806, 0.04029695488413454, 0.3353209316940871, 0.2794341097450726, 0.11177364389802905, 0.2794341097450726, 0.11495171767419979, 0.11495171767419979, 0.7471861648822986, 0.8957594507378064, 0.9311419801539642, 0.12320576429089944, 0.12320576429089944, 0.06160288214544972, 0.7084331446726718, 0.11379331664035304, 0.7206910053889025, 0.11379331664035304, 0.03793110554678435, 0.14252581225763375, 0.08551548735458026, 0.684123898836642, 0.05701032490305351, 0.028505162451526754, 0.30295200308146875, 0.07573800077036719, 0.6059040061629375, 0.07221200550254406, 0.16247701238072412, 0.2256625171954502, 0.05415900412690804, 0.30690102338581227, 0.018053001375636014, 0.06318550481472605, 0.03610600275127203, 0.06318550481472605, 0.9410123294686534, 0.029240912025503135, 0.0438613680382547, 0.20468638417852195, 0.36551140031878915, 0.029240912025503135, 0.24854775221677664, 0.0877227360765094, 0.8244689913088966, 0.8989184571147367, 0.15934946320996163, 0.022764209029994518, 0.09105683611997807, 0.7284546889598246, 0.7991425137989047, 0.08266991522057635, 0.02755663840685878, 0.08266991522057635, 0.9228506142720556, 0.10006202804268367, 0.300186084128051, 0.5503411542347602, 0.8482229115755799, 0.8618667762134111, 0.09072281854878012, 0.11546496273613588, 0.0923719701889087, 0.3694878807556348, 0.3002089031139533, 0.04618598509445435, 0.0923719701889087, 0.8518269271852983, 0.7687569024584089, 0.895759450876232, 0.8244688819410679, 0.10793841281714452, 0.11693328055190656, 0.02698460320428613, 0.04497433867381022, 0.32381523845143356, 0.13492301602143064, 0.0629640741433343, 0.07195894187809634, 0.08095380961285839, 0.017989735469524086, 0.05751505015515696, 0.1725451504654709, 0.7476956520170406, 0.1455692953178672, 0.0727846476589336, 0.0727846476589336, 0.2183539429768008, 0.0363923238294668, 0.1091769714884004, 0.3275309144652012, 0.545011852979479, 0.09083530882991316, 0.3330627990430149, 0.9355166304934693, 0.9268599317976002, 0.2224824000336484, 0.046350500007010076, 0.46350500007010076, 0.09270100001402015, 0.01854020000280403, 0.02781030000420605, 0.01854020000280403, 0.08343090001261814, 0.03708040000560806, 0.9355166623768706, 0.07240815667838245, 0.1448163133567649, 0.4103128878441672, 0.24136052226127483, 0.048272104452254966, 0.09654420890450993, 0.8619277784451829, 0.11560683416818407, 0.19267805694697346, 0.15414244555757875, 0.4238917252833416, 0.07707122277878937, 0.768758219221982, 0.8593849717419838, 0.8533838330265039, 0.21049717819272157, 0.45926657060230164, 0.32531382084329696, 0.9268599346407218, 0.3273563492861517, 0.1785580087015373, 0.47615468987076615, 0.8623816415291065, 0.13175275078916904, 0.9220061848586141, 0.01393402798871633, 0.11147222390973063, 0.7245694554132491, 0.02786805597743266, 0.12540625189844695, 0.94101226634082, 0.06939472787499595, 0.9021314623749475, 0.15806251705616348, 0.14928126610859885, 0.052687505685387825, 0.3863750416928441, 0.10537501137077565, 0.026343752842693913, 0.04390625473782319, 0.07903125852808174, 0.6128040749393635, 0.20426802497978783, 0.15320101873484088, 0.9441166125493641, 0.035205100945420814, 0.38725611039962893, 0.21123060567252486, 0.3168459085087873, 0.63043010512744, 0.07004778945860445, 0.09339705261147259, 0.16344484207007703, 0.023349263152868147, 0.10607156020302563, 0.2970003685684718, 0.36064330469028716, 0.04242862408121025, 0.169714496324841, 0.9450348467026498, 0.8156079162236777, 0.11194618457972046, 0.01599231208281721, 0.06396924833126884, 0.7860019241505308, 0.1965004810376327, 0.9355167412105786, 0.8482228999418402, 0.972422281494443, 0.020182568033084818, 0.3632862245955267, 0.05045642008271204, 0.3229210885293571, 0.1311866922150513, 0.030273852049627223, 0.08073027213233927, 0.21214692825854198, 0.14143128550569464, 0.40072197559946815, 0.16500316642331042, 0.07071564275284732, 0.8649352213888264, 0.09610391348764737, 0.890598242192462, 0.05937321614616413, 0.9015959970690547, 0.08632302099597332, 0.009591446777330368, 0.8272270154925424, 0.1654454030985085, 0.9030693743992063, 0.04837042274188257, 0.15720387391111834, 0.04837042274188257, 0.27812993076582476, 0.09674084548376514, 0.07255563411282386, 0.06046302842735321, 0.21766690233847158, 0.8957594555364233, 0.9260716171047927, 0.9787617520527716, 0.9010806506485759, 0.22885444644423136, 0.6865633393326941, 0.9030695122074618, 0.04899280570166592, 0.14697841710499776, 0.34294963991166144, 0.11431654663722049, 0.06532374093555457, 0.22863309327444098, 0.016330935233888642, 0.016330935233888642, 0.11350748316108727, 0.3405224494832618, 0.05675374158054364, 0.4540299326443491, 0.0486614415874122, 0.1265197481272717, 0.13625203644475417, 0.0973228831748244, 0.06812601822237709, 0.20437805466713124, 0.23357491961957855, 0.03892915326992976, 0.0486614415874122, 0.11215345119512274, 0.11215345119512274, 0.1682301767926841, 0.1869224186585379, 0.1682301767926841, 0.26169138612195303, 0.8716204160891589, 0.05810802773927726, 0.0498068809193805, 0.0166022936397935, 0.6367964704390774, 0.3183982352195387, 0.9410122621975451, 0.22679526246462442, 0.03779921041077074, 0.5669881561615611, 0.11339763123231221, 0.03779921041077074, 0.08197413856651659, 0.027324712855505525, 0.5464942571101106, 0.24592241569954973, 0.08197413856651659, 0.2276739762586476, 0.1138369881293238, 0.0758913254195492, 0.18972831354887298, 0.0379456627097746, 0.3415109643879714, 0.9218788689754293, 0.11346976550302827, 0.6240837102666555, 0.22693953100605654, 0.06020225001720163, 0.5056989001444937, 0.16856630004816456, 0.18060675005160487, 0.0481618000137613, 0.02408090000688065, 0.8898829285996133, 0.9544561791523687, 0.9355166006557665, 0.07493926400573787, 0.06341014646639358, 0.20752411570819718, 0.15564308678114788, 0.21328867447786934, 0.16717220432049218, 0.023058235078688576, 0.04611647015737715, 0.04611647015737715, 0.9099570663357457, 0.8463419909052605, 0.8619276830269744, 0.12090419390298034, 0.5239181735795815, 0.040301397967660114, 0.040301397967660114, 0.10938950876936317, 0.10938950876936317, 0.057573425668085876, 0.8168489518575173, 0.155590276544289, 0.1786422011208704, 0.6252477039230464, 0.1786422011208704, 0.9212591987724618, 0.020608776944234974, 0.14426143860964483, 0.12365266166540985, 0.10304388472117487, 0.4121755388846995, 0.04121755388846995, 0.0824351077769399, 0.061826330832704925, 0.9030693464485225, 0.7726484991339158, 0.11840683574327351, 0.8288478502029146, 0.2950162566068108, 0.11800650264272432, 0.5900325132136216, 0.8244688846541205, 0.9408419967234964, 0.11607839099418854, 0.503006360974817, 0.3482351729825656, 0.4026472856534158, 0.03355394047111798, 0.2013236428267079, 0.03355394047111798, 0.30198546424006184, 0.9133345994725913, 0.269863377121775, 0.1349316885608875, 0.031138081975589423, 0.062276163951178846, 0.09341424592676827, 0.15569040987794713, 0.04151744263411923, 0.010379360658529808, 0.19720785251206635, 0.9311419197338179, 0.889883033423447, 0.954581360264737, 0.7943892788732871, 0.9012800553914673, 0.8898829281721774, 0.2742486723057985, 0.048396824524552684, 0.0806613742075878, 0.09679364904910537, 0.2097195729397283, 0.09679364904910537, 0.17745502325669316, 0.46346430975081215, 0.3244250168255685, 0.13903929292524364, 0.04634643097508121, 0.1546603763106457, 0.08837735789179753, 0.1104716973647469, 0.1325660368376963, 0.46398112893193705, 0.044188678945898764, 0.8663230195365105, 0.0714265087965545, 0.0714265087965545, 0.0714265087965545, 0.0714265087965545, 0.6428385791689906, 0.8518269988221134, 0.19398007320025099, 0.4584983548369569, 0.052903656327341175, 0.1410764168729098, 0.052903656327341175, 0.08817276054556862, 0.9183548625748338, 0.08282830494401182, 0.06626264395520945, 0.09939396593281417, 0.04969698296640709, 0.4638385076864662, 0.1325252879104189, 0.09939396593281417, 0.3112606139078448, 0.5706444588310489, 0.1037535379692816, 0.05441865344271225, 0.15237222963959432, 0.0653023841312547, 0.29386072859064616, 0.217674613770849, 0.05441865344271225, 0.0653023841312547, 0.010883730688542452, 0.08706984550833961, 0.8058458898957745, 0.8957595220132563, 0.23289625468201464, 0.6986887640460439, 0.13373587951341737, 0.33433969878354336, 0.33433969878354336, 0.16716984939177168, 0.7030438575538376, 0.08436526290646051, 0.08436526290646051, 0.056243508604307005, 0.08436526290646051, 0.9410122496541091, 0.861927671352632, 0.8481098753325895, 0.9601746702725539, 0.3005987758222617, 0.541077796480071, 0.12023951032890468, 0.8800016907335989, 0.9224618727696283, 0.1923079089770601, 0.5769237269311802, 0.8877062236310534, 0.09957074507304252, 0.8463513331208614, 0.08734905025494819, 0.3057216758923187, 0.04367452512747409, 0.34939620101979274, 0.21837262563737048, 0.9410122222491728, 0.2102081459840866, 0.7707632019416509, 0.9743547523649118, 0.058710710835703624, 0.8219499516998507, 0.11742142167140725, 0.8340596682645158, 0.878744529478245, 0.03254609368437945, 0.09763828105313833, 0.7192600850556328, 0.2589336306200278, 0.8892238000631746, 0.0592815866708783, 0.7450696241808967, 0.22925219205566053, 0.7758524366005177, 0.19396310915012943, 0.8957129128812636, 0.3999928107071033, 0.42104506390221397, 0.1684180255608856, 0.9353964658114314, 0.7530392711160546, 0.11585219555631611, 0.11585219555631611, 0.0513015783369871, 0.9234284100657677, 0.9410122481888566, 0.21166134726100289, 0.6878993785982593, 0.05291533681525072, 0.0479669877616662, 0.12951086695649874, 0.08154387919483254, 0.06715378286633268, 0.24942833636066422, 0.18707125227049817, 0.01918679510466648, 0.057560385313999436, 0.00959339755233324, 0.14869766206116522, 0.18470179234980108, 0.7541989854283544, 0.04617544808745027, 0.9439848167970054, 0.8921853987186823, 0.1302380512323823, 0.15628566147885875, 0.10419044098590584, 0.02604761024647646, 0.18233327172533523, 0.3907141536971469, 0.1180312378193871, 0.16229295200165725, 0.014753904727423387, 0.09590038072825201, 0.287701142184756, 0.014753904727423387, 0.07376952363711693, 0.2065546661839274, 0.02213085709113508, 0.8485662989987907, 0.04242831494993953, 0.021214157474969766, 0.08485662989987906, 0.9212591174798179, 0.12416319839214171, 0.2110774372666409, 0.14899583807057004, 0.14899583807057004, 0.07449791903528502, 0.02483263967842834, 0.062081599196070855, 0.13657951823135586, 0.062081599196070855, 0.9099569679932332, 0.9745964469858672, 0.7726485108955926, 0.8702056435687081, 0.11171558937706388, 0.011759535723901461, 0.21498334790647886, 0.16720927059392798, 0.38219261850040687, 0.14332223193765256, 0.09554815462510172, 0.7726485140288113, 0.9183548239964472, 0.0724936700630271, 0.8699240407563251, 0.01055093704823606, 0.3270790484953179, 0.48006763569474076, 0.05803015376529833, 0.10550937048236061, 0.02110187409647212, 0.7726485807238918, 0.7008744806992281, 0.8593849717419838, 0.8619277784451829, 0.9311418565980617, 0.021007507760610392, 0.06652377457526625, 0.5286889453086948, 0.20657382631266885, 0.11554129268335715, 0.0070025025868701305, 0.021007507760610392, 0.021007507760610392, 0.010503753880305196, 0.16588512657278148, 0.08294256328639074, 0.7464830695775168, 0.14790815055451523, 0.8134948280498338, 0.9311419421489139, 0.8340596676406716, 0.8119133478208095, 0.06495306782566476, 0.09742960173849714, 0.03247653391283238, 0.7687581475618316, 0.5748769251867408, 0.032850110010670903, 0.032850110010670903, 0.19710066006402543, 0.016425055005335452, 0.13140044004268361, 0.09053447611503221, 0.05432068566901932, 0.07242758089202576, 0.03621379044601288, 0.7242758089202577, 0.01810689522300644, 0.3262760201492004, 0.18249336720209514, 0.45899846902345137, 0.0221204081457085, 0.01106020407285425, 0.13847548679989305, 0.015386165199988118, 0.8000805903993822, 0.030772330399976237, 0.7726485807238918, 0.13051794428165628, 0.09980783974479598, 0.19961567948959197, 0.09213031361058091, 0.18426062722116182, 0.023032578402645228, 0.06142020907372061, 0.023032578402645228, 0.18426062722116182, 0.9018520580543984, 0.245467511124187, 0.490935022248374, 0.11455150519128728, 0.03272900148322493, 0.0490935022248374, 0.0490935022248374, 0.7943892295634314, 0.08023477570380222, 0.44129126637091226, 0.40117387851901115, 0.08023477570380222, 0.7666294707474884, 0.10951849582106978, 0.9010803654053299, 0.08087378513852275, 0.8896116365237503, 0.8735061597098577, 0.2989618077209658, 0.531487658170606, 0.1328719145426515, 0.9410122293693923, 0.7008736915038531, 0.8058459044372888, 0.9010803421022291, 0.7641764459357181, 0.16981698798571512, 0.9353965694381663, 0.1126901605358565, 0.5634508026792825, 0.225380321071713, 0.05634508026792825, 0.01878169342264275, 0.9157369258611686, 0.37514928199567404, 0.6252488033261234, 0.15711769376546175, 0.0628470775061847, 0.03142353875309235, 0.2513883100247388, 0.42421777316674675, 0.04713530812963853, 0.23453445703419615, 0.1465840356463726, 0.05863361425854904, 0.5570193354562158, 0.3309507878430699, 0.5295212605489119, 0.04412677171240932, 0.04412677171240932, 0.04412677171240932, 0.8633277670582787, 0.10809922329575197, 0.1801653721595866, 0.07206614886383465, 0.6125622653425945, 0.8642767681309547, 0.10803459601636933, 0.31022026875335934, 0.6204405375067187, 0.7726485807238918, 0.08134730707218597, 0.24404192121655793, 0.5287574959692088, 0.04067365353609299, 0.04067365353609299, 0.8742904237199082, 0.7943893072746623, 0.07888890495694369, 0.2892593181754602, 0.10518520660925824, 0.05259260330462912, 0.02629630165231456, 0.31555561982777475, 0.10518520660925824, 0.6562636458635216, 0.17014242670535745, 0.04861212191581642, 0.07291818287372462, 0.04861212191581642, 0.941012379786143, 0.34056434243326433, 0.6243679611276514, 0.045678173226210074, 0.8450462046848864, 0.09135634645242015, 0.8889908390288138, 0.8482228895211241, 0.9018519327588468, 0.9018519435450303, 0.9212591197193654, 0.8563222687434743, 0.07784747897667949, 0.7570981673139757, 0.11356472509709635, 0.11356472509709635, 0.9018519833685649, 0.3476270879217499, 0.11587569597391663, 0.07725046398261108, 0.11587569597391663, 0.3476270879217499, 0.9362656556158411, 0.09395906924009956, 0.845631623160896, 0.2809437270033812, 0.06483316777001105, 0.021611055923337015, 0.19449950331003316, 0.04322211184667403, 0.1512773914633591, 0.17288844738669612, 0.04322211184667403, 0.19505632573892276, 0.19505632573892276, 0.2730788560344919, 0.3120901211822764, 0.9806707662803179, 0.953831818337524, 0.9212591459665268, 0.14080038039301557, 0.028160076078603113, 0.1689604564716187, 0.14080038039301557, 0.3942410651004436, 0.11264030431441245, 0.9410122452273919, 0.8743954267939027, 0.8735066155176786, 0.92360785648393, 0.05772549103024562, 0.11981154358007833, 0.010891958507279847, 0.38121854775479463, 0.04356783402911939, 0.032675875521839544, 0.41389442327663417, 0.8957595220456501, 0.8619277784451829, 0.7008744601710998, 0.19171595598814245, 0.3834319119762849, 0.06390531866271415, 0.35147925264492785, 0.941012271057116, 0.13049275279158118, 0.44367535949137604, 0.27403478086232047, 0.02609855055831624, 0.11744347751242307, 0.9687657534195253, 0.8866383817950898, 0.05215519892912293, 0.026077599464561466, 0.026077599464561466, 0.9544562206127368, 0.23824030220728898, 0.15882686813819266, 0.11912015110364449, 0.4367738873800298, 0.039706717034548165, 0.7726484392273347, 0.9297742753668319, 0.12099204104851068, 0.8469442873395747, 0.20493986539151082, 0.7514461731022063, 0.9410123314853104, 0.7615685618615247, 0.16923745819144992, 0.04230936454786248, 0.8619277784451829, 0.6457405370120732, 0.15374774690763648, 0.15374774690763648, 0.9410122565120599, 0.07727291088392371, 0.6181832870713897, 0.07727291088392371, 0.1931822772098093, 0.0939014499808372, 0.12520193330778293, 0.21910338328862014, 0.03130048332694573, 0.0939014499808372, 0.0939014499808372, 0.34430531659640307, 0.7250381094824274, 0.06304679212890674, 0.15761698032226684, 0.06304679212890674, 0.3167271462255418, 0.5882075572760063, 0.0452467351750774, 0.8058458860690605, 0.240943342177846, 0.722830026533538, 0.9666145608657416, 0.968766197884799, 0.07686415315744416, 0.023059245947233246, 0.09223698378893298, 0.04611849189446649, 0.46118491894466496, 0.03843207657872208, 0.1460418909991439, 0.015372830631488832, 0.10760981442042182, 0.7943893072746623, 0.8989129866832858, 0.20236826006977235, 0.06745608668992412, 0.13491217337984823, 0.5396486935193929, 0.12487058346184565, 0.530699979712844, 0.18730587519276848, 0.09365293759638424, 0.031217645865461413, 0.15962812202678742, 0.09121606972959281, 0.18243213945918563, 0.18243213945918563, 0.27364820918877847, 0.09121606972959281, 0.3308240592075722, 0.07351645760168271, 0.11027468640252407, 0.4778569744109376, 0.8058458582831398, 0.3526696143437039, 0.6171718251014818, 0.8898829477496458, 0.9018519823634368, 0.9136998122819342, 0.062264253706702355, 0.015566063426675589, 0.607076473640348, 0.1400945708400803, 0.046698190280026766, 0.12452850741340471, 0.11728518330703355, 0.7819012220468903, 0.07819012220468903, 0.7723065585673962, 0.22065901673354177, 0.7008699851356871, 0.1481830720211479, 0.17781968642537746, 0.12842532908499485, 0.12842532908499485, 0.12842532908499485, 0.2963661440422958, 0.24493619514719783, 0.07348085854415935, 0.5388596293238352, 0.048987239029439564, 0.048987239029439564, 0.048987239029439564, 0.9183547745863647, 0.9220061220691562, 0.7660972764392241, 0.10944246806274631, 0.9217281569758341, 0.10699288657890492, 0.16048932986835737, 0.11234253090785017, 0.08024466493417869, 0.16583897419730262, 0.16048932986835737, 0.03744751030261672, 0.12304181956574066, 0.058846087618397706, 0.09932726985410785, 0.28970453707448124, 0.0413863624392116, 0.23176362965958497, 0.11588181482979248, 0.20693181219605802, 0.01655454497568464, 0.07917324114919835, 0.14251183406855703, 0.19001577875807604, 0.45920479866535047, 0.07917324114919835, 0.03166929645967934, 0.9393520372106401, 0.6458418144599718, 0.10333469031359549, 0.025833672578398872, 0.03875050886759831, 0.025833672578398872, 0.03875050886759831, 0.11625152660279492, 0.3464213020798825, 0.0799433774030498, 0.5596036418213486, 0.9410122539496917, 0.06392030309864437, 0.11505654557755986, 0.7159073947048169, 0.08948842433810211, 0.3501357782869493, 0.5299352320018692, 0.10409442057179573, 0.08003262922463371, 0.27211093936375463, 0.09603915506956046, 0.4801957753478023, 0.01600652584492674, 0.04801957753478023, 0.901851995593747, 0.8735060278165628, 0.8917161130184883, 0.8168738026874488, 0.05105461266796555, 0.025527306333982775, 0.1021092253359311, 0.768758219221982, 0.8898831592503095, 0.123255658258103, 0.7395339495486181, 0.9687657315730525, 0.3038823553359227, 0.6837352995058262, 0.12800690435309137, 0.21944040746244234, 0.10972020373122117, 0.42059411430301447, 0.10972020373122117, 0.5367724683045465, 0.07952184715622912, 0.046387744174466984, 0.18555097669786794, 0.07952184715622912, 0.03976092357811456, 0.033134102981762135, 0.823119627985166, 0.10944201820218416, 0.7660941274152892, 0.1764423082564732, 0.0882211541282366, 0.6175480788976562, 0.853387300284368, 0.9136998346999287, 0.9183549667878413, 0.8340597266764224, 0.1618143911010577, 0.48544317330317305, 0.19417726932126922, 0.1618143911010577, 0.05284549988526155, 0.08455279981641847, 0.11626009974757541, 0.48617859894440624, 0.05284549988526155, 0.16910559963283694, 0.021138199954104618, 0.021138199954104618, 0.9212592774386907, 0.08636807917348563, 0.08636807917348563, 0.690944633387885, 0.8743954267939027, 0.18075057288671043, 0.7230022915468417, 0.09037528644335521, 0.5351606021366526, 0.08711916778968763, 0.09956476318821444, 0.07467357239116083, 0.04978238159410722, 0.04978238159410722, 0.06222797699263403, 0.02489119079705361, 0.7726484631167526, 0.9311419500716306, 0.8481099541879636, 0.2843580524609472, 0.6635021224088767, 0.8619277784451829, 0.8917160703083427, 0.9183348797587275, 0.06643427978547412, 0.7972113574256893, 0.13286855957094823, 0.12647102867256108, 0.12647102867256108, 0.6323551433628053, 0.0687960965724379, 0.130712583487632, 0.03439804828621895, 0.5710076015512345, 0.0687960965724379, 0.08255531588692548, 0.02063882897173137, 0.02751843862897516, 0.5336158349209181, 0.4608500392498839, 0.3097800299757419, 0.6195600599514838, 0.2587730389458342, 0.7292694733928055, 0.03946137437795428, 0.11838412313386283, 0.1973068718897714, 0.6313819900472685, 0.9278321658911363, 0.9133487038963354, 0.8735066236594763, 0.8482228252281929, 0.06643292032883884, 0.08304115041104855, 0.008304115041104855, 0.041520575205524275, 0.3072522565208796, 0.1826905309043068, 0.09964938049325825, 0.11625761057546796, 0.049824690246629125, 0.041520575205524275, 0.8533873424854516, 0.7726484929785269, 0.08283723670908635, 0.07363309929696564, 0.08283723670908635, 0.13806206118181058, 0.1748786108302934, 0.10124551153332777, 0.14726619859393128, 0.055224824472724234, 0.027612412236362117, 0.12885792376968988, 0.6991923474566383, 0.1957738572878587, 0.05593538779653106, 0.02796769389826553], \"Term\": [\"09go\", \"09image\", \"12month\", \"20th\", \"470\", \"60mpg\", \"ability\", \"ability\", \"able\", \"able\", \"able\", \"able\", \"able\", \"able\", \"able\", \"access\", \"access\", \"access\", \"access\", \"access\", \"access\", \"accuracy\", \"acre\", \"actual\", \"actual\", \"actual\", \"actual\", \"actual\", \"actual\", \"address\", \"address\", \"address\", \"advocate\", \"aesdynegy\", \"affair\", \"agreement\", \"agreement\", \"agreement\", \"agreement\", \"agreement\", \"aluminum\", \"aluminum\", \"amount\", \"amount\", \"amount\", \"amount\", \"amount\", \"analyst\", \"analyst\", \"analyst\", \"andor\", \"answer\", \"answer\", \"answer\", \"anyone\", \"approval\", \"approval\", \"approval\", \"approval\", \"arcade\", \"architectural\", \"area\", \"area\", \"area\", \"area\", \"area\", \"area\", \"assessment\", \"assessment\", \"associate\", \"associate\", \"audio\", \"automatic\", \"average\", \"average\", \"average\", \"average\", \"avoid\", \"avoid\", \"bad\", \"bad\", \"bankruptcy\", \"basis\", \"basis\", \"basis\", \"basis\", \"basis\", \"basis\", \"basis\", \"belief\", \"belief\", \"bidweek\", \"bill\", \"bill\", \"bill\", \"bill\", \"bishop\", \"blackout\", \"blackout\", \"boat\", \"body\", \"bond\", \"bond\", \"bond\", \"book\", \"book\", \"book\", \"book\", \"border\", \"branch\", \"break\", \"bridge\", \"broadband\", \"broker\", \"builder\", \"builder\", \"builder\", \"builder\", \"builderdeveloper\", \"bullish\", \"burnet\", \"business\", \"business\", \"business\", \"business\", \"business\", \"business\", \"business\", \"busy\", \"busy\", \"buy\", \"buyer\", \"buyer\", \"buyer\", \"cabinet\", \"calendar\", \"calendar\", \"californiasouthw\", \"caliso\", \"call\", \"call\", \"call\", \"call\", \"call\", \"call\", \"call\", \"call\", \"call\", \"call\", \"capture\", \"carpenter\", \"cash\", \"cash\", \"cash\", \"cash\", \"cautious\", \"celeste\", \"cell\", \"cell\", \"cell\", \"center\", \"center\", \"center\", \"center\", \"center\", \"center\", \"centipede\", \"change\", \"change\", \"change\", \"change\", \"change\", \"change\", \"change\", \"change\", \"check\", \"check\", \"check\", \"check\", \"check\", \"check\", \"checkbook\", \"classic\", \"clay\", \"client\", \"client\", \"cold\", \"college\", \"colocation\", \"color\", \"color\", \"column\", \"column\", \"column\", \"comfortable\", \"comfortable\", \"comment\", \"comment\", \"comment\", \"comment\", \"comment\", \"comment\", \"comment\", \"commodity\", \"company\", \"company\", \"company\", \"company\", \"company\", \"company\", \"competition\", \"compliance\", \"composite\", \"computer\", \"computer\", \"computer\", \"computer\", \"computer\", \"conference\", \"conference\", \"conference\", \"confidential\", \"confidential\", \"confirmation\", \"confirmation\", \"consistent\", \"consolidated\", \"construction\", \"construction\", \"construction\", \"construction\", \"contract\", \"contract\", \"contract\", \"contract\", \"contract\", \"contract\", \"contract\", \"contract\", \"corporate\", \"cost\", \"cost\", \"cost\", \"cost\", \"cost\", \"cost\", \"cost\", \"course\", \"course\", \"course\", \"coverage\", \"coverage\", \"coverage\", \"coverage\", \"coverage\", \"create\", \"creekside\", \"creekside\", \"crisis\", \"cubic\", \"curve\", \"curve\", \"curve\", \"curve\", \"cycle\", \"daily\", \"daily\", \"daily\", \"daily\", \"daily\", \"daily\", \"daily\", \"daily\", \"database\", \"date\", \"date\", \"date\", \"date\", \"date\", \"date\", \"date\", \"datetime\", \"datum\", \"datum\", \"datum\", \"datum\", \"datum\", \"datum\", \"datum\", \"dawn\", \"deadline\", \"deadline\", \"deal\", \"deal\", \"deal\", \"deal\", \"deal\", \"deal\", \"deal\", \"degree\", \"delta\", \"demand\", \"demand\", \"demand\", \"demand\", \"description\", \"description\", \"description\", \"description\", \"description\", \"design\", \"design\", \"design\", \"design\", \"desire\", \"desire\", \"desk\", \"desk\", \"desk\", \"desk\", \"desktop\", \"desktop\", \"desktop\", \"detailed\", \"detailed\", \"detailed\", \"detailed\", \"detentionretention\", \"dexter\", \"dialogue\", \"different\", \"different\", \"different\", \"different\", \"different\", \"different\", \"different\", \"different\", \"dimension\", \"direct\", \"direct\", \"direct\", \"direct\", \"directory\", \"disbursement\", \"discharge\", \"disclosure\", \"distribute\", \"distribution\", \"distribution\", \"distribution\", \"district\", \"divine\", \"door\", \"dormer\", \"downdraft\", \"download\", \"download\", \"download\", \"downstairs\", \"dozen\", \"drawing\", \"drill\", \"duprehouee\", \"easement\", \"eb3014\", \"economy\", \"electricity\", \"electricity\", \"electricity\", \"elevator\", \"else\", \"email\", \"email\", \"email\", \"email\", \"email\", \"email\", \"email\", \"email\", \"email\", \"emailcalendar\", \"energy\", \"energy\", \"energy\", \"engineering\", \"enormous\", \"enrononline\", \"entire\", \"entire\", \"equity\", \"equity\", \"equity\", \"essential\", \"evaluation\", \"evening\", \"evening\", \"evening\", \"exceptional\", \"excess\", \"executive\", \"executive\", \"exodus\", \"expense\", \"expense\", \"expense\", \"expense\", \"exterior\", \"extreme\", \"f828fa00pdf\", \"facility\", \"facility\", \"facility\", \"family\", \"family\", \"farm\", \"farmhouse\", \"fee\", \"fee\", \"fence\", \"figure\", \"figure\", \"file\", \"file\", \"file\", \"file\", \"file\", \"file\", \"file\", \"financial\", \"financial\", \"financial\", \"financial\", \"fine\", \"fine\", \"fine\", \"finishing\", \"fiscal\", \"floor\", \"floor\", \"floor\", \"floor\", \"forecast\", \"forecast\", \"forecast\", \"forecast\", \"form\", \"form\", \"form\", \"form\", \"form\", \"format\", \"format\", \"format\", \"forwarded\", \"forwarded\", \"forwarded\", \"forwarded\", \"forwarded\", \"forwarded\", \"forwarded\", \"forwarded\", \"forwarded\", \"freakish\", \"free\", \"free\", \"free\", \"free\", \"free\", \"free\", \"free\", \"frog\", \"frogger\", \"front\", \"front\", \"front\", \"front\", \"fund\", \"fund\", \"fund\", \"fund\", \"gable\", \"game\", \"game\", \"game\", \"gamma\", \"garage\", \"garage\", \"generation\", \"generation\", \"generation\", \"generation\", \"generation\", \"generation\", \"generator\", \"gift\", \"give\", \"golf\", \"good\", \"good\", \"good\", \"good\", \"good\", \"good\", \"good\", \"good\", \"good\", \"good\", \"governor\", \"governor\", \"governor\", \"great\", \"great\", \"great\", \"great\", \"great\", \"great\", \"great\", \"grid\", \"grid\", \"grid\", \"handout\", \"heizenrader\", \"high\", \"high\", \"high\", \"high\", \"high\", \"high\", \"high\", \"high\", \"high\", \"highlight\", \"home\", \"home\", \"home\", \"home\", \"home\", \"home\", \"honest\", \"hour\", \"hour\", \"hour\", \"hour\", \"hour\", \"httpiosetsenroncominfopostingssharedetnoncriticalnoticeaspcompany\", \"httpwwwcapitolconnectiongmuedu\", \"httpwwwhotmailcom\", \"image\", \"image\", \"image\", \"immediate\", \"impact\", \"impact\", \"impact\", \"improvement\", \"improvement\", \"inclusion\", \"index\", \"index\", \"index\", \"index\", \"index\", \"infill\", \"influence\", \"influence\", \"information\", \"information\", \"information\", \"information\", \"information\", \"information\", \"information\", \"information\", \"initial\", \"initial\", \"initial\", \"injection\", \"instruction\", \"instruction\", \"instruction\", \"instruction\", \"interest\", \"interest\", \"interest\", \"interest\", \"interest\", \"internet\", \"internet\", \"internet\", \"internet\", \"internet\", \"interview\", \"investment\", \"investment\", \"investment\", \"investment\", \"investor\", \"investor\", \"iron\", \"isolate\", \"issuance\", \"issue\", \"issue\", \"issue\", \"issue\", \"issue\", \"issue\", \"issue\", \"item\", \"item\", \"item\", \"item\", \"item\", \"kitchen\", \"kitchen\", \"labor\", \"labor\", \"land\", \"land\", \"land\", \"language\", \"language\", \"laptop\", \"last\", \"last\", \"last\", \"last\", \"last\", \"last\", \"last\", \"last\", \"leak\", \"legislative\", \"legislature\", \"liability\", \"life\", \"life\", \"lime\", \"line\", \"line\", \"line\", \"line\", \"line\", \"line\", \"line\", \"line\", \"link\", \"link\", \"link\", \"link\", \"list\", \"list\", \"list\", \"list\", \"list\", \"list\", \"list\", \"list\", \"list\", \"load\", \"load\", \"load\", \"load\", \"load\", \"load\", \"loan\", \"loan\", \"loan\", \"loan\", \"location\", \"location\", \"lone\", \"lot\", \"lot\", \"lot\", \"lot\", \"lot\", \"low\", \"low\", \"low\", \"low\", \"low\", \"mail\", \"mail\", \"mail\", \"mail\", \"mail\", \"mail\", \"mailbox\", \"mailing\", \"mailing\", \"mailing\", \"manager\", \"manager\", \"manager\", \"manager\", \"manager\", \"manager\", \"map\", \"mapp\", \"mapping\", \"market\", \"market\", \"market\", \"market\", \"market\", \"market\", \"market\", \"market\", \"market\", \"marketplace\", \"mass\", \"mcnary\", \"meeting\", \"meeting\", \"meeting\", \"meeting\", \"meeting\", \"meeting\", \"meeting\", \"megawatthour\", \"megawatthour\", \"member\", \"member\", \"member\", \"memory\", \"message\", \"message\", \"message\", \"message\", \"message\", \"message\", \"message\", \"message\", \"messaging\", \"midmarket\", \"migration\", \"migration\", \"mind\", \"mind\", \"mind\", \"missile\", \"mitigation\", \"model\", \"model\", \"model\", \"money\", \"money\", \"money\", \"money\", \"money\", \"monitor\", \"month\", \"month\", \"month\", \"month\", \"month\", \"month\", \"month\", \"month\", \"month\", \"mortgage\", \"mouse\", \"move\", \"multex\", \"multifamily\", \"multipurpose\", \"name\", \"name\", \"name\", \"name\", \"name\", \"name\", \"name\", \"natural\", \"natural\", \"natural\", \"natural\", \"need\", \"need\", \"need\", \"need\", \"need\", \"need\", \"new\", \"news\", \"news\", \"news\", \"news\", \"news\", \"newswire\", \"next\", \"next\", \"next\", \"next\", \"next\", \"next\", \"nondeliverable\", \"note\", \"note\", \"note\", \"note\", \"note\", \"note\", \"note\", \"notice\", \"notice\", \"notice\", \"number\", \"number\", \"number\", \"number\", \"number\", \"number\", \"number\", \"number\", \"number\", \"oblige\", \"obvious\", \"officer\", \"officer\", \"opportunity\", \"opportunity\", \"opportunity\", \"opportunity\", \"option\", \"option\", \"option\", \"option\", \"option\", \"ordinance\", \"outflow\", \"outlier\", \"outlook\", \"overall\", \"overall\", \"overall\", \"overdue\", \"overhead\", \"overnight\", \"overnight\", \"ownership\", \"package\", \"package\", \"page\", \"page\", \"page\", \"page\", \"page\", \"pain\", \"panel\", \"panel\", \"parking\", \"participant\", \"participant\", \"participant\", \"participate\", \"partner\", \"partner\", \"partner\", \"partnership\", \"partnership\", \"party\", \"party\", \"password\", \"password\", \"past\", \"past\", \"patti\", \"payment\", \"payment\", \"payment\", \"penny\", \"percent\", \"percent\", \"percent\", \"permission\", \"permission\", \"permit\", \"person\", \"person\", \"person\", \"phillip\", \"phillip\", \"phillip\", \"phillip\", \"phillip\", \"phillip\", \"phillip\", \"phillip\", \"phillip\", \"phillip\", \"physical\", \"physical\", \"physical\", \"physicalfinancail\", \"physicalfinancial\", \"place\", \"place\", \"place\", \"place\", \"place\", \"place\", \"plan\", \"plan\", \"plan\", \"plan\", \"plan\", \"plan\", \"plan\", \"plan\", \"plan\", \"plant\", \"plant\", \"plant\", \"plant\", \"play\", \"point\", \"point\", \"point\", \"point\", \"point\", \"point\", \"point\", \"point\", \"point\", \"pool\", \"porch\", \"portrait\", \"position\", \"position\", \"position\", \"possible\", \"possible\", \"possible\", \"possible\", \"possible\", \"posting\", \"postmastercaprocknet\", \"pound\", \"pound\", \"power\", \"power\", \"power\", \"power\", \"power\", \"power\", \"premier\", \"premium\", \"presence\", \"presenter\", \"presold\", \"price\", \"price\", \"price\", \"price\", \"price\", \"price\", \"price\", \"price\", \"price\", \"print\", \"print\", \"print\", \"privilege\", \"privilege\", \"procedure\", \"proceeding\", \"professional\", \"professional\", \"professional\", \"professional\", \"profile\", \"profit\", \"profit\", \"profit\", \"profit\", \"profit\", \"profit\", \"program\", \"program\", \"program\", \"program\", \"program\", \"program\", \"project\", \"project\", \"project\", \"project\", \"project\", \"property\", \"property\", \"property\", \"property\", \"prudency\", \"question\", \"question\", \"question\", \"question\", \"question\", \"question\", \"question\", \"question\", \"question\", \"rack\", \"rate\", \"rate\", \"rate\", \"rate\", \"rate\", \"rate\", \"rater\", \"ready\", \"ready\", \"ready\", \"ready\", \"recipient\", \"recipient\", \"recourse\", \"reduction\", \"reduction\", \"referenced\", \"region\", \"region\", \"region\", \"regret\", \"regular\", \"regulatorylegislative\", \"reimbursement\", \"reliability\", \"reliability\", \"remote\", \"rent\", \"rent\", \"rent\", \"rent\", \"rent\", \"rentable\", \"rental\", \"rental\", \"report\", \"report\", \"report\", \"report\", \"report\", \"report\", \"request\", \"request\", \"request\", \"request\", \"requirement\", \"requirement\", \"requirement\", \"requirement\", \"requirement\", \"resistance\", \"resource\", \"resource\", \"resource\", \"resource\", \"responsible\", \"responsible\", \"resume\", \"resume\", \"retention\", \"return\", \"return\", \"return\", \"return\", \"return\", \"reveal\", \"reviseadd\", \"right\", \"right\", \"right\", \"right\", \"right\", \"right\", \"right\", \"risk\", \"risk\", \"risk\", \"risk\", \"risk\", \"rock\", \"roof\", \"roof\", \"room\", \"room\", \"room\", \"rotation\", \"rowscolumn\", \"royer\", \"sabey\", \"save\", \"scope\", \"scope\", \"screen\", \"screen\", \"screen\", \"seattle\", \"second\", \"second\", \"second\", \"second\", \"second\", \"selection\", \"server\", \"server\", \"service\", \"service\", \"service\", \"service\", \"service\", \"service\", \"service\", \"service\", \"several\", \"several\", \"several\", \"several\", \"severe\", \"shockmachine\", \"shockwavecom\", \"side\", \"side\", \"side\", \"side\", \"side\", \"side\", \"siding\", \"signature\", \"silent\", \"simple\", \"simple\", \"site\", \"site\", \"site\", \"site\", \"site\", \"site\", \"sketch\", \"ski\", \"slowdown\", \"small\", \"small\", \"small\", \"small\", \"smart\", \"socal\", \"socal\", \"socal\", \"socal\", \"socal\", \"soil\", \"source\", \"source\", \"source\", \"source\", \"southeast\", \"space\", \"space\", \"space\", \"space\", \"space\", \"sparkplug\", \"spokesman\", \"spot\", \"spot\", \"staff\", \"staff\", \"star\", \"state\", \"state\", \"state\", \"stimulate\", \"storage\", \"storage\", \"storage\", \"storm\", \"strategy\", \"strategy\", \"strategy\", \"strategy\", \"strong\", \"strong\", \"strong\", \"strong\", \"strong\", \"strong\", \"strong\", \"structure\", \"structure\", \"structure\", \"structure\", \"study\", \"study\", \"study\", \"stupid\", \"style\", \"style\", \"sub\", \"subcontractor\", \"subject\", \"subject\", \"subject\", \"subject\", \"subject\", \"subject\", \"subject\", \"subject\", \"subject\", \"subpoena\", \"subscription\", \"summer\", \"summer\", \"summer\", \"summer\", \"supply\", \"supply\", \"supply\", \"supply\", \"supply\", \"sure\", \"sure\", \"sure\", \"sure\", \"sure\", \"sure\", \"survey\", \"survey\", \"survey\", \"survey\", \"surveyinformation\", \"swap\", \"swap\", \"sync\", \"tariff\", \"taxexempt\", \"team\", \"team\", \"team\", \"team\", \"team\", \"team\", \"temperature\", \"temperature\", \"temperature\", \"tenant\", \"tenant\", \"testing\", \"thank\", \"thank\", \"thank\", \"thank\", \"thank\", \"thank\", \"thing\", \"thing\", \"thing\", \"thing\", \"thing\", \"thing\", \"throughput\", \"ticker\", \"ticket\", \"ticket\", \"tile\", \"time\", \"time\", \"time\", \"time\", \"time\", \"time\", \"time\", \"time\", \"time\", \"today\", \"today\", \"today\", \"today\", \"today\", \"today\", \"today\", \"tomorrow\", \"tomorrow\", \"tomorrow\", \"tomorrow\", \"tomorrow\", \"tomorrow\", \"tor\", \"total\", \"total\", \"total\", \"total\", \"total\", \"total\", \"total\", \"track\", \"track\", \"track\", \"tract\", \"trade\", \"trade\", \"trade\", \"trade\", \"trader\", \"trader\", \"trader\", \"trading\", \"trading\", \"trading\", \"trading\", \"trading\", \"trading\", \"traffic\", \"training\", \"transmission\", \"transport\", \"transport\", \"transport\", \"transport\", \"transwestern\", \"travel\", \"trend\", \"trend\", \"trim\", \"trip\", \"trip\", \"type\", \"type\", \"type\", \"type\", \"type\", \"unit\", \"unit\", \"unit\", \"unit\", \"unit\", \"unit\", \"unit\", \"university\", \"unplanned\", \"unplanned\", \"unsubscribe\", \"unsubscribe\", \"unsubscribe\", \"unusual\", \"unwilling\", \"unwind\", \"upcoming\", \"user\", \"user\", \"user\", \"user\", \"utility\", \"utility\", \"utility\", \"utility\", \"utility\", \"utility\", \"utility\", \"utility\", \"utilityxls\", \"vacation\", \"vacation\", \"vacation\", \"vague\", \"valuation\", \"valuation\", \"valuation\", \"value\", \"value\", \"value\", \"value\", \"value\", \"value\", \"value\", \"value\", \"valve\", \"vendor\", \"vision\", \"wade\", \"wade\", \"waiting\", \"warm\", \"warp\", \"weather\", \"weather\", \"weather\", \"website\", \"website\", \"website\", \"week\", \"week\", \"week\", \"week\", \"week\", \"week\", \"week\", \"week\", \"weekend\", \"weekend\", \"weekly\", \"weekly\", \"western\", \"western\", \"wholesale\", \"wholesale\", \"wholesale\", \"wholesale\", \"wife\", \"wire\", \"wiring\", \"withdrawal\", \"work\", \"work\", \"work\", \"work\", \"work\", \"work\", \"work\", \"work\", \"work\", \"work\", \"working\", \"yard\", \"year\", \"year\", \"year\", \"year\", \"year\", \"year\", \"year\", \"year\", \"year\", \"year\", \"yesterday\", \"yesterday\", \"yesterday\", \"yesterday\"]}, \"R\": 30, \"lambda.step\": 0.01, \"plot.opts\": {\"xlab\": \"PC1\", \"ylab\": \"PC2\"}, \"topic.order\": [6, 5, 3, 1, 2, 4, 7, 10, 8, 9]};\n",
              "\n",
              "function LDAvis_load_lib(url, callback){\n",
              "  var s = document.createElement('script');\n",
              "  s.src = url;\n",
              "  s.async = true;\n",
              "  s.onreadystatechange = s.onload = callback;\n",
              "  s.onerror = function(){console.warn(\"failed to load library \" + url);};\n",
              "  document.getElementsByTagName(\"head\")[0].appendChild(s);\n",
              "}\n",
              "\n",
              "if(typeof(LDAvis) !== \"undefined\"){\n",
              "   // already loaded: just create the visualization\n",
              "   !function(LDAvis){\n",
              "       new LDAvis(\"#\" + \"ldavis_el8571397986435799841366949652\", ldavis_el8571397986435799841366949652_data);\n",
              "   }(LDAvis);\n",
              "}else if(typeof define === \"function\" && define.amd){\n",
              "   // require.js is available: use it to load d3/LDAvis\n",
              "   require.config({paths: {d3: \"https://d3js.org/d3.v5\"}});\n",
              "   require([\"d3\"], function(d3){\n",
              "      window.d3 = d3;\n",
              "      LDAvis_load_lib(\"https://cdn.jsdelivr.net/gh/bmabey/pyLDAvis@3.3.1/pyLDAvis/js/ldavis.v3.0.0.js\", function(){\n",
              "        new LDAvis(\"#\" + \"ldavis_el8571397986435799841366949652\", ldavis_el8571397986435799841366949652_data);\n",
              "      });\n",
              "    });\n",
              "}else{\n",
              "    // require.js not available: dynamically load d3 & LDAvis\n",
              "    LDAvis_load_lib(\"https://d3js.org/d3.v5.js\", function(){\n",
              "         LDAvis_load_lib(\"https://cdn.jsdelivr.net/gh/bmabey/pyLDAvis@3.3.1/pyLDAvis/js/ldavis.v3.0.0.js\", function(){\n",
              "                 new LDAvis(\"#\" + \"ldavis_el8571397986435799841366949652\", ldavis_el8571397986435799841366949652_data);\n",
              "            })\n",
              "         });\n",
              "}\n",
              "</script>"
            ],
            "text/plain": [
              "PreparedData(topic_coordinates=              x         y  topics  cluster       Freq\n",
              "topic                                                \n",
              "5     -0.305923  0.051779       1        1  14.962979\n",
              "4      0.040894  0.092018       2        1  12.807197\n",
              "2      0.112091  0.132755       3        1  12.294272\n",
              "0      0.015301  0.136897       4        1  11.868462\n",
              "1     -0.060026 -0.035483       5        1  11.315811\n",
              "3      0.091398 -0.045663       6        1  11.172197\n",
              "6      0.062645 -0.089580       7        1   7.413009\n",
              "9     -0.086296 -0.139240       8        1   6.560392\n",
              "7      0.077482 -0.153000       9        1   5.807475\n",
              "8      0.052433  0.049517      10        1   5.798208, topic_info=            Term        Freq       Total Category  logprob  loglift\n",
              "430         loan  240.000000  240.000000  Default  30.0000  30.0000\n",
              "210     position  170.000000  170.000000  Default  29.0000  29.0000\n",
              "92         price  285.000000  285.000000  Default  28.0000  28.0000\n",
              "59          cost  216.000000  216.000000  Default  27.0000  27.0000\n",
              "91         power  189.000000  189.000000  Default  26.0000  26.0000\n",
              "..           ...         ...         ...      ...      ...      ...\n",
              "24          time   10.707784  186.928315  Topic10  -5.0436  -0.0121\n",
              "10       meeting    9.563596  173.691245  Topic10  -5.1566  -0.0517\n",
              "238        total    9.194492   77.418338  Topic10  -5.1959   0.7170\n",
              "277  information    9.187055  113.878991  Topic10  -5.1968   0.3303\n",
              "154        daily    8.959588   65.317694  Topic10  -5.2218   0.8611\n",
              "\n",
              "[671 rows x 6 columns], token_table=      Topic      Freq       Term\n",
              "term                            \n",
              "2845      1  0.959505       09go\n",
              "2848      1  0.987462    09image\n",
              "267      10  0.700874    12month\n",
              "1622      8  0.918355       20th\n",
              "309       3  0.874290        470\n",
              "...     ...       ...        ...\n",
              "111      10  0.128858       year\n",
              "347       3  0.699192  yesterday\n",
              "347       4  0.195774  yesterday\n",
              "347       5  0.055935  yesterday\n",
              "347       7  0.027968  yesterday\n",
              "\n",
              "[1442 rows x 3 columns], R=30, lambda_step=0.01, plot_opts={'xlab': 'PC1', 'ylab': 'PC2'}, topic_order=[6, 5, 3, 1, 2, 4, 7, 10, 8, 9])"
            ]
          },
          "metadata": {},
          "execution_count": 96
        }
      ]
    },
    {
      "cell_type": "markdown",
      "metadata": {
        "id": "vKBwgm7ZfRhD"
      },
      "source": [
        "#### **ASSESSING PERFORMANCE OF LDA MODEL.**"
      ]
    },
    {
      "cell_type": "code",
      "metadata": {
        "colab": {
          "base_uri": "https://localhost:8080/"
        },
        "id": "Dl0UpjnjWm2y",
        "outputId": "cc9f4da0-9c06-41ac-d715-5a20f56513db"
      },
      "source": [
        "print('\\nPerplexity: ', lda_model.log_perplexity(doc_term_matrix,total_docs=10000))  # a measure of how good the model is. lower the better.\n",
        "\n",
        "# Compute Coherence Score\n",
        "from gensim.models.coherencemodel import CoherenceModel\n",
        "coherence_model_lda = CoherenceModel(model=lda_model, texts=tokenized_reviews, dictionary=dictionary , coherence='c_v')\n",
        "coherence_lda = coherence_model_lda.get_coherence()\n",
        "print('\\nCoherence Score: ', coherence_lda)"
      ],
      "execution_count": 97,
      "outputs": [
        {
          "output_type": "stream",
          "name": "stdout",
          "text": [
            "\n",
            "Perplexity:  -6.32472371354413\n",
            "\n",
            "Coherence Score:  0.33164464540115723\n"
          ]
        }
      ]
    },
    {
      "cell_type": "code",
      "metadata": {
        "colab": {
          "base_uri": "https://localhost:8080/",
          "height": 529
        },
        "id": "tKGXtTBPo8fm",
        "outputId": "e1362a32-ee5c-4a32-d661-d57888d77fd2"
      },
      "source": [
        "df.head(10)"
      ],
      "execution_count": 104,
      "outputs": [
        {
          "output_type": "execute_result",
          "data": {
            "text/html": [
              "<div>\n",
              "<style scoped>\n",
              "    .dataframe tbody tr th:only-of-type {\n",
              "        vertical-align: middle;\n",
              "    }\n",
              "\n",
              "    .dataframe tbody tr th {\n",
              "        vertical-align: top;\n",
              "    }\n",
              "\n",
              "    .dataframe thead th {\n",
              "        text-align: right;\n",
              "    }\n",
              "</style>\n",
              "<table border=\"1\" class=\"dataframe\">\n",
              "  <thead>\n",
              "    <tr style=\"text-align: right;\">\n",
              "      <th></th>\n",
              "      <th>Date</th>\n",
              "      <th>Sender</th>\n",
              "      <th>Receiver</th>\n",
              "      <th>Subject</th>\n",
              "      <th>content</th>\n",
              "      <th>Num_words_content</th>\n",
              "    </tr>\n",
              "  </thead>\n",
              "  <tbody>\n",
              "    <tr>\n",
              "      <th>0</th>\n",
              "      <td>2001-05-14</td>\n",
              "      <td>(phillip.allen@enron.com)</td>\n",
              "      <td>(tim.belden@enron.com)</td>\n",
              "      <td>NaN</td>\n",
              "      <td>forecast</td>\n",
              "      <td>2</td>\n",
              "    </tr>\n",
              "    <tr>\n",
              "      <th>1</th>\n",
              "      <td>2001-05-04</td>\n",
              "      <td>(phillip.allen@enron.com)</td>\n",
              "      <td>(john.lavorato@enron.com)</td>\n",
              "      <td>Re:</td>\n",
              "      <td>traveling business meeting takes trip especial...</td>\n",
              "      <td>79</td>\n",
              "    </tr>\n",
              "    <tr>\n",
              "      <th>2</th>\n",
              "      <td>2000-10-18</td>\n",
              "      <td>(phillip.allen@enron.com)</td>\n",
              "      <td>(leah.arsdall@enron.com)</td>\n",
              "      <td>Re: test</td>\n",
              "      <td>test successful</td>\n",
              "      <td>2</td>\n",
              "    </tr>\n",
              "    <tr>\n",
              "      <th>3</th>\n",
              "      <td>2000-10-23</td>\n",
              "      <td>(phillip.allen@enron.com)</td>\n",
              "      <td>(randall.gay@enron.com)</td>\n",
              "      <td>NaN</td>\n",
              "      <td>randy send schedule salary level everyone sche...</td>\n",
              "      <td>18</td>\n",
              "    </tr>\n",
              "    <tr>\n",
              "      <th>4</th>\n",
              "      <td>2000-08-31</td>\n",
              "      <td>(phillip.allen@enron.com)</td>\n",
              "      <td>(greg.piper@enron.com)</td>\n",
              "      <td>Re: Hello</td>\n",
              "      <td>lets shoot tuesday</td>\n",
              "      <td>3</td>\n",
              "    </tr>\n",
              "    <tr>\n",
              "      <th>5</th>\n",
              "      <td>2000-08-31</td>\n",
              "      <td>(phillip.allen@enron.com)</td>\n",
              "      <td>(greg.piper@enron.com)</td>\n",
              "      <td>Re: Hello</td>\n",
              "      <td>greg either next tuesday thursday phillip</td>\n",
              "      <td>7</td>\n",
              "    </tr>\n",
              "    <tr>\n",
              "      <th>6</th>\n",
              "      <td>2000-08-22</td>\n",
              "      <td>(phillip.allen@enron.com)</td>\n",
              "      <td>(john.shafer@enron.com, david.l.johnson@enron....</td>\n",
              "      <td>NaN</td>\n",
              "      <td>please following distribution list updates phi...</td>\n",
              "      <td>26</td>\n",
              "    </tr>\n",
              "    <tr>\n",
              "      <th>7</th>\n",
              "      <td>2000-07-14</td>\n",
              "      <td>(phillip.allen@enron.com)</td>\n",
              "      <td>(joyce.teixeira@enron.com)</td>\n",
              "      <td>Re: PRC review - phone calls</td>\n",
              "      <td>morning</td>\n",
              "      <td>2</td>\n",
              "    </tr>\n",
              "    <tr>\n",
              "      <th>8</th>\n",
              "      <td>2000-10-17</td>\n",
              "      <td>(phillip.allen@enron.com)</td>\n",
              "      <td>(mark.scott@enron.com)</td>\n",
              "      <td>Re: High Speed Internet Access</td>\n",
              "      <td>login pallen ke9davis dont think required stat...</td>\n",
              "      <td>11</td>\n",
              "    </tr>\n",
              "    <tr>\n",
              "      <th>9</th>\n",
              "      <td>2000-10-16</td>\n",
              "      <td>(phillip.allen@enron.com)</td>\n",
              "      <td>(zimam@enron.com)</td>\n",
              "      <td>FW: fixed forward or other Collar floor gas pr...</td>\n",
              "      <td>forwarded phillip allenhouect buckner buck buc...</td>\n",
              "      <td>175</td>\n",
              "    </tr>\n",
              "  </tbody>\n",
              "</table>\n",
              "</div>"
            ],
            "text/plain": [
              "        Date  ... Num_words_content\n",
              "0 2001-05-14  ...                 2\n",
              "1 2001-05-04  ...                79\n",
              "2 2000-10-18  ...                 2\n",
              "3 2000-10-23  ...                18\n",
              "4 2000-08-31  ...                 3\n",
              "5 2000-08-31  ...                 7\n",
              "6 2000-08-22  ...                26\n",
              "7 2000-07-14  ...                 2\n",
              "8 2000-10-17  ...                11\n",
              "9 2000-10-16  ...               175\n",
              "\n",
              "[10 rows x 6 columns]"
            ]
          },
          "metadata": {},
          "execution_count": 104
        }
      ]
    },
    {
      "cell_type": "markdown",
      "metadata": {
        "id": "gI-Vbv6xpASA"
      },
      "source": [
        "#### **POTENTIAL USE CASES OF THIS DATASET.**"
      ]
    },
    {
      "cell_type": "markdown",
      "metadata": {
        "id": "AHwVoSiVyfw4"
      },
      "source": [
        "##### **1. For marketing and product analytics domains, this dataset can be very useful in getting to know from/to which email ID the most email traffic flows.**\n",
        "\n",
        "##### **2. As done with the topic modelling case in the case of content, the same can be applied to the subject of the email and in this way, we can get a better understanding of the reasons for the sent emails.**\n",
        "\n",
        "##### **3. For predictive analytics purposes, we can maybe segregate the number of emails (sender/receiver) into fewer categories based on the highest frequencies. These can be used as the dependent variable which can be predicted via the columns of subject and content using different classification algorithms like Naive Bayes, Logistic Regression, etc. after appropriate NLP-based preprocessing techniques have been implemented like TF-IDF, Word2Vec.**"
      ]
    },
    {
      "cell_type": "code",
      "metadata": {
        "id": "MnFf5rCzpGtH"
      },
      "source": [
        ""
      ],
      "execution_count": null,
      "outputs": []
    },
    {
      "cell_type": "code",
      "metadata": {
        "id": "Nbzulwxho-Gg"
      },
      "source": [
        ""
      ],
      "execution_count": null,
      "outputs": []
    }
  ]
}